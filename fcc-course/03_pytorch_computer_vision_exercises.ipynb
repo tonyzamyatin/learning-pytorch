{
 "nbformat": 4,
 "nbformat_minor": 0,
 "metadata": {
  "colab": {
   "name": "03_pytorch_computer_vision_exercises.ipynb",
   "provenance": [],
   "collapsed_sections": [],
   "authorship_tag": "ABX9TyMUsDcN/+FAm9Pf7Ifqs6AZ",
   "include_colab_link": true
  },
  "kernelspec": {
   "name": "python3",
   "display_name": "Python 3 (ipykernel)",
   "language": "python"
  },
  "language_info": {
   "name": "python"
  },
  "accelerator": "GPU"
 },
 "cells": [
  {
   "cell_type": "markdown",
   "metadata": {
    "id": "view-in-github",
    "colab_type": "text"
   },
   "source": [
    "<a href=\"https://colab.research.google.com/github/mrdbourke/pytorch-deep-learning/blob/main/extras/exercises/03_pytorch_computer_vision_exercises.ipynb\" target=\"_parent\"><img src=\"https://colab.research.google.com/assets/colab-badge.svg\" alt=\"Open In Colab\"/></a>"
   ]
  },
  {
   "cell_type": "markdown",
   "source": [
    "# 03. PyTorch Computer Vision Exercises\n",
    "\n",
    "The following is a collection of exercises based on computer vision fundamentals in PyTorch.\n",
    "\n",
    "They're a bunch of fun.\n",
    "\n",
    "You're going to get to write plenty of code!\n",
    "\n",
    "## Resources\n",
    "\n",
    "1. These exercises are based on [notebook 03 of the Learn PyTorch for Deep Learning course](https://www.learnpytorch.io/03_pytorch_computer_vision/). \n",
    "2. See a live [walkthrough of the solutions (errors and all) on YouTube](https://youtu.be/_PibmqpEyhA). \n",
    "  * **Note:** Going through these exercises took me just over 3 hours of solid coding, so you should expect around the same.\n",
    "3. See [other solutions on the course GitHub](https://github.com/mrdbourke/pytorch-deep-learning/tree/main/extras/solutions)."
   ],
   "metadata": {
    "id": "Vex99np2wFVt"
   }
  },
  {
   "cell_type": "code",
   "source": [
    "import copy\n",
    "\n",
    "import torchmetrics\n",
    "# Check for GPU\n",
    "!nvidia-smi"
   ],
   "metadata": {
    "colab": {
     "base_uri": "https://localhost:8080/"
    },
    "id": "GaeYzOTLwWh2",
    "outputId": "17dd5453-9639-4b01-aa18-7ddbfd5c3253",
    "ExecuteTime": {
     "end_time": "2024-07-30T07:07:51.340794Z",
     "start_time": "2024-07-30T07:07:51.236421Z"
    }
   },
   "outputs": [
    {
     "name": "stderr",
     "output_type": "stream",
     "text": [
      "Der Befehl \"nvidia-smi\" ist entweder falsch geschrieben oder\n",
      "konnte nicht gefunden werden.\n"
     ]
    }
   ],
   "execution_count": 1
  },
  {
   "cell_type": "code",
   "source": [
    "# Import torch\n",
    "import torch\n",
    "\n",
    "# Exercises require PyTorch > 1.10.0\n",
    "print(torch.__version__)\n",
    "\n",
    "# TODO: Setup device agnostic code\n",
    "device =  \"cuda\" if torch.cuda.is_available() else \"cpu\""
   ],
   "metadata": {
    "colab": {
     "base_uri": "https://localhost:8080/",
     "height": 53
    },
    "id": "DNwZLMbCzJLk",
    "outputId": "9c150c50-a092-4f34-9d33-b45247fb080d",
    "ExecuteTime": {
     "end_time": "2024-07-30T08:58:50.710032Z",
     "start_time": "2024-07-30T08:58:48.318029Z"
    }
   },
   "outputs": [
    {
     "name": "stdout",
     "output_type": "stream",
     "text": [
      "2.3.1\n"
     ]
    }
   ],
   "execution_count": 1
  },
  {
   "metadata": {},
   "cell_type": "code",
   "outputs": [],
   "execution_count": null,
   "source": [
    "import requests\n",
    "from pathlib import Path\n",
    "\n",
    "if Path(\"helper_functions.py\").is_file():\n",
    "    print(\"Downloading helper_functions.py\")\n",
    "    request = requests.get(\"https://raw.githubusercontent.com/tonyzamyatin/learning-pytorch/master/fcc-course/helper_functions.py\")\n",
    "    with open(\"helper_functions.py\", \"wb\") as f:\n",
    "        f.write(request.content)"
   ]
  },
  {
   "cell_type": "markdown",
   "source": [
    "## 1. What are 3 areas in industry where computer vision is currently being used?"
   ],
   "metadata": {
    "id": "FSFX7tc1w-en"
   }
  },
  {
   "metadata": {},
   "cell_type": "markdown",
   "source": [
    "The computer vision application that comes first to my mind is **autonomous driving** which involves everything from image segmentation to \n",
    "object detection to object classification and much more. Recently, I have heard of computer vision applications in **agriculture** such as weed \n",
    "detection, yield \n",
    "estimation through fruit counting, and dara collection and decision-making in livestock farming. However, there are many more fields that employ \n",
    "computer \n",
    "vision, like quality inspection and assembly in **manufacturing**, disease diagnosis from medical images in **health care**, **security cameras**, \n",
    "automated content \n",
    "moderation on **social media**. "
   ]
  },
  {
   "cell_type": "markdown",
   "source": [
    "## 2. Search \"what is overfitting in machine learning\" and write down a sentence about what you find. "
   ],
   "metadata": {
    "id": "oBK-WI6YxDYa"
   }
  },
  {
   "metadata": {},
   "cell_type": "markdown",
   "source": [
    "Overfitting is the phenomenon where a model learns patterns in the data that are specific to the training dataset (i.e., noise). As a result, the \n",
    "model does not generalize well to unseen examples from the *true* real world distribution, even if it performs well on the training dataset. This \n",
    "is the reason why we always split our dataset into a training and a test set. The test set contains unseen examples to test how well the model \n",
    "generalizes to new data. However, there have been countless examples of ML models achieving high scores on the test sets and still performing \n",
    "poorly in deployment. This can happen when the dataset (sample) that we worked with is not representative of the real data distribution. In some \n",
    "cases, the data distribution can change over time which necessitates constant retraining of the model.\n",
    "The data issue is at the core of machine learning. "
   ]
  },
  {
   "cell_type": "markdown",
   "source": [
    "## 3. Search \"ways to prevent overfitting in machine learning\", write down 3 of the things you find and a sentence about each. \n",
    "> **Note:** there are lots of these, so don't worry too much about all of them, just pick 3 and start with those."
   ],
   "metadata": {
    "id": "XeYFEqw8xK26"
   }
  },
  {
   "metadata": {},
   "cell_type": "markdown",
   "source": [
    "1. **Proper testing** through the appropriate dataset splitting and *cross-validation*.\n",
    "2. **Regularization techniques** prevent the model from becoming overly complex (model complexity correlates with overfitting). One regularization \n",
    "technique for neural networks is adding a *regularization term* to the loss function that penalizes model complexity (e.g., L1 or L2 regularization).\n",
    "3. **Data augmentation** is the process of producing new samples from existing data by applying random transformations to it (e.g., in image \n",
    "classification one can generate new samples by randomly rotating, flipping, or zooming into images.) \n",
    "4. **Feature selection** can reduce the risk of overfitting by eliminating redundant or meaningless features (e.g., timestamps).\n",
    "5. **Ensemble learning** aims to eliminate overfitting and boost performance by combining predictions from different models. Random forest is a \n",
    "powerful example of an ensemble method that builds multiple decision trees on subsets of the data.\n",
    "6. **Dropout** layers in neural networks randomly deactivate a subset of neurons during training to avoid over-reliance on specific neurons \n",
    "(that is, latent features inside the network). The network is trained on the remaining active neurons, while random neurons are set to zero during \n",
    "each training iteration. In a sense, you train an ensemble of sparse networks and the dense network averages over the \n",
    "prediction of these sparse networks.\n",
    "7. **Early stopping** aims to reduce the risk of overfitting by stopping training once the model has converged (i.e., the validation loss does not \n",
    "improve after a number of consecutive epochs).\n",
    "8. **Reduce model complexity** by using a simpler model architecture (e.g., fewer layers or a simpler model altogether).\n",
    "9. **Increasing training data** increases the probability that the sample is representative of the real data distribution (similar to law of large \n",
    "numbers) and \n",
    "hence \n",
    "moderates the \n",
    "risk of overfitting.\n",
    "10. **Diverse datasets** which feature all kinds of examples are just as important as large datasets (e.g., both positive and negative examples and\n",
    " examples of all classes). "
   ]
  },
  {
   "cell_type": "markdown",
   "source": [
    "## 4. Spend 20-minutes reading and clicking through the [CNN Explainer website](https://poloclub.github.io/cnn-explainer/).\n",
    "\n",
    "* Upload your own example image using the \"upload\" button on the website and see what happens in each layer of a CNN as your image passes through it."
   ],
   "metadata": {
    "id": "DKdEEFEqxM-8"
   }
  },
  {
   "cell_type": "markdown",
   "source": [
    "## 5. Load the [`torchvision.datasets.MNIST()`](https://pytorch.org/vision/stable/generated/torchvision.datasets.MNIST.html#torchvision.datasets.MNIST) train and test datasets."
   ],
   "metadata": {
    "id": "lvf-3pODxXYI"
   }
  },
  {
   "cell_type": "code",
   "source": [
    "from torchvision.transforms import ToTensor\n",
    "import torchvision\n",
    "\n",
    "train_data = torchvision.datasets.MNIST(\n",
    "    root=\"data\",\n",
    "    train=True,\n",
    "    transform=ToTensor(),\n",
    "    download=True\n",
    ")\n",
    "\n",
    "test_data = torchvision.datasets.MNIST(\n",
    "    root=\"data\",\n",
    "    train=False,\n",
    "    transform=ToTensor(),\n",
    "    download=True\n",
    ")"
   ],
   "metadata": {
    "id": "SHjeuN81bHza",
    "ExecuteTime": {
     "end_time": "2024-07-30T18:08:23.745757Z",
     "start_time": "2024-07-30T18:08:23.623194Z"
    }
   },
   "outputs": [],
   "execution_count": 55
  },
  {
   "cell_type": "markdown",
   "source": [
    "## 6. Visualize at least 5 different samples of the MNIST training dataset."
   ],
   "metadata": {
    "id": "qxZW-uAbxe_F"
   }
  },
  {
   "metadata": {
    "ExecuteTime": {
     "end_time": "2024-07-30T09:02:50.441398Z",
     "start_time": "2024-07-30T09:02:50.423880Z"
    }
   },
   "cell_type": "code",
   "source": [
    "img, label = train_data[0]\n",
    "img.shape"
   ],
   "outputs": [
    {
     "data": {
      "text/plain": [
       "torch.Size([1, 28, 28])"
      ]
     },
     "execution_count": 6,
     "metadata": {},
     "output_type": "execute_result"
    }
   ],
   "execution_count": 6
  },
  {
   "metadata": {
    "ExecuteTime": {
     "end_time": "2024-07-30T18:08:30.692209Z",
     "start_time": "2024-07-30T18:08:30.683009Z"
    }
   },
   "cell_type": "code",
   "source": "len(train_data), len(test_data)",
   "outputs": [
    {
     "data": {
      "text/plain": [
       "(60000, 10000)"
      ]
     },
     "execution_count": 56,
     "metadata": {},
     "output_type": "execute_result"
    }
   ],
   "execution_count": 56
  },
  {
   "metadata": {
    "ExecuteTime": {
     "end_time": "2024-07-30T09:03:40.909395Z",
     "start_time": "2024-07-30T09:03:40.889095Z"
    }
   },
   "cell_type": "code",
   "source": [
    "class_names = train_data.classes\n",
    "class_names"
   ],
   "outputs": [
    {
     "data": {
      "text/plain": [
       "['0 - zero',\n",
       " '1 - one',\n",
       " '2 - two',\n",
       " '3 - three',\n",
       " '4 - four',\n",
       " '5 - five',\n",
       " '6 - six',\n",
       " '7 - seven',\n",
       " '8 - eight',\n",
       " '9 - nine']"
      ]
     },
     "execution_count": 8,
     "metadata": {},
     "output_type": "execute_result"
    }
   ],
   "execution_count": 8
  },
  {
   "cell_type": "code",
   "source": [
    "import matplotlib.pyplot as plt\n",
    "\n",
    "torch.manual_seed(42)\n",
    "\n",
    "fig = plt.figure(figsize=(9, 9))\n",
    "row, col = 4, 4\n",
    "for i in range(1, row * col + 1):\n",
    "    rand_idx = torch.randint(low=0, high=len(train_data), size=[1]).item()\n",
    "    img, label = train_data[rand_idx]\n",
    "    fig.add_subplot(row, col, i)\n",
    "    plt.imshow(img.squeeze(), cmap=\"gray\")\n",
    "    plt.title(class_names[label])\n",
    "    plt.axis(False)"
   ],
   "metadata": {
    "id": "QVFsYi1PbItE",
    "ExecuteTime": {
     "end_time": "2024-07-30T09:15:33.749785Z",
     "start_time": "2024-07-30T09:15:31.163062Z"
    }
   },
   "outputs": [
    {
     "data": {
      "text/plain": [
       "<Figure size 900x900 with 16 Axes>"
      ],
      "image/png": "[encoded data removed]"
     },
     "metadata": {},
     "output_type": "display_data"
    }
   ],
   "execution_count": 12
  },
  {
   "cell_type": "markdown",
   "source": "## 7. Turn the MNIST train and test datasets into dataloaders using `torch.utils.data.DataLoader`, set the `batch_size=32`.",
   "metadata": {
    "id": "JAPDzW0wxhi3"
   }
  },
  {
   "cell_type": "code",
   "source": [
    "from torch.utils.data import DataLoader\n",
    "\n",
    "BATCH_SIZE = 32\n",
    "\n",
    "train_data_loader = DataLoader(train_data, batch_size=BATCH_SIZE)\n",
    "test_data_loader = DataLoader(test_data, batch_size=BATCH_SIZE)\n",
    "\n",
    "print(\"Number of training batches:\", len(train_data_loader))\n",
    "print(\"Number of testing batches:\", len(test_data_loader))"
   ],
   "metadata": {
    "id": "ALA6MPcFbJXQ",
    "ExecuteTime": {
     "end_time": "2024-07-30T09:20:48.624015Z",
     "start_time": "2024-07-30T09:20:48.611677Z"
    }
   },
   "outputs": [
    {
     "name": "stdout",
     "output_type": "stream",
     "text": [
      "Number of training batches: 1875\n",
      "Number of testing batches: 313\n"
     ]
    }
   ],
   "execution_count": 17
  },
  {
   "cell_type": "markdown",
   "source": [
    "## 8. Recreate `model_2` used in notebook 03 (the same model from the [CNN Explainer website](https://poloclub.github.io/cnn-explainer/), also known as TinyVGG) capable of fitting on the MNIST dataset."
   ],
   "metadata": {
    "id": "bCCVfXk5xjYS"
   }
  },
  {
   "cell_type": "code",
   "source": [
    "from torch import nn\n",
    "\n",
    "class MNISTCNNModelV0(nn.Module):\n",
    "    \"\"\"\n",
    "    CNN for 28x28 images inspired by TinyVGG.\n",
    "    \"\"\"\n",
    "    def __init__(self, input_size: int, hidden_units: int, output_size: int):\n",
    "        super().__init__()\n",
    "        self.block_1 = nn.Sequential(\n",
    "            nn.Conv2d(in_channels=input_size, out_channels=hidden_units, kernel_size=3, padding=1),\n",
    "            nn.ReLU(),\n",
    "            nn.MaxPool2d(kernel_size=2, stride=2)\n",
    "        )\n",
    "        self.block_2 = nn.Sequential(\n",
    "            nn.Conv2d(in_channels=hidden_units, out_channels=hidden_units, kernel_size=3, padding=1),\n",
    "            nn.ReLU(),\n",
    "            nn.Conv2d(in_channels=hidden_units, out_channels=hidden_units, kernel_size=3, padding=1),\n",
    "            nn.ReLU(),\n",
    "            nn.MaxPool2d(kernel_size=2)     # The default value for stride is kernel_size\n",
    "        )\n",
    "        self.classifier = nn.Sequential(\n",
    "            nn.Flatten(),\n",
    "            nn.Linear(in_features=hidden_units*7*7, out_features=output_size),\n",
    "        )\n",
    "    \n",
    "    def forward(self, x: torch.Tensor) -> torch.Tensor:\n",
    "        return self.classifier(self.block_2(self.block_1(x)))"
   ],
   "metadata": {
    "id": "5IKNF22XbKYS",
    "ExecuteTime": {
     "end_time": "2024-07-30T18:00:29.862820Z",
     "start_time": "2024-07-30T18:00:29.837294Z"
    }
   },
   "outputs": [],
   "execution_count": 42
  },
  {
   "metadata": {
    "ExecuteTime": {
     "end_time": "2024-07-30T10:05:23.335135Z",
     "start_time": "2024-07-30T10:05:23.316341Z"
    }
   },
   "cell_type": "code",
   "source": [
    "model = MNISTCNNModelV0(1, 10, len(class_names))\n",
    "model"
   ],
   "outputs": [
    {
     "data": {
      "text/plain": [
       "MNISTCNNModelV0(\n",
       "  (block_1): Sequential(\n",
       "    (0): Conv2d(1, 10, kernel_size=(3, 3), stride=(1, 1), padding=(1, 1))\n",
       "    (1): ReLU()\n",
       "    (2): MaxPool2d(kernel_size=2, stride=2, padding=0, dilation=1, ceil_mode=False)\n",
       "  )\n",
       "  (block_2): Sequential(\n",
       "    (0): Conv2d(10, 10, kernel_size=(3, 3), stride=(1, 1), padding=(1, 1))\n",
       "    (1): ReLU()\n",
       "    (2): Conv2d(10, 10, kernel_size=(3, 3), stride=(1, 1), padding=(1, 1))\n",
       "    (3): ReLU()\n",
       "    (4): MaxPool2d(kernel_size=2, stride=2, padding=0, dilation=1, ceil_mode=False)\n",
       "  )\n",
       "  (classifier): Sequential(\n",
       "    (0): Flatten(start_dim=1, end_dim=-1)\n",
       "    (1): Linear(in_features=490, out_features=10, bias=True)\n",
       "  )\n",
       ")"
      ]
     },
     "execution_count": 22,
     "metadata": {},
     "output_type": "execute_result"
    }
   ],
   "execution_count": 22
  },
  {
   "metadata": {},
   "cell_type": "markdown",
   "source": [
    "**Note**:\n",
    "- For the first convolutional layer w have one gray scale input channel. Note that the model will learn in_channels * out_channels number of kernels \n",
    "for each convolutional layer.\n",
    "\n",
    "- Since we use padding=1 for the convolutional layers and kernel_size=3 the output of each convolutional layer has the same shape as the input. \n",
    "Since we use a kernel_size and stride of 2 for the max-pooling layers we basically half the side length of the images (compress them to 1/4 of the \n",
    "input size). Since we use two max-pooling layers and expect 28x28 images as inputs, the output of block_2 is a 7x7 images (28 / 2 / 2 = 7). So the \n",
    "input for the linear layer after flattening the image will be 7 \\* 7 \\* hidden_units"
   ]
  },
  {
   "cell_type": "markdown",
   "source": [
    "## 9. Train the model you built in exercise 8. for 5 epochs on CPU and GPU and see how long it takes on each."
   ],
   "metadata": {
    "id": "sf_3zUr7xlhy"
   }
  },
  {
   "cell_type": "code",
   "source": [
    "import torchmetrics\n",
    "import copy\n",
    "from helper_functions import run_epoch, print_eval_metrics\n",
    "from tqdm import tqdm\n",
    "\n",
    "def train_test_loop(model: torch.nn.Module, loss_fn: torch.nn.Module, optimizer: torch.optim.Optimizer, train_data_loader: torch.utils.data\n",
    "                    .DataLoader, test_data_loader: torch.utils.data.DataLoader,\n",
    "                    epochs: int, device: device=\"cpu\", metric_tracker: torchmetrics.MetricTracker=None):\n",
    "    \"\"\"\n",
    "    Training testing loop.\n",
    "    \"\"\"\n",
    "    train_metric_tracker = copy.deepcopy(metric_tracker)\n",
    "    test_metric_tracker = copy.deepcopy(metric_tracker)\n",
    "    for epoch in tqdm(range(epochs)):\n",
    "        print(f\"\\nEPOCH {epoch + 1}\")\n",
    "        print(\"-------------\")\n",
    "        train_loss, train_metric_tracker = run_epoch(model, train_data_loader, loss_fn, metric_tracker, device, optimizer)\n",
    "        computed_train_metrics = train_metric_tracker.compute()\n",
    "        print(\"TRAINING EVAL\")\n",
    "        print_eval_metrics(train_loss, computed_train_metrics)\n",
    "        \n",
    "        test_loss, test_metric_tracker = run_epoch(model, test_data_loader, loss_fn, metric_tracker=test_metric_tracker, device=device)\n",
    "        computed_test_metrics = test_metric_tracker.compute()\n",
    "        print(\"TEST EVAL\")\n",
    "        print_eval_metrics(test_loss, computed_test_metrics)"
   ],
   "metadata": {
    "id": "jSo6vVWFbNLD",
    "ExecuteTime": {
     "end_time": "2024-07-30T10:27:32.148290Z",
     "start_time": "2024-07-30T10:27:32.127127Z"
    }
   },
   "outputs": [],
   "execution_count": 29
  },
  {
   "metadata": {
    "ExecuteTime": {
     "end_time": "2024-07-30T10:21:59.556381Z",
     "start_time": "2024-07-30T10:21:59.535379Z"
    }
   },
   "cell_type": "code",
   "source": [
    "loss_fn = nn.CrossEntropyLoss()\n",
    "optimizer = torch.optim.SGD(params=model.parameters(), lr=0.01, momentum=0.9)"
   ],
   "outputs": [],
   "execution_count": 25
  },
  {
   "metadata": {
    "ExecuteTime": {
     "end_time": "2024-07-30T10:24:00.526640Z",
     "start_time": "2024-07-30T10:24:00.487614Z"
    }
   },
   "cell_type": "code",
   "source": [
    "from torchmetrics import MetricCollection, MetricTracker, Accuracy, Recall, Precision, F1Score, AUROC\n",
    "\n",
    "metrics = MetricCollection({\n",
    "    'accuracy': Accuracy(task=\"multiclass\", num_classes=10, average='macro'),\n",
    "    'recall': Recall(task=\"multiclass\", num_classes=10, average='macro'),\n",
    "    'precision': Precision(task=\"multiclass\", num_classes=10, average='macro'),\n",
    "    'f1_score': F1Score(task=\"multiclass\", num_classes=10, average='macro'),\n",
    "    'auroc': AUROC(task=\"multiclass\", num_classes=10, average='macro')\n",
    "})\n",
    "\n",
    "metric_tracker = MetricTracker(metrics)"
   ],
   "outputs": [],
   "execution_count": 26
  },
  {
   "metadata": {
    "ExecuteTime": {
     "end_time": "2024-07-30T10:29:59.851703Z",
     "start_time": "2024-07-30T10:27:34.115607Z"
    }
   },
   "cell_type": "code",
   "source": [
    "from timeit import default_timer as timer\n",
    "\n",
    "train_time_start_cpu = timer()\n",
    "train_test_loop(model, loss_fn, optimizer, train_data_loader, test_data_loader, epochs=5, device=\"cpu\", metric_tracker=metric_tracker)\n",
    "train_time_end_cpu = timer()"
   ],
   "outputs": [
    {
     "name": "stderr",
     "output_type": "stream",
     "text": [
      "  0%|          | 0/5 [00:00<?, ?it/s]"
     ]
    },
    {
     "name": "stdout",
     "output_type": "stream",
     "text": [
      "\n",
      "EPOCH 1\n",
      "-------------\n",
      "TRAINING EVAL\n",
      "Loss: 0.3053\n",
      "Accuracy: 0.9006\n",
      "Auroc: 0.9941\n",
      "F1_score: 0.9018\n",
      "Precision: 0.9043\n",
      "Recall: 0.9006\n"
     ]
    },
    {
     "name": "stderr",
     "output_type": "stream",
     "text": [
      " 20%|██        | 1/5 [00:29<01:57, 29.38s/it]"
     ]
    },
    {
     "name": "stdout",
     "output_type": "stream",
     "text": [
      "TEST EVAL\n",
      "Loss: 0.1134\n",
      "Accuracy: 0.9623\n",
      "Auroc: 0.9996\n",
      "F1_score: 0.9619\n",
      "Precision: 0.9638\n",
      "Recall: 0.9623\n",
      "\n",
      "EPOCH 2\n",
      "-------------\n",
      "TRAINING EVAL\n",
      "Loss: 0.0744\n",
      "Accuracy: 0.9769\n",
      "Auroc: 0.9995\n",
      "F1_score: 0.9769\n",
      "Precision: 0.9769\n",
      "Recall: 0.9769\n"
     ]
    },
    {
     "name": "stderr",
     "output_type": "stream",
     "text": [
      " 40%|████      | 2/5 [00:57<01:26, 28.87s/it]"
     ]
    },
    {
     "name": "stdout",
     "output_type": "stream",
     "text": [
      "TEST EVAL\n",
      "Loss: 0.0644\n",
      "Accuracy: 0.9788\n",
      "Auroc: 0.9998\n",
      "F1_score: 0.9786\n",
      "Precision: 0.9788\n",
      "Recall: 0.9788\n",
      "\n",
      "EPOCH 3\n",
      "-------------\n",
      "TRAINING EVAL\n",
      "Loss: 0.0565\n",
      "Accuracy: 0.9826\n",
      "Auroc: 0.9997\n",
      "F1_score: 0.9826\n",
      "Precision: 0.9826\n",
      "Recall: 0.9826\n"
     ]
    },
    {
     "name": "stderr",
     "output_type": "stream",
     "text": [
      " 60%|██████    | 3/5 [01:26<00:57, 28.83s/it]"
     ]
    },
    {
     "name": "stdout",
     "output_type": "stream",
     "text": [
      "TEST EVAL\n",
      "Loss: 0.0513\n",
      "Accuracy: 0.9834\n",
      "Auroc: 0.9998\n",
      "F1_score: 0.9833\n",
      "Precision: 0.9833\n",
      "Recall: 0.9834\n",
      "\n",
      "EPOCH 4\n",
      "-------------\n",
      "TRAINING EVAL\n",
      "Loss: 0.0476\n",
      "Accuracy: 0.9854\n",
      "Auroc: 0.9998\n",
      "F1_score: 0.9855\n",
      "Precision: 0.9855\n",
      "Recall: 0.9854\n"
     ]
    },
    {
     "name": "stderr",
     "output_type": "stream",
     "text": [
      " 80%|████████  | 4/5 [01:54<00:28, 28.62s/it]"
     ]
    },
    {
     "name": "stdout",
     "output_type": "stream",
     "text": [
      "TEST EVAL\n",
      "Loss: 0.0470\n",
      "Accuracy: 0.9844\n",
      "Auroc: 0.9999\n",
      "F1_score: 0.9843\n",
      "Precision: 0.9843\n",
      "Recall: 0.9844\n",
      "\n",
      "EPOCH 5\n",
      "-------------\n",
      "TRAINING EVAL\n",
      "Loss: 0.0423\n",
      "Accuracy: 0.9872\n",
      "Auroc: 0.9998\n",
      "F1_score: 0.9872\n",
      "Precision: 0.9872\n",
      "Recall: 0.9872\n"
     ]
    },
    {
     "name": "stderr",
     "output_type": "stream",
     "text": [
      "100%|██████████| 5/5 [02:25<00:00, 29.14s/it]"
     ]
    },
    {
     "name": "stdout",
     "output_type": "stream",
     "text": [
      "TEST EVAL\n",
      "Loss: 0.0430\n",
      "Accuracy: 0.9865\n",
      "Auroc: 0.9999\n",
      "F1_score: 0.9864\n",
      "Precision: 0.9864\n",
      "Recall: 0.9865\n"
     ]
    },
    {
     "name": "stderr",
     "output_type": "stream",
     "text": [
      "\n"
     ]
    }
   ],
   "execution_count": 30
  },
  {
   "cell_type": "markdown",
   "source": "## 10. Make predictions using your trained model and visualize at least 5 of them comparing the prediction to the target label.",
   "metadata": {
    "id": "w1CsHhPpxp1w"
   }
  },
  {
   "metadata": {
    "ExecuteTime": {
     "end_time": "2024-07-30T18:14:21.248365Z",
     "start_time": "2024-07-30T18:14:21.204313Z"
    }
   },
   "cell_type": "code",
   "source": [
    "# Prepare test data\n",
    "X_test = test_data.data.to(device=device).unsqueeze(dim=1).float()\n",
    "y_test = test_data.targets.to(device=device)\n",
    "\n",
    "X_test.shape, y_test.shape"
   ],
   "outputs": [
    {
     "data": {
      "text/plain": [
       "(torch.Size([10000, 1, 28, 28]), torch.Size([10000]))"
      ]
     },
     "execution_count": 64,
     "metadata": {},
     "output_type": "execute_result"
    }
   ],
   "execution_count": 64
  },
  {
   "metadata": {
    "ExecuteTime": {
     "end_time": "2024-07-30T18:14:22.614437Z",
     "start_time": "2024-07-30T18:14:22.593424Z"
    }
   },
   "cell_type": "code",
   "source": "X_test.dtype, y_test.dtype",
   "outputs": [
    {
     "data": {
      "text/plain": [
       "(torch.float32, torch.int64)"
      ]
     },
     "execution_count": 65,
     "metadata": {},
     "output_type": "execute_result"
    }
   ],
   "execution_count": 65
  },
  {
   "cell_type": "code",
   "source": [
    "# Make predictions\n",
    "logits = model(X_test)\n",
    "preds = torch.softmax(logits, dim=1).argmax(dim=1)\n",
    "\n",
    "preds.shape"
   ],
   "metadata": {
    "id": "_YGgZvSobNxu",
    "ExecuteTime": {
     "end_time": "2024-07-30T18:14:31.829168Z",
     "start_time": "2024-07-30T18:14:28.848339Z"
    }
   },
   "outputs": [
    {
     "data": {
      "text/plain": [
       "torch.Size([10000])"
      ]
     },
     "execution_count": 66,
     "metadata": {},
     "output_type": "execute_result"
    }
   ],
   "execution_count": 66
  },
  {
   "metadata": {
    "ExecuteTime": {
     "end_time": "2024-07-30T18:25:47.568714Z",
     "start_time": "2024-07-30T18:25:46.031184Z"
    }
   },
   "cell_type": "code",
   "source": [
    "short_names = [name.split()[0] for name in class_names]\n",
    "\n",
    "fig = plt.figure(figsize=(9, 10))\n",
    "row, col = 4, 4\n",
    "for i in range(1, row * col + 1):\n",
    "    rand_idx = torch.randint(low=0, high=len(test_data), size=[1]).item()\n",
    "    img, label = test_data[rand_idx]\n",
    "    pred = preds[rand_idx]\n",
    "    fig.add_subplot(row, col, i)\n",
    "    plt.imshow(img.squeeze(), cmap=\"gray\")\n",
    "    color = \"green\" if pred == label else \"red\"\n",
    "    plt.title(f\"{class_names[pred]}\\nActual: {short_names[label]}\", fontdict={'color': color, 'fontsize': 12})\n",
    "    plt.axis(False)"
   ],
   "outputs": [
    {
     "data": {
      "text/plain": [
       "<Figure size 900x1000 with 16 Axes>"
      ],
      "image/png": "[encoded data removed]"
     },
     "metadata": {},
     "output_type": "display_data"
    }
   ],
   "execution_count": 82
  },
  {
   "cell_type": "markdown",
   "source": [
    "## 11. Plot a confusion matrix comparing your model's predictions to the truth labels."
   ],
   "metadata": {
    "id": "qQwzqlBWxrpG"
   }
  },
  {
   "cell_type": "code",
   "source": [
    "import matplotlib as mpl\n",
    "from torchmetrics import ConfusionMatrix\n",
    "from mlxtend.plotting import plot_confusion_matrix\n",
    "\n",
    "confmat = ConfusionMatrix(task=\"multiclass\", num_classes=len(class_names))\n",
    "confmat_tensor = confmat(preds, y_test)\n",
    "\n",
    "plot_confusion_matrix(confmat_tensor.numpy(), class_names=class_names, figsize=(10, 7), cmap=mpl.colormaps['plasma'])"
   ],
   "metadata": {
    "id": "vSrXiT_AbQ6e",
    "ExecuteTime": {
     "end_time": "2024-07-30T18:47:30.410069Z",
     "start_time": "2024-07-30T18:47:29.860057Z"
    }
   },
   "outputs": [
    {
     "data": {
      "text/plain": [
       "(<Figure size 1000x700 with 1 Axes>,\n",
       " <Axes: xlabel='predicted label', ylabel='true label'>)"
      ]
     },
     "execution_count": 103,
     "metadata": {},
     "output_type": "execute_result"
    },
    {
     "data": {
      "text/plain": [
       "<Figure size 1000x700 with 1 Axes>"
      ],
      "image/png": "[encoded data removed]"
     },
     "metadata": {},
     "output_type": "display_data"
    }
   ],
   "execution_count": 103
  },
  {
   "cell_type": "markdown",
   "source": [
    "## 12. Create a random tensor of shape `[1, 3, 64, 64]` and pass it through a `nn.Conv2d()` layer with various hyperparameter settings (these can be any settings you choose), what do you notice if the `kernel_size` parameter goes up and down?"
   ],
   "metadata": {
    "id": "lj6bDhoWxt2y"
   }
  },
  {
   "cell_type": "code",
   "source": [
    ""
   ],
   "metadata": {
    "id": "leCTsqtSbR5P"
   },
   "execution_count": null,
   "outputs": []
  },
  {
   "cell_type": "markdown",
   "source": [
    "## 13. Use a model similar to the trained `model_2` from notebook 03 to make predictions on the test [`torchvision.datasets.FashionMNIST`](https://pytorch.org/vision/main/generated/torchvision.datasets.FashionMNIST.html) dataset. \n",
    "* Then plot some predictions where the model was wrong alongside what the label of the image should've been. \n",
    "* After visualing these predictions do you think it's more of a modelling error or a data error? \n",
    "* As in, could the model do better or are the labels of the data too close to each other (e.g. a \"Shirt\" label is too close to \"T-shirt/top\")?"
   ],
   "metadata": {
    "id": "VHS20cNTxwSi"
   }
  },
  {
   "cell_type": "code",
   "source": [
    ""
   ],
   "metadata": {
    "id": "78a8LjtdbSZj"
   },
   "execution_count": null,
   "outputs": []
  }
 ]
}
