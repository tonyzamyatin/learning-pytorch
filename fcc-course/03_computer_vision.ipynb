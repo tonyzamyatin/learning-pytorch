{
 "nbformat": 4,
 "nbformat_minor": 0,
 "metadata": {
  "colab": {
   "provenance": [],
   "authorship_tag": "ABX9TyNVT0p6cmTbn0R4LFJNl5DA",
   "include_colab_link": true
  },
  "kernelspec": {
   "name": "python3",
   "display_name": "Python 3 (ipykernel)",
   "language": "python"
  },
  "language_info": {
   "name": "python"
  },
  "widgets": {
   "application/vnd.jupyter.widget-state+json": {
    "3416486b0c2047de8007debf68c77cb3": {
     "model_module": "@jupyter-widgets/controls",
     "model_name": "HBoxModel",
     "model_module_version": "1.5.0",
     "state": {
      "_dom_classes": [],
      "_model_module": "@jupyter-widgets/controls",
      "_model_module_version": "1.5.0",
      "_model_name": "HBoxModel",
      "_view_count": null,
      "_view_module": "@jupyter-widgets/controls",
      "_view_module_version": "1.5.0",
      "_view_name": "HBoxView",
      "box_style": "",
      "children": [
       "IPY_MODEL_6e0f3a0027884ed3ae0c42738000ef31",
       "IPY_MODEL_b4620aa1740c42088bb127f6b3343ca4",
       "IPY_MODEL_836ec6eee6684aec8244b81c8103978e"
      ],
      "layout": "IPY_MODEL_d917e70a647f4877ad84e477e2be83b9"
     }
    },
    "6e0f3a0027884ed3ae0c42738000ef31": {
     "model_module": "@jupyter-widgets/controls",
     "model_name": "HTMLModel",
     "model_module_version": "1.5.0",
     "state": {
      "_dom_classes": [],
      "_model_module": "@jupyter-widgets/controls",
      "_model_module_version": "1.5.0",
      "_model_name": "HTMLModel",
      "_view_count": null,
      "_view_module": "@jupyter-widgets/controls",
      "_view_module_version": "1.5.0",
      "_view_name": "HTMLView",
      "description": "",
      "description_tooltip": null,
      "layout": "IPY_MODEL_0430cb2170904ec8822336ed3c98bbae",
      "placeholder": "​",
      "style": "IPY_MODEL_17ca7ef4a8564031ba6c80a44cf1368b",
      "value": "100%"
     }
    },
    "b4620aa1740c42088bb127f6b3343ca4": {
     "model_module": "@jupyter-widgets/controls",
     "model_name": "FloatProgressModel",
     "model_module_version": "1.5.0",
     "state": {
      "_dom_classes": [],
      "_model_module": "@jupyter-widgets/controls",
      "_model_module_version": "1.5.0",
      "_model_name": "FloatProgressModel",
      "_view_count": null,
      "_view_module": "@jupyter-widgets/controls",
      "_view_module_version": "1.5.0",
      "_view_name": "ProgressView",
      "bar_style": "success",
      "description": "",
      "description_tooltip": null,
      "layout": "IPY_MODEL_4652686c952349c2b632137732f44b78",
      "max": 3,
      "min": 0,
      "orientation": "horizontal",
      "style": "IPY_MODEL_db33ab07b21247878b2b0da10b4c1c20",
      "value": 3
     }
    },
    "836ec6eee6684aec8244b81c8103978e": {
     "model_module": "@jupyter-widgets/controls",
     "model_name": "HTMLModel",
     "model_module_version": "1.5.0",
     "state": {
      "_dom_classes": [],
      "_model_module": "@jupyter-widgets/controls",
      "_model_module_version": "1.5.0",
      "_model_name": "HTMLModel",
      "_view_count": null,
      "_view_module": "@jupyter-widgets/controls",
      "_view_module_version": "1.5.0",
      "_view_name": "HTMLView",
      "description": "",
      "description_tooltip": null,
      "layout": "IPY_MODEL_0bbc3633181b4b89b4c28da525873739",
      "placeholder": "​",
      "style": "IPY_MODEL_467f773fbd8d45558587a1e1d2d86713",
      "value": " 3/3 [00:37&lt;00:00, 12.46s/it]"
     }
    },
    "d917e70a647f4877ad84e477e2be83b9": {
     "model_module": "@jupyter-widgets/base",
     "model_name": "LayoutModel",
     "model_module_version": "1.2.0",
     "state": {
      "_model_module": "@jupyter-widgets/base",
      "_model_module_version": "1.2.0",
      "_model_name": "LayoutModel",
      "_view_count": null,
      "_view_module": "@jupyter-widgets/base",
      "_view_module_version": "1.2.0",
      "_view_name": "LayoutView",
      "align_content": null,
      "align_items": null,
      "align_self": null,
      "border": null,
      "bottom": null,
      "display": null,
      "flex": null,
      "flex_flow": null,
      "grid_area": null,
      "grid_auto_columns": null,
      "grid_auto_flow": null,
      "grid_auto_rows": null,
      "grid_column": null,
      "grid_gap": null,
      "grid_row": null,
      "grid_template_areas": null,
      "grid_template_columns": null,
      "grid_template_rows": null,
      "height": null,
      "justify_content": null,
      "justify_items": null,
      "left": null,
      "margin": null,
      "max_height": null,
      "max_width": null,
      "min_height": null,
      "min_width": null,
      "object_fit": null,
      "object_position": null,
      "order": null,
      "overflow": null,
      "overflow_x": null,
      "overflow_y": null,
      "padding": null,
      "right": null,
      "top": null,
      "visibility": null,
      "width": null
     }
    },
    "0430cb2170904ec8822336ed3c98bbae": {
     "model_module": "@jupyter-widgets/base",
     "model_name": "LayoutModel",
     "model_module_version": "1.2.0",
     "state": {
      "_model_module": "@jupyter-widgets/base",
      "_model_module_version": "1.2.0",
      "_model_name": "LayoutModel",
      "_view_count": null,
      "_view_module": "@jupyter-widgets/base",
      "_view_module_version": "1.2.0",
      "_view_name": "LayoutView",
      "align_content": null,
      "align_items": null,
      "align_self": null,
      "border": null,
      "bottom": null,
      "display": null,
      "flex": null,
      "flex_flow": null,
      "grid_area": null,
      "grid_auto_columns": null,
      "grid_auto_flow": null,
      "grid_auto_rows": null,
      "grid_column": null,
      "grid_gap": null,
      "grid_row": null,
      "grid_template_areas": null,
      "grid_template_columns": null,
      "grid_template_rows": null,
      "height": null,
      "justify_content": null,
      "justify_items": null,
      "left": null,
      "margin": null,
      "max_height": null,
      "max_width": null,
      "min_height": null,
      "min_width": null,
      "object_fit": null,
      "object_position": null,
      "order": null,
      "overflow": null,
      "overflow_x": null,
      "overflow_y": null,
      "padding": null,
      "right": null,
      "top": null,
      "visibility": null,
      "width": null
     }
    },
    "17ca7ef4a8564031ba6c80a44cf1368b": {
     "model_module": "@jupyter-widgets/controls",
     "model_name": "DescriptionStyleModel",
     "model_module_version": "1.5.0",
     "state": {
      "_model_module": "@jupyter-widgets/controls",
      "_model_module_version": "1.5.0",
      "_model_name": "DescriptionStyleModel",
      "_view_count": null,
      "_view_module": "@jupyter-widgets/base",
      "_view_module_version": "1.2.0",
      "_view_name": "StyleView",
      "description_width": ""
     }
    },
    "4652686c952349c2b632137732f44b78": {
     "model_module": "@jupyter-widgets/base",
     "model_name": "LayoutModel",
     "model_module_version": "1.2.0",
     "state": {
      "_model_module": "@jupyter-widgets/base",
      "_model_module_version": "1.2.0",
      "_model_name": "LayoutModel",
      "_view_count": null,
      "_view_module": "@jupyter-widgets/base",
      "_view_module_version": "1.2.0",
      "_view_name": "LayoutView",
      "align_content": null,
      "align_items": null,
      "align_self": null,
      "border": null,
      "bottom": null,
      "display": null,
      "flex": null,
      "flex_flow": null,
      "grid_area": null,
      "grid_auto_columns": null,
      "grid_auto_flow": null,
      "grid_auto_rows": null,
      "grid_column": null,
      "grid_gap": null,
      "grid_row": null,
      "grid_template_areas": null,
      "grid_template_columns": null,
      "grid_template_rows": null,
      "height": null,
      "justify_content": null,
      "justify_items": null,
      "left": null,
      "margin": null,
      "max_height": null,
      "max_width": null,
      "min_height": null,
      "min_width": null,
      "object_fit": null,
      "object_position": null,
      "order": null,
      "overflow": null,
      "overflow_x": null,
      "overflow_y": null,
      "padding": null,
      "right": null,
      "top": null,
      "visibility": null,
      "width": null
     }
    },
    "db33ab07b21247878b2b0da10b4c1c20": {
     "model_module": "@jupyter-widgets/controls",
     "model_name": "ProgressStyleModel",
     "model_module_version": "1.5.0",
     "state": {
      "_model_module": "@jupyter-widgets/controls",
      "_model_module_version": "1.5.0",
      "_model_name": "ProgressStyleModel",
      "_view_count": null,
      "_view_module": "@jupyter-widgets/base",
      "_view_module_version": "1.2.0",
      "_view_name": "StyleView",
      "bar_color": null,
      "description_width": ""
     }
    },
    "0bbc3633181b4b89b4c28da525873739": {
     "model_module": "@jupyter-widgets/base",
     "model_name": "LayoutModel",
     "model_module_version": "1.2.0",
     "state": {
      "_model_module": "@jupyter-widgets/base",
      "_model_module_version": "1.2.0",
      "_model_name": "LayoutModel",
      "_view_count": null,
      "_view_module": "@jupyter-widgets/base",
      "_view_module_version": "1.2.0",
      "_view_name": "LayoutView",
      "align_content": null,
      "align_items": null,
      "align_self": null,
      "border": null,
      "bottom": null,
      "display": null,
      "flex": null,
      "flex_flow": null,
      "grid_area": null,
      "grid_auto_columns": null,
      "grid_auto_flow": null,
      "grid_auto_rows": null,
      "grid_column": null,
      "grid_gap": null,
      "grid_row": null,
      "grid_template_areas": null,
      "grid_template_columns": null,
      "grid_template_rows": null,
      "height": null,
      "justify_content": null,
      "justify_items": null,
      "left": null,
      "margin": null,
      "max_height": null,
      "max_width": null,
      "min_height": null,
      "min_width": null,
      "object_fit": null,
      "object_position": null,
      "order": null,
      "overflow": null,
      "overflow_x": null,
      "overflow_y": null,
      "padding": null,
      "right": null,
      "top": null,
      "visibility": null,
      "width": null
     }
    },
    "467f773fbd8d45558587a1e1d2d86713": {
     "model_module": "@jupyter-widgets/controls",
     "model_name": "DescriptionStyleModel",
     "model_module_version": "1.5.0",
     "state": {
      "_model_module": "@jupyter-widgets/controls",
      "_model_module_version": "1.5.0",
      "_model_name": "DescriptionStyleModel",
      "_view_count": null,
      "_view_module": "@jupyter-widgets/base",
      "_view_module_version": "1.2.0",
      "_view_name": "StyleView",
      "description_width": ""
     }
    }
   }
  }
 },
 "cells": [
  {
   "cell_type": "markdown",
   "metadata": {
    "id": "view-in-github",
    "colab_type": "text"
   },
   "source": [
    "<a href=\"https://colab.research.google.com/github/tonyzamyatin/learning-pytorch/blob/master/03_computer_vision.ipynb\" target=\"_parent\"><img src=\"https://colab.research.google.com/assets/colab-badge.svg\" alt=\"Open In Colab\"/></a>"
   ]
  },
  {
   "cell_type": "markdown",
   "source": [
    "# 03. PyTorch Computer Vision\n",
    "\n",
    "Online Course Book: https://www.learnpytorch.io/03_pytorch_computer_vision/"
   ],
   "metadata": {
    "id": "8Wt61ch5v1j6"
   }
  },
  {
   "cell_type": "code",
   "metadata": {
    "colab": {
     "base_uri": "https://localhost:8080/"
    },
    "id": "6-z-QqtbmEzM",
    "outputId": "8eb355a7-a8c4-4b12-88a1-b4db569665b7",
    "ExecuteTime": {
     "end_time": "2024-07-29T12:07:05.477897Z",
     "start_time": "2024-07-29T12:07:01.957827Z"
    }
   },
   "source": [
    "# Import PyTorch\n",
    "import torch\n",
    "\n",
    "# Import torchvision\n",
    "import torchvision\n",
    "from torchvision import datasets\n",
    "from torchvision.transforms import ToTensor\n",
    "\n",
    "# Import matplotlib for visualization\n",
    "import matplotlib.pyplot as plt\n",
    "\n",
    "# Check versions\n",
    "# Note: your PyTorch version shouldn't be lower than 1.10.0 and torchvision version shouldn't be lower than 0.11\n",
    "print(f\"PyTorch version: {torch.__version__}\\ntorchvision version: {torchvision.__version__}\")"
   ],
   "outputs": [
    {
     "name": "stdout",
     "output_type": "stream",
     "text": [
      "PyTorch version: 2.4.0\n",
      "torchvision version: 0.19.0\n"
     ]
    }
   ],
   "execution_count": 1
  },
  {
   "metadata": {
    "ExecuteTime": {
     "end_time": "2024-07-29T11:30:40.397017Z",
     "start_time": "2024-07-29T11:30:40.123297Z"
    }
   },
   "cell_type": "code",
   "source": [
    "import requests\n",
    "from pathlib import Path\n",
    "\n",
    "# Download helper functions from Learn PyTorch repo (if not already downloaded)\n",
    "if Path(\"helper_functions.py\").is_file():\n",
    "    print(\"Downloading helper_functions.py\")\n",
    "    # Note: you need the \"raw\" GitHub URL for this to work\n",
    "    request = requests.get(\"https://raw.githubusercontent.com/tonyzamyatin/learning-pytorch/master/fcc-course/helper_functions.py\")\n",
    "    with open(\"helper_functions.py\", \"wb\") as f:\n",
    "        f.write(request.content)"
   ],
   "outputs": [
    {
     "name": "stdout",
     "output_type": "stream",
     "text": [
      "Downloading helper_functions.py\n"
     ]
    }
   ],
   "execution_count": 2
  },
  {
   "cell_type": "markdown",
   "source": [
    "## 1. Getting a dataset\n",
    "For our first computer vision task we will go with the glorious FashionMNIST dataset, made by Zalando research. It contains low resolution grey scale images of 10 different kinds of clothing."
   ],
   "metadata": {
    "id": "8XcMWy1vwFkJ"
   }
  },
  {
   "cell_type": "code",
   "source": [
    "# Setup training data\n",
    "train_data = datasets.FashionMNIST(\n",
    "    root=\"data\",  # where to download data\n",
    "    train=True,  # get training data\n",
    "    download=True,  # download data if it doesn't exist on disk\n",
    "    transform=ToTensor(),  # images come as PIL format, we want to turn into Torch tensors\n",
    "    target_transform=None  # don't transform the labels though\n",
    ")\n",
    "\n",
    "# Setup test data\n",
    "test_data = datasets.FashionMNIST(\n",
    "    root=\"data\",\n",
    "    train=False,\n",
    "    download=True,\n",
    "    transform=ToTensor(),\n",
    ")"
   ],
   "metadata": {
    "id": "-qFOHhevwEX9",
    "ExecuteTime": {
     "end_time": "2024-07-29T12:07:08.913570Z",
     "start_time": "2024-07-29T12:07:08.859135Z"
    }
   },
   "outputs": [],
   "execution_count": 2
  },
  {
   "cell_type": "markdown",
   "source": [
    "Let's inspect the first sample of the training data."
   ],
   "metadata": {
    "id": "6UgxlfjHxajX"
   }
  },
  {
   "cell_type": "code",
   "source": [
    "image, label = train_data[0]\n",
    "image, label"
   ],
   "metadata": {
    "colab": {
     "base_uri": "https://localhost:8080/"
    },
    "id": "gRZmYJnkxVdD",
    "outputId": "787b176d-8320-48db-a87b-e929365367c3",
    "ExecuteTime": {
     "end_time": "2024-07-29T12:07:09.237176Z",
     "start_time": "2024-07-29T12:07:09.223121Z"
    }
   },
   "outputs": [
    {
     "data": {
      "text/plain": [
       "(tensor([[[0.0000, 0.0000, 0.0000, 0.0000, 0.0000, 0.0000, 0.0000, 0.0000,\n",
       "           0.0000, 0.0000, 0.0000, 0.0000, 0.0000, 0.0000, 0.0000, 0.0000,\n",
       "           0.0000, 0.0000, 0.0000, 0.0000, 0.0000, 0.0000, 0.0000, 0.0000,\n",
       "           0.0000, 0.0000, 0.0000, 0.0000],\n",
       "          [0.0000, 0.0000, 0.0000, 0.0000, 0.0000, 0.0000, 0.0000, 0.0000,\n",
       "           0.0000, 0.0000, 0.0000, 0.0000, 0.0000, 0.0000, 0.0000, 0.0000,\n",
       "           0.0000, 0.0000, 0.0000, 0.0000, 0.0000, 0.0000, 0.0000, 0.0000,\n",
       "           0.0000, 0.0000, 0.0000, 0.0000],\n",
       "          [0.0000, 0.0000, 0.0000, 0.0000, 0.0000, 0.0000, 0.0000, 0.0000,\n",
       "           0.0000, 0.0000, 0.0000, 0.0000, 0.0000, 0.0000, 0.0000, 0.0000,\n",
       "           0.0000, 0.0000, 0.0000, 0.0000, 0.0000, 0.0000, 0.0000, 0.0000,\n",
       "           0.0000, 0.0000, 0.0000, 0.0000],\n",
       "          [0.0000, 0.0000, 0.0000, 0.0000, 0.0000, 0.0000, 0.0000, 0.0000,\n",
       "           0.0000, 0.0000, 0.0000, 0.0000, 0.0039, 0.0000, 0.0000, 0.0510,\n",
       "           0.2863, 0.0000, 0.0000, 0.0039, 0.0157, 0.0000, 0.0000, 0.0000,\n",
       "           0.0000, 0.0039, 0.0039, 0.0000],\n",
       "          [0.0000, 0.0000, 0.0000, 0.0000, 0.0000, 0.0000, 0.0000, 0.0000,\n",
       "           0.0000, 0.0000, 0.0000, 0.0000, 0.0118, 0.0000, 0.1412, 0.5333,\n",
       "           0.4980, 0.2431, 0.2118, 0.0000, 0.0000, 0.0000, 0.0039, 0.0118,\n",
       "           0.0157, 0.0000, 0.0000, 0.0118],\n",
       "          [0.0000, 0.0000, 0.0000, 0.0000, 0.0000, 0.0000, 0.0000, 0.0000,\n",
       "           0.0000, 0.0000, 0.0000, 0.0000, 0.0235, 0.0000, 0.4000, 0.8000,\n",
       "           0.6902, 0.5255, 0.5647, 0.4824, 0.0902, 0.0000, 0.0000, 0.0000,\n",
       "           0.0000, 0.0471, 0.0392, 0.0000],\n",
       "          [0.0000, 0.0000, 0.0000, 0.0000, 0.0000, 0.0000, 0.0000, 0.0000,\n",
       "           0.0000, 0.0000, 0.0000, 0.0000, 0.0000, 0.0000, 0.6078, 0.9255,\n",
       "           0.8118, 0.6980, 0.4196, 0.6118, 0.6314, 0.4275, 0.2510, 0.0902,\n",
       "           0.3020, 0.5098, 0.2824, 0.0588],\n",
       "          [0.0000, 0.0000, 0.0000, 0.0000, 0.0000, 0.0000, 0.0000, 0.0000,\n",
       "           0.0000, 0.0000, 0.0000, 0.0039, 0.0000, 0.2706, 0.8118, 0.8745,\n",
       "           0.8549, 0.8471, 0.8471, 0.6392, 0.4980, 0.4745, 0.4784, 0.5725,\n",
       "           0.5529, 0.3451, 0.6745, 0.2588],\n",
       "          [0.0000, 0.0000, 0.0000, 0.0000, 0.0000, 0.0000, 0.0000, 0.0000,\n",
       "           0.0000, 0.0039, 0.0039, 0.0039, 0.0000, 0.7843, 0.9098, 0.9098,\n",
       "           0.9137, 0.8980, 0.8745, 0.8745, 0.8431, 0.8353, 0.6431, 0.4980,\n",
       "           0.4824, 0.7686, 0.8980, 0.0000],\n",
       "          [0.0000, 0.0000, 0.0000, 0.0000, 0.0000, 0.0000, 0.0000, 0.0000,\n",
       "           0.0000, 0.0000, 0.0000, 0.0000, 0.0000, 0.7176, 0.8824, 0.8471,\n",
       "           0.8745, 0.8941, 0.9216, 0.8902, 0.8784, 0.8706, 0.8784, 0.8667,\n",
       "           0.8745, 0.9608, 0.6784, 0.0000],\n",
       "          [0.0000, 0.0000, 0.0000, 0.0000, 0.0000, 0.0000, 0.0000, 0.0000,\n",
       "           0.0000, 0.0000, 0.0000, 0.0000, 0.0000, 0.7569, 0.8941, 0.8549,\n",
       "           0.8353, 0.7765, 0.7059, 0.8314, 0.8235, 0.8275, 0.8353, 0.8745,\n",
       "           0.8627, 0.9529, 0.7922, 0.0000],\n",
       "          [0.0000, 0.0000, 0.0000, 0.0000, 0.0000, 0.0000, 0.0000, 0.0000,\n",
       "           0.0000, 0.0039, 0.0118, 0.0000, 0.0471, 0.8588, 0.8627, 0.8314,\n",
       "           0.8549, 0.7529, 0.6627, 0.8902, 0.8157, 0.8549, 0.8784, 0.8314,\n",
       "           0.8863, 0.7725, 0.8196, 0.2039],\n",
       "          [0.0000, 0.0000, 0.0000, 0.0000, 0.0000, 0.0000, 0.0000, 0.0000,\n",
       "           0.0000, 0.0000, 0.0235, 0.0000, 0.3882, 0.9569, 0.8706, 0.8627,\n",
       "           0.8549, 0.7961, 0.7765, 0.8667, 0.8431, 0.8353, 0.8706, 0.8627,\n",
       "           0.9608, 0.4667, 0.6549, 0.2196],\n",
       "          [0.0000, 0.0000, 0.0000, 0.0000, 0.0000, 0.0000, 0.0000, 0.0000,\n",
       "           0.0000, 0.0157, 0.0000, 0.0000, 0.2157, 0.9255, 0.8941, 0.9020,\n",
       "           0.8941, 0.9412, 0.9098, 0.8353, 0.8549, 0.8745, 0.9176, 0.8510,\n",
       "           0.8510, 0.8196, 0.3608, 0.0000],\n",
       "          [0.0000, 0.0000, 0.0039, 0.0157, 0.0235, 0.0275, 0.0078, 0.0000,\n",
       "           0.0000, 0.0000, 0.0000, 0.0000, 0.9294, 0.8863, 0.8510, 0.8745,\n",
       "           0.8706, 0.8588, 0.8706, 0.8667, 0.8471, 0.8745, 0.8980, 0.8431,\n",
       "           0.8549, 1.0000, 0.3020, 0.0000],\n",
       "          [0.0000, 0.0118, 0.0000, 0.0000, 0.0000, 0.0000, 0.0000, 0.0000,\n",
       "           0.0000, 0.2431, 0.5686, 0.8000, 0.8941, 0.8118, 0.8353, 0.8667,\n",
       "           0.8549, 0.8157, 0.8275, 0.8549, 0.8784, 0.8745, 0.8588, 0.8431,\n",
       "           0.8784, 0.9569, 0.6235, 0.0000],\n",
       "          [0.0000, 0.0000, 0.0000, 0.0000, 0.0706, 0.1725, 0.3216, 0.4196,\n",
       "           0.7412, 0.8941, 0.8627, 0.8706, 0.8510, 0.8863, 0.7843, 0.8039,\n",
       "           0.8275, 0.9020, 0.8784, 0.9176, 0.6902, 0.7373, 0.9804, 0.9725,\n",
       "           0.9137, 0.9333, 0.8431, 0.0000],\n",
       "          [0.0000, 0.2235, 0.7333, 0.8157, 0.8784, 0.8667, 0.8784, 0.8157,\n",
       "           0.8000, 0.8392, 0.8157, 0.8196, 0.7843, 0.6235, 0.9608, 0.7569,\n",
       "           0.8078, 0.8745, 1.0000, 1.0000, 0.8667, 0.9176, 0.8667, 0.8275,\n",
       "           0.8627, 0.9098, 0.9647, 0.0000],\n",
       "          [0.0118, 0.7922, 0.8941, 0.8784, 0.8667, 0.8275, 0.8275, 0.8392,\n",
       "           0.8039, 0.8039, 0.8039, 0.8627, 0.9412, 0.3137, 0.5882, 1.0000,\n",
       "           0.8980, 0.8667, 0.7373, 0.6039, 0.7490, 0.8235, 0.8000, 0.8196,\n",
       "           0.8706, 0.8941, 0.8824, 0.0000],\n",
       "          [0.3843, 0.9137, 0.7765, 0.8235, 0.8706, 0.8980, 0.8980, 0.9176,\n",
       "           0.9765, 0.8627, 0.7608, 0.8431, 0.8510, 0.9451, 0.2549, 0.2863,\n",
       "           0.4157, 0.4588, 0.6588, 0.8588, 0.8667, 0.8431, 0.8510, 0.8745,\n",
       "           0.8745, 0.8784, 0.8980, 0.1137],\n",
       "          [0.2941, 0.8000, 0.8314, 0.8000, 0.7569, 0.8039, 0.8275, 0.8824,\n",
       "           0.8471, 0.7255, 0.7725, 0.8078, 0.7765, 0.8353, 0.9412, 0.7647,\n",
       "           0.8902, 0.9608, 0.9373, 0.8745, 0.8549, 0.8314, 0.8196, 0.8706,\n",
       "           0.8627, 0.8667, 0.9020, 0.2627],\n",
       "          [0.1882, 0.7961, 0.7176, 0.7608, 0.8353, 0.7725, 0.7255, 0.7451,\n",
       "           0.7608, 0.7529, 0.7922, 0.8392, 0.8588, 0.8667, 0.8627, 0.9255,\n",
       "           0.8824, 0.8471, 0.7804, 0.8078, 0.7294, 0.7098, 0.6941, 0.6745,\n",
       "           0.7098, 0.8039, 0.8078, 0.4510],\n",
       "          [0.0000, 0.4784, 0.8588, 0.7569, 0.7020, 0.6706, 0.7176, 0.7686,\n",
       "           0.8000, 0.8235, 0.8353, 0.8118, 0.8275, 0.8235, 0.7843, 0.7686,\n",
       "           0.7608, 0.7490, 0.7647, 0.7490, 0.7765, 0.7529, 0.6902, 0.6118,\n",
       "           0.6549, 0.6941, 0.8235, 0.3608],\n",
       "          [0.0000, 0.0000, 0.2902, 0.7412, 0.8314, 0.7490, 0.6863, 0.6745,\n",
       "           0.6863, 0.7098, 0.7255, 0.7373, 0.7412, 0.7373, 0.7569, 0.7765,\n",
       "           0.8000, 0.8196, 0.8235, 0.8235, 0.8275, 0.7373, 0.7373, 0.7608,\n",
       "           0.7529, 0.8471, 0.6667, 0.0000],\n",
       "          [0.0078, 0.0000, 0.0000, 0.0000, 0.2588, 0.7843, 0.8706, 0.9294,\n",
       "           0.9373, 0.9490, 0.9647, 0.9529, 0.9569, 0.8667, 0.8627, 0.7569,\n",
       "           0.7490, 0.7020, 0.7137, 0.7137, 0.7098, 0.6902, 0.6510, 0.6588,\n",
       "           0.3882, 0.2275, 0.0000, 0.0000],\n",
       "          [0.0000, 0.0000, 0.0000, 0.0000, 0.0000, 0.0000, 0.0000, 0.1569,\n",
       "           0.2392, 0.1725, 0.2824, 0.1608, 0.1373, 0.0000, 0.0000, 0.0000,\n",
       "           0.0000, 0.0000, 0.0000, 0.0000, 0.0000, 0.0000, 0.0000, 0.0000,\n",
       "           0.0000, 0.0000, 0.0000, 0.0000],\n",
       "          [0.0000, 0.0000, 0.0000, 0.0000, 0.0000, 0.0000, 0.0000, 0.0000,\n",
       "           0.0000, 0.0000, 0.0000, 0.0000, 0.0000, 0.0000, 0.0000, 0.0000,\n",
       "           0.0000, 0.0000, 0.0000, 0.0000, 0.0000, 0.0000, 0.0000, 0.0000,\n",
       "           0.0000, 0.0000, 0.0000, 0.0000],\n",
       "          [0.0000, 0.0000, 0.0000, 0.0000, 0.0000, 0.0000, 0.0000, 0.0000,\n",
       "           0.0000, 0.0000, 0.0000, 0.0000, 0.0000, 0.0000, 0.0000, 0.0000,\n",
       "           0.0000, 0.0000, 0.0000, 0.0000, 0.0000, 0.0000, 0.0000, 0.0000,\n",
       "           0.0000, 0.0000, 0.0000, 0.0000]]]),\n",
       " 9)"
      ]
     },
     "execution_count": 3,
     "metadata": {},
     "output_type": "execute_result"
    }
   ],
   "execution_count": 3
  },
  {
   "cell_type": "markdown",
   "source": [
    "### 1.1 Input and output shapes of a computer vision model"
   ],
   "metadata": {
    "id": "8r3AXgUIxmLm"
   }
  },
  {
   "cell_type": "code",
   "source": [
    "image.shape"
   ],
   "metadata": {
    "colab": {
     "base_uri": "https://localhost:8080/"
    },
    "id": "Xk36Yty2xjV7",
    "outputId": "bdd278a2-49d9-447d-c161-dba3af456b3d",
    "ExecuteTime": {
     "end_time": "2024-07-29T12:07:09.510273Z",
     "start_time": "2024-07-29T12:07:09.504539Z"
    }
   },
   "outputs": [
    {
     "data": {
      "text/plain": [
       "torch.Size([1, 28, 28])"
      ]
     },
     "execution_count": 4,
     "metadata": {},
     "output_type": "execute_result"
    }
   ],
   "execution_count": 4
  },
  {
   "cell_type": "markdown",
   "source": [
    "We have one color channel and a width and height of 28 pixels.\n",
    "\n",
    "There is debate whether CHW or HWC is the better way to represent an image. Anyway, PyTorch accepts NCHW as default, but at the same time explains that NHWC performs better and is considered best practice."
   ],
   "metadata": {
    "id": "73M0d2pLxy6x"
   }
  },
  {
   "cell_type": "code",
   "source": [
    "# Number of samples\n",
    "len(train_data), len(test_data)"
   ],
   "metadata": {
    "colab": {
     "base_uri": "https://localhost:8080/"
    },
    "id": "Kiix4DlfxymV",
    "outputId": "94ef3d31-e062-4303-f62d-8aba83b669e7",
    "ExecuteTime": {
     "end_time": "2024-07-29T12:07:09.768668Z",
     "start_time": "2024-07-29T12:07:09.763660Z"
    }
   },
   "outputs": [
    {
     "data": {
      "text/plain": [
       "(60000, 10000)"
      ]
     },
     "execution_count": 5,
     "metadata": {},
     "output_type": "execute_result"
    }
   ],
   "execution_count": 5
  },
  {
   "cell_type": "markdown",
   "source": [
    "We have 60k training images and 10k test images."
   ],
   "metadata": {
    "id": "1yAkqpllyjt4"
   }
  },
  {
   "cell_type": "code",
   "source": [
    "# Inspect available classes\n",
    "class_names = train_data.classes\n",
    "class_names"
   ],
   "metadata": {
    "colab": {
     "base_uri": "https://localhost:8080/"
    },
    "id": "_Ot9jXTayjc1",
    "outputId": "ba48db06-037a-46f1-cc8f-3c390656c0c5",
    "ExecuteTime": {
     "end_time": "2024-07-29T12:07:10.014521Z",
     "start_time": "2024-07-29T12:07:10.009672Z"
    }
   },
   "outputs": [
    {
     "data": {
      "text/plain": [
       "['T-shirt/top',\n",
       " 'Trouser',\n",
       " 'Pullover',\n",
       " 'Dress',\n",
       " 'Coat',\n",
       " 'Sandal',\n",
       " 'Shirt',\n",
       " 'Sneaker',\n",
       " 'Bag',\n",
       " 'Ankle boot']"
      ]
     },
     "execution_count": 6,
     "metadata": {},
     "output_type": "execute_result"
    }
   ],
   "execution_count": 6
  },
  {
   "cell_type": "markdown",
   "source": [
    "Since we have 10 different classes. we're dealing with a multi-classification problem yet again."
   ],
   "metadata": {
    "id": "R56U3MaizKqm"
   }
  },
  {
   "cell_type": "markdown",
   "source": "### 1.2 Visualize and explore our data",
   "metadata": {
    "id": "9DLS4k-OzRks"
   }
  },
  {
   "cell_type": "code",
   "source": [
    "import matplotlib.pyplot as plt\n",
    "\n",
    "image, label = train_data[0]\n",
    "print(f\"Image shape:\", image.shape)\n",
    "plt.imshow(image.squeeze())\n",
    "plt.title(class_names[label])\n",
    "plt.axis(False)"
   ],
   "metadata": {
    "colab": {
     "base_uri": "https://localhost:8080/",
     "height": 463
    },
    "id": "VdhpqglozRWz",
    "outputId": "efd830db-e954-47bf-d753-6b9c08348614",
    "ExecuteTime": {
     "end_time": "2024-07-29T12:07:11.071322Z",
     "start_time": "2024-07-29T12:07:10.982832Z"
    }
   },
   "outputs": [
    {
     "name": "stdout",
     "output_type": "stream",
     "text": [
      "Image shape: torch.Size([1, 28, 28])\n"
     ]
    },
    {
     "data": {
      "text/plain": [
       "(np.float64(-0.5), np.float64(27.5), np.float64(27.5), np.float64(-0.5))"
      ]
     },
     "execution_count": 7,
     "metadata": {},
     "output_type": "execute_result"
    },
    {
     "data": {
      "text/plain": [
       "<Figure size 640x480 with 1 Axes>"
      ],
      "image/png": "[encoded data removed]"
     },
     "metadata": {},
     "output_type": "display_data"
    }
   ],
   "execution_count": 7
  },
  {
   "cell_type": "markdown",
   "source": [
    "To turn images into greyscale we use the ˋcmapˋ parameter of ˋplt.imshow()ˋ."
   ],
   "metadata": {
    "id": "qmrC24Tgzl5P"
   }
  },
  {
   "cell_type": "code",
   "source": [
    "plt.imshow(image.squeeze(), cmap=\"gray\")\n",
    "plt.title(class_names[label])\n",
    "plt.axis(False)"
   ],
   "metadata": {
    "colab": {
     "base_uri": "https://localhost:8080/",
     "height": 445
    },
    "id": "kcuxImB8zlqg",
    "outputId": "17c8d338-71cc-4ce8-862d-b782dfcb3ecf",
    "ExecuteTime": {
     "end_time": "2024-07-29T12:07:13.511353Z",
     "start_time": "2024-07-29T12:07:13.433398Z"
    }
   },
   "outputs": [
    {
     "data": {
      "text/plain": [
       "(np.float64(-0.5), np.float64(27.5), np.float64(27.5), np.float64(-0.5))"
      ]
     },
     "execution_count": 8,
     "metadata": {},
     "output_type": "execute_result"
    },
    {
     "data": {
      "text/plain": [
       "<Figure size 640x480 with 1 Axes>"
      ],
      "image/png": "[encoded data removed]"
     },
     "metadata": {},
     "output_type": "display_data"
    }
   ],
   "execution_count": 8
  },
  {
   "cell_type": "markdown",
   "source": [
    "Let's plot some more images."
   ],
   "metadata": {
    "id": "6izyQKZDz37Y"
   }
  },
  {
   "cell_type": "code",
   "source": [
    "torch.manual_seed(42)\n",
    "fig = plt.figure(figsize=(9, 9))\n",
    "rows, cols = 4, 4\n",
    "for i in range(1, rows * cols + 1):\n",
    "    random_idx = torch.randint(0, len(train_data), size=[1]).item()\n",
    "    img, label = train_data[random_idx]\n",
    "    fig.add_subplot(rows, cols, i)\n",
    "    plt.imshow(img.squeeze(), cmap=\"gray\")\n",
    "    plt.title(class_names[label])\n",
    "    plt.axis(False)\n"
   ],
   "metadata": {
    "colab": {
     "base_uri": "https://localhost:8080/",
     "height": 752
    },
    "id": "sB59WBf0xuYU",
    "outputId": "f377e4b0-f6b0-43d2-bc48-423c208d03bf",
    "ExecuteTime": {
     "end_time": "2024-07-29T12:07:14.237013Z",
     "start_time": "2024-07-29T12:07:13.630720Z"
    }
   },
   "outputs": [
    {
     "data": {
      "text/plain": [
       "<Figure size 900x900 with 16 Axes>"
      ],
      "image/png": "[encoded data removed]"
     },
     "metadata": {},
     "output_type": "display_data"
    }
   ],
   "execution_count": 9
  },
  {
   "metadata": {},
   "cell_type": "markdown",
   "source": "Let's have a look at the class distribution of our datasets."
  },
  {
   "metadata": {
    "ExecuteTime": {
     "end_time": "2024-07-29T12:07:16.681018Z",
     "start_time": "2024-07-29T12:07:16.676773Z"
    }
   },
   "cell_type": "code",
   "source": [
    "def get_mnist_class_count(dataset: torchvision.datasets.MNIST):\n",
    "    \"\"\"\n",
    "    Count the classes of an MNIST dataset.\n",
    "    :param dataset: A dataset subclassing `torchvision.datasets.mnist.MNIST`\n",
    "    :return: a dictionary of the class names and their frequency in the dataset\n",
    "    \"\"\"\n",
    "    class_count = {name: 0 for name in dataset.classes}\n",
    "    for img, label in dataset:\n",
    "        class_count[dataset.classes[label]] += 1\n",
    "    \n",
    "    return class_count"
   ],
   "outputs": [],
   "execution_count": 10
  },
  {
   "metadata": {
    "ExecuteTime": {
     "end_time": "2024-07-29T11:28:24.843156Z",
     "start_time": "2024-07-29T11:28:18.840021Z"
    }
   },
   "cell_type": "code",
   "source": [
    "train_class_count = get_mnist_class_count(train_data)\n",
    "print(f\"Train data class count:\\n{train_class_count}\")\n",
    "test_class_count = get_mnist_class_count(test_data)\n",
    "print(f\"Test data class count:\\n{test_class_count}\")"
   ],
   "outputs": [
    {
     "name": "stdout",
     "output_type": "stream",
     "text": [
      "Train data class count:\n",
      "{'T-shirt/top': 6000, 'Trouser': 6000, 'Pullover': 6000, 'Dress': 6000, 'Coat': 6000, 'Sandal': 6000, 'Shirt': 6000, 'Sneaker': 6000, 'Bag': 6000, 'Ankle boot': 6000}\n",
      "Test data class count:\n",
      "{'T-shirt/top': 1000, 'Trouser': 1000, 'Pullover': 1000, 'Dress': 1000, 'Coat': 1000, 'Sandal': 1000, 'Shirt': 1000, 'Sneaker': 1000, 'Bag': 1000, 'Ankle boot': 1000}\n"
     ]
    }
   ],
   "execution_count": 28
  },
  {
   "metadata": {},
   "cell_type": "markdown",
   "source": [
    "The classes of our datasets are nicely evenly distributed.\n",
    "\n",
    "**Note**: This is a toy dataset and in real world scenarios we will likely have to deal with skewed data distributions."
   ]
  },
  {
   "cell_type": "markdown",
   "source": "## 2. Prepare DataLoader",
   "metadata": {
    "id": "9HYbClW40dDv"
   }
  },
  {
   "cell_type": "code",
   "source": [
    "from torch.utils.data import DataLoader\n",
    "\n",
    "BATCH_SIZE = 32\n",
    "\n",
    "train_dl = DataLoader(train_data, batch_size=BATCH_SIZE)\n",
    "test_dl = DataLoader(test_data, batch_size=BATCH_SIZE, shuffle=False)\n",
    "print(f\"Data loaders: {train_dl, test_dl}\")\n",
    "print(f\"Length of train data loader: {len(train_dl)} batches of {BATCH_SIZE}...\")\n",
    "print(f\"Length of test data loader: {len(test_dl)} batches of {BATCH_SIZE}...\")"
   ],
   "metadata": {
    "colab": {
     "base_uri": "https://localhost:8080/"
    },
    "id": "7k7YU3Bc0czz",
    "outputId": "00bb1c72-313a-4e1f-e655-7e4bfa73bced",
    "ExecuteTime": {
     "end_time": "2024-07-29T12:07:18.722437Z",
     "start_time": "2024-07-29T12:07:18.717001Z"
    }
   },
   "outputs": [
    {
     "name": "stdout",
     "output_type": "stream",
     "text": [
      "Data loaders: (<torch.utils.data.dataloader.DataLoader object at 0x7fe991e06140>, <torch.utils.data.dataloader.DataLoader object at 0x7fe991e063e0>)\n",
      "Length of train data loader: 1875 batches of 32...\n",
      "Length of test data loader: 313 batches of 32...\n"
     ]
    }
   ],
   "execution_count": 11
  },
  {
   "cell_type": "markdown",
   "source": [
    "## 3. Build a baseline model\n"
   ],
   "metadata": {
    "id": "obHKelyN1q1G"
   }
  },
  {
   "cell_type": "code",
   "source": [
    "from torch import nn\n",
    "\n",
    "\n",
    "class FashionMNISTModelV0(nn.Module):\n",
    "    def __init__(self, input_shape: int, hidden_units: int, output_shape: int):\n",
    "        super().__init__()\n",
    "        self.layer_stack = nn.Sequential(\n",
    "            nn.Flatten(),\n",
    "            nn.Linear(input_shape, hidden_units),\n",
    "            nn.Linear(hidden_units, output_shape)\n",
    "        )\n",
    "\n",
    "    def forward(self, x):\n",
    "        return self.layer_stack(x)"
   ],
   "metadata": {
    "id": "jdpmD75h1qlm",
    "ExecuteTime": {
     "end_time": "2024-07-29T12:07:22.303393Z",
     "start_time": "2024-07-29T12:07:22.298784Z"
    }
   },
   "outputs": [],
   "execution_count": 12
  },
  {
   "cell_type": "code",
   "source": [
    "torch.manual_seed(42)\n",
    "\n",
    "model_0 = FashionMNISTModelV0(\n",
    "    input_shape=784,\n",
    "    hidden_units=10,\n",
    "    output_shape=len(class_names)).to(\"cpu\")"
   ],
   "metadata": {
    "id": "hd2nR74x0J7D",
    "ExecuteTime": {
     "end_time": "2024-07-29T12:07:23.098663Z",
     "start_time": "2024-07-29T12:07:23.091649Z"
    }
   },
   "outputs": [],
   "execution_count": 13
  },
  {
   "cell_type": "markdown",
   "source": "### 3.1 Setup loss, optimizer and evaluation metrics",
   "metadata": {
    "id": "vu8q2RT23Tl7"
   }
  },
  {
   "cell_type": "code",
   "source": [
    "from helper_functions import accuracy_fn\n",
    "\n",
    "loss_fn = nn.CrossEntropyLoss()\n",
    "optimizer = torch.optim.Adam(params=model_0.parameters(), lr=0.01)"
   ],
   "metadata": {
    "id": "ouCGgzuq3pmx",
    "ExecuteTime": {
     "end_time": "2024-07-29T12:07:25.578656Z",
     "start_time": "2024-07-29T12:07:24.586383Z"
    }
   },
   "outputs": [],
   "execution_count": 14
  },
  {
   "cell_type": "markdown",
   "source": [
    "### 3.2 Creating a function to time our experiments\n",
    "Let's do a small experiment and compare the time it takes to run the model on a GPU versus on a CPU.\n",
    "\n",
    "Our timing function will use ˋtimeit.default_timer()ˋ from the ˋtimeitˋ module."
   ],
   "metadata": {
    "id": "izCUkhe04mKs"
   }
  },
  {
   "cell_type": "code",
   "source": [
    "from timeit import default_timer as timer\n",
    "\n",
    "\n",
    "def print_train_time(start: float, end: float, device: torch.device = None):\n",
    "    total_time = end - start\n",
    "    print(f\"Train time on {device}: {total_time:.3f} seconds\")\n",
    "    return total_time"
   ],
   "metadata": {
    "id": "-Nr-axKI4BxK",
    "ExecuteTime": {
     "end_time": "2024-07-29T12:07:25.586083Z",
     "start_time": "2024-07-29T12:07:25.581121Z"
    }
   },
   "outputs": [],
   "execution_count": 15
  },
  {
   "cell_type": "markdown",
   "source": [
    "### 3.3 Training loop on batches of data"
   ],
   "metadata": {
    "id": "Ps4Ctyy35hb9"
   }
  },
  {
   "cell_type": "code",
   "source": [
    "from tqdm.auto import tqdm\n",
    "\n",
    "torch.manual_seed(42)\n",
    "\n",
    "# Measure time\n",
    "train_time_start_on_cpu = timer()\n",
    "\n",
    "epochs = 3\n",
    "\n",
    "for epoch in tqdm(range(epochs)):\n",
    "    print(f\"Epoch: {epoch + 1}\\n---------\")\n",
    "    train_loss = 0\n",
    "    for batch, (X, y) in enumerate(train_dl):\n",
    "        model_0.train()\n",
    "        y_pred = model_0(X)\n",
    "        loss = loss_fn(y_pred, y)\n",
    "        optimizer.zero_grad()\n",
    "        loss.backward()\n",
    "        optimizer.step()\n",
    "\n",
    "        if batch % 400 == 0:\n",
    "            print(f\"Looked at {batch * len(X)}/{len(train_dl.dataset)} samples\")\n",
    "\n",
    "    # Average loss per batch per epoch\n",
    "    train_loss /= len(train_dl)\n",
    "\n",
    "    # Testing\n",
    "    test_loss, test_acc = 0, 0\n",
    "    model_0.eval()\n",
    "    with torch.inference_mode():\n",
    "        for X_test, y_test in test_dl:\n",
    "            test_pred = model_0(X_test)\n",
    "            test_loss += loss_fn(test_pred, y_test)\n",
    "            test_acc += accuracy_fn(y_true=y_test, y_pred=test_pred.argmax(dim=1))\n",
    "\n",
    "        test_loss /= len(test_dl)\n",
    "        test_acc /= len(test_dl)\n",
    "\n",
    "    print(f\"\\nTrain loss: {train_loss:.5f} | Test loss: {test_loss:.5f}, Test acc: {test_acc:.2f}%\\n\")\n",
    "\n",
    "# Calculate training time\n",
    "train_time_end_on_cpu = timer()\n",
    "total_train_time_model_0 = print_train_time(\n",
    "    start=train_time_start_on_cpu,\n",
    "    end=train_time_end_on_cpu,\n",
    "    device=\"cpu\"\n",
    ")"
   ],
   "metadata": {
    "colab": {
     "base_uri": "https://localhost:8080/",
     "height": 587,
     "referenced_widgets": [
      "3416486b0c2047de8007debf68c77cb3",
      "6e0f3a0027884ed3ae0c42738000ef31",
      "b4620aa1740c42088bb127f6b3343ca4",
      "836ec6eee6684aec8244b81c8103978e",
      "d917e70a647f4877ad84e477e2be83b9",
      "0430cb2170904ec8822336ed3c98bbae",
      "17ca7ef4a8564031ba6c80a44cf1368b",
      "4652686c952349c2b632137732f44b78",
      "db33ab07b21247878b2b0da10b4c1c20",
      "0bbc3633181b4b89b4c28da525873739",
      "467f773fbd8d45558587a1e1d2d86713"
     ]
    },
    "id": "SQOSEIlN5hKg",
    "outputId": "8426a321-72e4-4dc6-ba1b-fcb53631b8c6",
    "ExecuteTime": {
     "end_time": "2024-07-29T12:07:52.052585Z",
     "start_time": "2024-07-29T12:07:27.726642Z"
    }
   },
   "outputs": [
    {
     "data": {
      "text/plain": [
       "  0%|          | 0/3 [00:00<?, ?it/s]"
      ],
      "application/vnd.jupyter.widget-view+json": {
       "version_major": 2,
       "version_minor": 0,
       "model_id": "547168058bae49aea27aeada2c806adb"
      }
     },
     "metadata": {},
     "output_type": "display_data"
    },
    {
     "name": "stdout",
     "output_type": "stream",
     "text": [
      "Epoch: 1\n",
      "---------\n",
      "Looked at 0/60000 samples\n",
      "Looked at 12800/60000 samples\n",
      "Looked at 25600/60000 samples\n",
      "Looked at 38400/60000 samples\n",
      "Looked at 51200/60000 samples\n",
      "\n",
      "Train loss: 0.00000 | Test loss: 0.50305, Test acc: 81.85%\n",
      "\n",
      "Epoch: 2\n",
      "---------\n",
      "Looked at 0/60000 samples\n",
      "Looked at 12800/60000 samples\n",
      "Looked at 25600/60000 samples\n",
      "Looked at 38400/60000 samples\n",
      "Looked at 51200/60000 samples\n",
      "\n",
      "Train loss: 0.00000 | Test loss: 0.50263, Test acc: 82.33%\n",
      "\n",
      "Epoch: 3\n",
      "---------\n",
      "Looked at 0/60000 samples\n",
      "Looked at 12800/60000 samples\n",
      "Looked at 25600/60000 samples\n",
      "Looked at 38400/60000 samples\n",
      "Looked at 51200/60000 samples\n",
      "\n",
      "Train loss: 0.00000 | Test loss: 0.51653, Test acc: 81.99%\n",
      "\n",
      "Train time on cpu: 24.313 seconds\n"
     ]
    }
   ],
   "execution_count": 16
  },
  {
   "cell_type": "markdown",
   "source": "The baseline model did already do quite well. Let's evaluate the model.",
   "metadata": {
    "id": "k7wIrvwIkqz0"
   }
  },
  {
   "cell_type": "markdown",
   "source": [
    "## 4. Evaluate Model 0"
   ],
   "metadata": {
    "id": "JKYLHGMmkxHQ"
   }
  },
  {
   "cell_type": "code",
   "source": "!pip install torchmetrics",
   "metadata": {
    "id": "tQkgZEmFkqjF",
    "outputId": "60952ee3-f6c4-41e4-d20d-3265f6449ab9",
    "colab": {
     "base_uri": "https://localhost:8080/"
    }
   },
   "outputs": [],
   "execution_count": null
  },
  {
   "metadata": {
    "ExecuteTime": {
     "end_time": "2024-07-29T12:07:53.490500Z",
     "start_time": "2024-07-29T12:07:52.066125Z"
    }
   },
   "cell_type": "code",
   "source": [
    "from helper_functions import print_eval_metrics, eval_model\n",
    "from torchmetrics import MetricCollection, Accuracy, Recall, Precision, F1Score, AUROC, ConfusionMatrix\n",
    "\n",
    "metrics = MetricCollection({\n",
    "        \"accuracy\": Accuracy(task=\"multiclass\", num_classes=10, average='macro'),\n",
    "        \"recall\": Recall(task=\"multiclass\", num_classes=10, average='macro'),\n",
    "        \"precision\": Precision(task=\"multiclass\", num_classes=10, average='macro'),\n",
    "        \"f1-score\": F1Score(task=\"multiclass\", num_classes=10, average='macro'),\n",
    "        \"auroc\": AUROC(task=\"multiclass\", num_classes=10),\n",
    "        \"confmat\": ConfusionMatrix(task=\"multiclass\", num_classes=10)\n",
    "})\n",
    "\n",
    "loss, updated_metrics = eval_model(model_0, test_dl, loss_fn, metrics)\n",
    "computed_metrics = {name: metric.compute() for name, metric in updated_metrics.items() if name != \"confmat\"}\n",
    "\n",
    "print(f\"EVALUATION of {model_0.__class__.__name__}\")\n",
    "print_eval_metrics(loss, computed_metrics)\n",
    "\n",
    "metrics['confmat'].plot()"
   ],
   "outputs": [
    {
     "name": "stdout",
     "output_type": "stream",
     "text": [
      "EVALUATION of FashionMNISTModelV0\n",
      "Loss: 0.5165\n",
      "Accuracy: 0.8199\n",
      "Auroc: 0.9810\n",
      "F1-score: 0.8170\n",
      "Precision: 0.8232\n",
      "Recall: 0.8199\n"
     ]
    },
    {
     "data": {
      "text/plain": [
       "(<Figure size 640x480 with 1 Axes>,\n",
       " <Axes: xlabel='Predicted class', ylabel='True class'>)"
      ]
     },
     "execution_count": 18,
     "metadata": {},
     "output_type": "execute_result"
    },
    {
     "data": {
      "text/plain": [
       "<Figure size 640x480 with 1 Axes>"
      ],
      "image/png": "[encoded data removed]"
     },
     "metadata": {},
     "output_type": "display_data"
    }
   ],
   "execution_count": 18
  },
  {
   "metadata": {
    "ExecuteTime": {
     "end_time": "2024-07-29T12:08:02.891473Z",
     "start_time": "2024-07-29T12:08:02.880604Z"
    }
   },
   "cell_type": "code",
   "source": [
    "# Save model\n",
    "from pathlib import Path\n",
    "MODELS_DIR_PATH = Path(\"models\")\n",
    "MODEL_NAME_0 = \"03_pytorch_cv_model_0.pth\"\n",
    "MODELS_DIR_PATH.mkdir(parents=True, exist_ok=True)\n",
    "MODEL_SAVE_PATH_0 = MODELS_DIR_PATH / MODEL_NAME_0\n",
    "torch.save(obj=model_0.state_dict(), f=MODEL_SAVE_PATH_0)"
   ],
   "outputs": [],
   "execution_count": 19
  },
  {
   "metadata": {},
   "cell_type": "markdown",
   "source": "## 5. Setup device agnostic-code"
  },
  {
   "metadata": {
    "ExecuteTime": {
     "end_time": "2024-07-29T12:08:03.743700Z",
     "start_time": "2024-07-29T12:08:03.736994Z"
    }
   },
   "cell_type": "code",
   "source": [
    "device = \"cuda\" if torch.cuda.is_available() else \"cpu\"\n",
    "device"
   ],
   "outputs": [
    {
     "data": {
      "text/plain": [
       "'cuda'"
      ]
     },
     "execution_count": 20,
     "metadata": {},
     "output_type": "execute_result"
    }
   ],
   "execution_count": 20
  },
  {
   "metadata": {},
   "cell_type": "markdown",
   "source": "## 6. Model 1: Building a better model with non-linearity"
  },
  {
   "metadata": {
    "ExecuteTime": {
     "end_time": "2024-07-29T12:08:04.684628Z",
     "start_time": "2024-07-29T12:08:04.679856Z"
    }
   },
   "cell_type": "code",
   "source": [
    "class FashionMNISTModelV1(nn.Module):\n",
    "    def __init__(self, input_size: int, hidden_units: int, output_size: int):\n",
    "        super().__init__()\n",
    "        self.layer_stack = nn.Sequential(\n",
    "            nn.Flatten(),\n",
    "            nn.Linear(input_size, hidden_units),\n",
    "            nn.ReLU(),\n",
    "            nn.Linear(hidden_units, output_size),\n",
    "            nn.ReLU()\n",
    "        )\n",
    "    \n",
    "    def forward(self, x):\n",
    "        return self.layer_stack(x)"
   ],
   "outputs": [],
   "execution_count": 21
  },
  {
   "metadata": {
    "ExecuteTime": {
     "end_time": "2024-07-29T12:08:05.800992Z",
     "start_time": "2024-07-29T12:08:05.443762Z"
    }
   },
   "cell_type": "code",
   "source": [
    "torch.manual_seed(42)\n",
    "\n",
    "model_1 = FashionMNISTModelV1(28**2, 10, len(class_names)).to(device)"
   ],
   "outputs": [],
   "execution_count": 22
  },
  {
   "metadata": {},
   "cell_type": "markdown",
   "source": "### 6.1 Setup loss, optimizer and metrics"
  },
  {
   "metadata": {
    "ExecuteTime": {
     "end_time": "2024-07-29T12:08:06.996683Z",
     "start_time": "2024-07-29T12:08:06.983229Z"
    }
   },
   "cell_type": "code",
   "source": [
    "from torchmetrics.wrappers import MetricTracker\n",
    "from torchmetrics import MetricCollection, ConfusionMatrix, AUROC, F1Score, Precision, Recall, Accuracy\n",
    "\n",
    "loss_fn = nn.CrossEntropyLoss()\n",
    "optimizer = torch.optim.Adam(params=model_1.parameters(), lr=0.01)\n",
    "\n",
    "train_metrics = MetricCollection({\n",
    "    'accuracy': Accuracy(task=\"multiclass\", num_classes=10, average='macro'),\n",
    "    'f1_score': F1Score(task=\"multiclass\", num_classes=10, average='macro')\n",
    "})\n",
    "\n",
    "test_metrics = MetricCollection({\n",
    "    'accuracy': Accuracy(task=\"multiclass\", num_classes=10, average='macro'),\n",
    "    'recall': Recall(task=\"multiclass\", num_classes=10, average='macro'),\n",
    "    'precision': Precision(task=\"multiclass\", num_classes=10, average='macro'),\n",
    "    'f1_score': F1Score(task=\"multiclass\", num_classes=10, average='macro'),\n",
    "    'auroc': AUROC(task=\"multiclass\", num_classes=10, average='macro'),\n",
    "    'confmat': ConfusionMatrix(task=\"multiclass\", num_classes=10)\n",
    "})\n",
    "\n",
    "train_metric_tracker = MetricTracker(train_metrics)\n",
    "test_metric_tracker = MetricTracker(test_metrics)"
   ],
   "outputs": [],
   "execution_count": 23
  },
  {
   "metadata": {},
   "cell_type": "markdown",
   "source": [
    "## 6.2 Create training and testing loop\n",
    "I defined to functions `run_epoch()` and `plot_confusion_matrix()` in `helper_functions.py` to simplify the training-testing loop."
   ]
  },
  {
   "metadata": {
    "ExecuteTime": {
     "end_time": "2024-07-29T12:08:38.560274Z",
     "start_time": "2024-07-29T12:08:08.278722Z"
    }
   },
   "cell_type": "code",
   "source": [
    "torch.manual_seed(42)\n",
    "\n",
    "from timeit import default_timer as timer\n",
    "from helper_functions import plot_confusion_matrix, run_epoch\n",
    "train_time_start_on_gpu = timer()\n",
    "\n",
    "epochs = 3\n",
    "for epoch in tqdm(range(epochs)):\n",
    "    print(f\"\\nEPOCH {epoch+1}\\n---------\")\n",
    "    train_loss, train_metric_tracker = run_epoch(\n",
    "        model=model_1,\n",
    "        data_loader=train_dl,\n",
    "        loss_fn=loss_fn,\n",
    "        optimizer=optimizer,\n",
    "        metric_tracker=train_metric_tracker,\n",
    "        device=device\n",
    "    )\n",
    "    computed_train_metrics = train_metric_tracker.compute()\n",
    "    print(\"Training metrics:\")\n",
    "    print_eval_metrics(train_loss, computed_train_metrics)\n",
    "    \n",
    "    test_loss, test_metric_tracker = run_epoch(\n",
    "        model=model_1,\n",
    "        data_loader=test_dl,\n",
    "        loss_fn=loss_fn,\n",
    "        metric_tracker=test_metric_tracker,\n",
    "        device=device\n",
    "    )\n",
    "    \n",
    "    computed_test_metrics = test_metric_tracker.compute()\n",
    "    print(\"\\nTest metrics:\")\n",
    "    print_eval_metrics(test_loss, {k: v for k, v in computed_test_metrics.items() if k != 'confmat'})\n",
    "    \n",
    "    if epoch == epochs - 1:\n",
    "        confusion_matrix = computed_test_metrics['confmat']\n",
    "        plot_confusion_matrix(confusion_matrix, class_names)\n",
    "        \n",
    "train_time_end_on_gpu = timer()\n",
    "print()\n",
    "total_train_time_model_1 = print_train_time(train_time_start_on_gpu, train_time_end_on_gpu, device)\n"
   ],
   "outputs": [
    {
     "data": {
      "text/plain": [
       "  0%|          | 0/3 [00:00<?, ?it/s]"
      ],
      "application/vnd.jupyter.widget-view+json": {
       "version_major": 2,
       "version_minor": 0,
       "model_id": "bd209275caae41c6a04137a59ccf1318"
      }
     },
     "metadata": {},
     "output_type": "display_data"
    },
    {
     "name": "stdout",
     "output_type": "stream",
     "text": [
      "\n",
      "EPOCH 1\n",
      "---------\n",
      "Training metrics:\n",
      "Loss: 1.1798\n",
      "Accuracy: 0.5959\n",
      "F1_score: 0.5167\n",
      "\n",
      "Test metrics:\n",
      "Loss: 1.1303\n",
      "Accuracy: 0.6031\n",
      "Auroc: 0.9318\n",
      "F1_score: 0.5256\n",
      "Precision: 0.4870\n",
      "Recall: 0.6031\n",
      "\n",
      "EPOCH 2\n",
      "---------\n",
      "Training metrics:\n",
      "Loss: 1.1055\n",
      "Accuracy: 0.6124\n",
      "F1_score: 0.5364\n",
      "\n",
      "Test metrics:\n",
      "Loss: 1.1314\n",
      "Accuracy: 0.6037\n",
      "Auroc: 0.9331\n",
      "F1_score: 0.5252\n",
      "Precision: 0.4871\n",
      "Recall: 0.6037\n",
      "\n",
      "EPOCH 3\n",
      "---------\n",
      "Training metrics:\n",
      "Loss: 1.0881\n",
      "Accuracy: 0.6159\n",
      "F1_score: 0.5405\n",
      "\n",
      "Test metrics:\n",
      "Loss: 1.1398\n",
      "Accuracy: 0.6057\n",
      "Auroc: 0.9339\n",
      "F1_score: 0.5265\n",
      "Precision: 0.4892\n",
      "Recall: 0.6057\n",
      "Confusion Matrix:\n"
     ]
    },
    {
     "data": {
      "text/plain": [
       "<Figure size 1000x1000 with 1 Axes>"
      ],
      "image/png": "[encoded data removed]"
     },
     "metadata": {},
     "output_type": "display_data"
    },
    {
     "name": "stdout",
     "output_type": "stream",
     "text": [
      "\n",
      "Train time on cuda: 30.268 seconds\n"
     ]
    }
   ],
   "execution_count": 24
  },
  {
   "metadata": {},
   "cell_type": "markdown",
   "source": [
    "Awesome! But it looks like it longer to train the model on the GPU than on the CPU. How can that be?\n",
    "> Well, one reason could be because your dataset and model are both so small (like the dataset and model we're working with) the benefits of using a\n",
    " GPU are outweighed by the time it actually takes to transfer the data there. There's a small bottleneck between copying data from the CPU memory (default) to the GPU memory. So for smaller models and datasets, the CPU might\n",
    "  actually be the optimal place to compute on.\n",
    "But for larger datasets and models, the speed of computing the GPU can offer usually far outweighs the cost of getting the data there.\n",
    "However, this is largely dependant on the hardware you're using. With practice, you will get used to where the best place to train your models is."
   ]
  },
  {
   "metadata": {
    "ExecuteTime": {
     "end_time": "2024-07-29T12:08:40.039715Z",
     "start_time": "2024-07-29T12:08:40.032661Z"
    }
   },
   "cell_type": "code",
   "source": [
    "# Save model\n",
    "MODEL_NAME_1 = \"03_pytorch_cv_model_1.pth\"\n",
    "MODEL_SAVE_PATH_1 = MODELS_DIR_PATH / MODEL_NAME_1\n",
    "\n",
    "torch.save(obj=model_1, f=MODEL_SAVE_PATH_1)"
   ],
   "outputs": [],
   "execution_count": 25
  },
  {
   "metadata": {},
   "cell_type": "markdown",
   "source": "Let's compare the two models!"
  },
  {
   "metadata": {
    "ExecuteTime": {
     "end_time": "2024-07-29T12:10:49.882615Z",
     "start_time": "2024-07-29T12:10:47.807254Z"
    }
   },
   "cell_type": "code",
   "source": [
    "test_metrics.reset()\n",
    "loss_0, test_metrics_0 = eval_model(model_0, test_dl, loss_fn, test_metrics)\n",
    "eval_0 = {name: metric.compute() for name, metric in test_metrics_0.items() if name != \"confmat\"}\n",
    "\n",
    "test_metrics.reset()\n",
    "loss_1, test_metrics_1 = eval_model(model_1, test_dl, loss_fn, test_metrics)\n",
    "eval_1 = {name: metric.compute() for name, metric in test_metrics_1.items() if name != \"confmat\"}\n",
    "\n",
    "print(f\"EVALUATION of {model_0.__class__.__name__}\")\n",
    "print_eval_metrics(loss_0, eval_0)\n",
    "print(f\"\\nEVALUTATION of {model_1.__class__.__name__}\")\n",
    "print_eval_metrics(loss_1, eval_1)"
   ],
   "outputs": [
    {
     "name": "stdout",
     "output_type": "stream",
     "text": [
      "EVALUATION of FashionMNISTModelV0\n",
      "Loss: 0.5165\n",
      "Accuracy: 0.8199\n",
      "Auroc: 0.9810\n",
      "F1_score: 0.8170\n",
      "Precision: 0.8232\n",
      "Recall: 0.8199\n",
      "\n",
      "EVALUTATION of FashionMNISTModelV1\n",
      "Loss: 1.1398\n",
      "Accuracy: 0.6057\n",
      "Auroc: 0.9339\n",
      "F1_score: 0.5265\n",
      "Precision: 0.4892\n",
      "Recall: 0.6057\n"
     ]
    }
   ],
   "execution_count": 27
  },
  {
   "metadata": {},
   "cell_type": "markdown",
   "source": [
    "Interesting. In this case, it looks like adding non-linearity to our model made it perform worse than the baseline.\n",
    "\n",
    "> That's a thing to note in machine learning, sometimes the thing you thought should work doesn't. And then the thing you thought might not work does.\n",
    "\n",
    "Most likely, the model is overfitting to the training data.\n",
    "\n",
    "Two main (simplest) ways to fix overfitting include:\n",
    "1. Use a smaller or different model (some models fir certain kinds of data better than others)\n",
    "2. Use a larger dataset (the more data, the more chance the model has to learn generalizable patterns)\n",
    "\n",
    "There are also more ways to prevent overfitting in machine learning (e.g. regularization). Researching this is part of the extracurricular.\n",
    "\n",
    "In the meantime, we will try method 1 - using a different model architecture."
   ]
  },
  {
   "metadata": {},
   "cell_type": "markdown",
   "source": [
    "## 7. Model 2: Build a Convolutional Neural Network (CNN)\n",
    "CNNs are known for their capacity to find patterns in visual data (although their application extends way beyond just images).\n",
    "\n",
    "Let's see if a CNN model can improve upon our baseline. The CNN model we're going to be using it known as TinyVGG from https://poloclub.github.io/cnn-explainer.\n",
    "\n",
    "It follows the typical structure of a CNN:\n",
    "\n",
    "`Input layer -> [Convolutional layer -> activation layer -> pooling layer] -> Output layer`\n",
    "\n",
    "The convolutional blocks can be upscaled and repeated multiple times, depending on requirements."
   ]
  },
  {
   "metadata": {},
   "cell_type": "markdown",
   "source": [
    "### What model to use?\n",
    "\n",
    "| Problem type                          | Model to use (generally)                          | Code example                           |\n",
    "|---------------------------------------|---------------------------------------------------|----------------------------------------|\n",
    "| Structured data (Excel spreadsheets, row and column data) | Gradient boosted models, Random Forests, XGBoost | sklearn.ensemble, XGBoost library      |\n",
    "| Unstructured data (images, audio, language) | Convolutional Neural Networks, Transformers       | torchvision.models, HuggingFace Transformers |\n",
    "\n",
    "This is only a tiny, arbitrarily picked set of models. In reality, there are many more and the one to use depends on the problem at hand and the \n",
    "specific project requirements."
   ]
  },
  {
   "metadata": {
    "ExecuteTime": {
     "end_time": "2024-07-29T13:16:31.070157Z",
     "start_time": "2024-07-29T13:16:31.056633Z"
    }
   },
   "cell_type": "code",
   "source": [
    "class FashionMNISTModelV2(nn.Module):\n",
    "    def __init__(self, input_size: int, hidden_units: int, output_size: int):\n",
    "        super().__init__()\n",
    "        self.block_1 = nn.Sequential(\n",
    "            nn.Conv2d(in_channels=input_size,\n",
    "                      out_channels=hidden_units,\n",
    "                      kernel_size=3,\n",
    "                      stride=1,\n",
    "                      padding=1),\n",
    "            nn.ReLU(),\n",
    "            nn.MaxPool2d(kernel_size=2,\n",
    "                           stride=2)\n",
    "        )\n",
    "        self.block_2 = nn.Sequential(\n",
    "            nn.Conv2d(hidden_units, hidden_units, 3, padding=1),\n",
    "            nn.ReLU(),\n",
    "            nn.Conv2d(hidden_units, hidden_units, 3, padding=1),\n",
    "            nn.ReLU(),\n",
    "            nn.MaxPool2d(2)\n",
    "        )\n",
    "        self.classifier = nn.Sequential(\n",
    "            nn.Flatten(),\n",
    "            nn.Linear(in_features=hidden_units*7*7,\n",
    "                      out_features=output_size)\n",
    "        )\n",
    "        \n",
    "    def forward(self, x: torch.Tensor):\n",
    "        x = self.block_1(x)\n",
    "        # print(x.shape)\n",
    "        x = self.block_2(x)\n",
    "        # print(x.shape)\n",
    "        x = self.classifier(x)\n",
    "        # print(x.shape)\n",
    "        return x\n",
    "    \n",
    "torch.manual_seed(42)\n",
    "model_2 = FashionMNISTModelV2(1, 10, len(class_names)).to(device)\n",
    "\n",
    "model_2"
   ],
   "outputs": [
    {
     "data": {
      "text/plain": [
       "FashionMNISTModelV2(\n",
       "  (block_1): Sequential(\n",
       "    (0): Conv2d(1, 10, kernel_size=(3, 3), stride=(1, 1), padding=(1, 1))\n",
       "    (1): ReLU()\n",
       "    (2): MaxPool2d(kernel_size=2, stride=2, padding=0, dilation=1, ceil_mode=False)\n",
       "  )\n",
       "  (block_2): Sequential(\n",
       "    (0): Conv2d(10, 10, kernel_size=(3, 3), stride=(1, 1), padding=(1, 1))\n",
       "    (1): ReLU()\n",
       "    (2): Conv2d(10, 10, kernel_size=(3, 3), stride=(1, 1), padding=(1, 1))\n",
       "    (3): ReLU()\n",
       "    (4): MaxPool2d(kernel_size=2, stride=2, padding=0, dilation=1, ceil_mode=False)\n",
       "  )\n",
       "  (classifier): Sequential(\n",
       "    (0): Flatten(start_dim=1, end_dim=-1)\n",
       "    (1): Linear(in_features=490, out_features=10, bias=True)\n",
       "  )\n",
       ")"
      ]
     },
     "execution_count": 37,
     "metadata": {},
     "output_type": "execute_result"
    }
   ],
   "execution_count": 37
  },
  {
   "metadata": {},
   "cell_type": "markdown",
   "source": [
    "Nice! This is the biggest model of the course yet.\n",
    "\n",
    "What we have done is common practice in machine learning:\n",
    "\n",
    "\"Find a model architecture somewhere and replicate it with code.\""
   ]
  },
  {
   "metadata": {},
   "cell_type": "markdown",
   "source": [
    "### CNN architecture\n",
    "\n",
    "The two new layers we use in a CNN are the convolutional layer and the max-pooling layer:\n",
    "- `nn.Conv2d`: the convolutional layer performs a two-dimensional convolution on the input tensor. There are also 1D and 3D convolutions \n",
    "implemented in PyTorch. To understand what a convolution is, how it works inside CNNs and what the hyperparameters mean, see:[CNN Explainer \n",
    "website](https://poloclub.github.io/cnn-explainer/), [CNNs Explained](https://youtu.be/pj9-rr1wDhM?si=U9EoZQDSyJIWVQlD), and [But what is a \n",
    "convolution?](https://youtu.be/KuXjwB4LzSA?si=kSr1_3yI-VOnuR3r).\n",
    "- `nn.MaxPool2d`: the max-pooling layer performs further compression of the convolutional layer output by moving another kernel over the input \n",
    "and only selecting (pooling) the maximum value inside the kernel into the output tensor. For a visual explainer see [CNNs Explained](https://youtu\n",
    ".be/pj9-rr1wDhM?si=U9EoZQDSyJIWVQlD)."
   ]
  },
  {
   "metadata": {},
   "cell_type": "markdown",
   "source": "### 7.3 Setup a loss function, optimizer and metrics for Model 2"
  },
  {
   "metadata": {
    "ExecuteTime": {
     "end_time": "2024-07-29T13:16:33.244148Z",
     "start_time": "2024-07-29T13:16:33.235100Z"
    }
   },
   "cell_type": "code",
   "source": [
    "loss_fn = nn.CrossEntropyLoss()\n",
    "optimizer = torch.optim.Adam(params=model_2.parameters(), lr=0.01)\n",
    "\n",
    "train_metric_tracker.reset_all()\n",
    "test_metric_tracker.reset()"
   ],
   "outputs": [],
   "execution_count": 38
  },
  {
   "metadata": {},
   "cell_type": "markdown",
   "source": "### 7.4 Train and test Model 2\n"
  },
  {
   "metadata": {
    "ExecuteTime": {
     "end_time": "2024-07-29T13:17:08.895638Z",
     "start_time": "2024-07-29T13:16:34.740965Z"
    }
   },
   "cell_type": "code",
   "source": [
    "torch.manual_seed(42)\n",
    "\n",
    "from timeit import default_timer as timer\n",
    "from helper_functions import run_epoch, plot_confusion_matrix\n",
    "train_time_start_model_2 = timer()\n",
    "\n",
    "epochs = 3\n",
    "for epoch in tqdm(range(epochs)):\n",
    "    print(f\"\\nEPOCH {epoch+1}\\n---------\")\n",
    "    train_loss, train_metric_tracker = run_epoch(model_2, train_dl, loss_fn, optimizer, train_metric_tracker, device)\n",
    "    computed_train_metrics = train_metric_tracker.compute()\n",
    "    print(\"TRAINING:\")\n",
    "    print_eval_metrics(train_loss, computed_train_metrics)\n",
    "    \n",
    "    test_loss, test_metric_tracker = run_epoch(model_2, test_dl, loss_fn, optimizer=None, metric_tracker=test_metric_tracker, device=device)\n",
    "    computed_test_metrics = test_metric_tracker.compute()\n",
    "    print(\"TESTING:\")\n",
    "    print_eval_metrics(test_loss, {k: v for k, v in computed_test_metrics.items() if k != 'confmat'})\n",
    "    \n",
    "    if epoch == epochs - 1:\n",
    "        confusion_matrix = computed_test_metrics['confmat']\n",
    "        plot_confusion_matrix(confusion_matrix, class_names)\n",
    "   \n",
    "train_time_end_model_2 = timer()\n",
    "total_train_time_model_2 = print_train_time(train_time_start_model_2, train_time_end_model_2, device)"
   ],
   "outputs": [
    {
     "data": {
      "text/plain": [
       "  0%|          | 0/3 [00:00<?, ?it/s]"
      ],
      "application/vnd.jupyter.widget-view+json": {
       "version_major": 2,
       "version_minor": 0,
       "model_id": "9519dcac6c8e408b87cff3aa27b82fc7"
      }
     },
     "metadata": {},
     "output_type": "display_data"
    },
    {
     "name": "stdout",
     "output_type": "stream",
     "text": [
      "EPOCH 1\n",
      "---------\n",
      "TRAINING:\n",
      "Loss: 0.4735\n",
      "Accuracy: 0.8278\n",
      "F1_score: 0.8266\n",
      "TESTING:\n",
      "Loss: 0.4236\n",
      "Accuracy: 0.8452\n",
      "Auroc: 0.9861\n",
      "F1_score: 0.8404\n",
      "Precision: 0.8497\n",
      "Recall: 0.8452\n",
      "EPOCH 2\n",
      "---------\n",
      "TRAINING:\n",
      "Loss: 0.3777\n",
      "Accuracy: 0.8630\n",
      "F1_score: 0.8622\n",
      "TESTING:\n",
      "Loss: 0.3868\n",
      "Accuracy: 0.8618\n",
      "Auroc: 0.9877\n",
      "F1_score: 0.8566\n",
      "Precision: 0.8634\n",
      "Recall: 0.8618\n",
      "EPOCH 3\n",
      "---------\n",
      "TRAINING:\n",
      "Loss: 0.3626\n",
      "Accuracy: 0.8670\n",
      "F1_score: 0.8663\n",
      "TESTING:\n",
      "Loss: 0.3856\n",
      "Accuracy: 0.8599\n",
      "Auroc: 0.9879\n",
      "F1_score: 0.8551\n",
      "Precision: 0.8628\n",
      "Recall: 0.8599\n"
     ]
    },
    {
     "data": {
      "text/plain": [
       "<Figure size 1000x1000 with 1 Axes>"
      ],
      "image/png": "[encoded data removed]"
     },
     "metadata": {},
     "output_type": "display_data"
    },
    {
     "name": "stdout",
     "output_type": "stream",
     "text": [
      "Train time on cuda: 34.145 seconds\n"
     ]
    }
   ],
   "execution_count": 39
  },
  {
   "metadata": {
    "ExecuteTime": {
     "end_time": "2024-07-29T13:24:12.254747Z",
     "start_time": "2024-07-29T13:24:10.175164Z"
    }
   },
   "cell_type": "code",
   "source": [
    "test_metrics.reset()\n",
    "loss_2, test_metrics_2 = eval_model(model_2, test_dl, loss_fn, test_metrics)\n",
    "eval_2 = {name: metric.compute() for name, metric in test_metrics_2.items() if name != \"confmat\"}"
   ],
   "outputs": [],
   "execution_count": 41
  },
  {
   "metadata": {},
   "cell_type": "markdown",
   "source": [
    "## 8. Compare model results and training time\n",
    "We've trained three different models:\n",
    "1. `model_0` - our baseline model with two `nn.Linear()` layers.\n",
    "2. `model_1` - the same setup as the baseline model except that it uses `nn.ReLU()` as activation function\n",
    "3. `model_2` - our CNN that mimics TinyVGG architecture on the CNN Explainer website\n",
    "\n",
    "This is a regular practice in ML: Build multiple models and perform multiple training experiments to see which performs best.\n",
    "\n",
    "Let's combine the model results into a data frame and find out."
   ]
  },
  {
   "metadata": {
    "ExecuteTime": {
     "end_time": "2024-07-29T13:35:19.986102Z",
     "start_time": "2024-07-29T13:35:19.973755Z"
    }
   },
   "cell_type": "code",
   "source": [
    "import pandas as pd\n",
    "from typing import Dict\n",
    "\n",
    "def format_eval(eval: Dict[str, torch.Tensor]):\n",
    "    return {k.capitalize(): f\"{100 * v.item():.2f}%\" for k, v in eval.items()}\n",
    "\n",
    "\n",
    "model_benchmark = pd.DataFrame([\n",
    "    format_eval(eval_0), \n",
    "    format_eval(eval_1), \n",
    "    format_eval(eval_2)\n",
    "])\n",
    "model_benchmark['Training time'] = [\n",
    "    f\"{total_train_time_model_0:.1f} s\",\n",
    "    f\"{total_train_time_model_1:.1f} s\",\n",
    "    f\"{total_train_time_model_2:.1f} s\"\n",
    "]\n",
    "model_benchmark"
   ],
   "outputs": [
    {
     "data": {
      "text/plain": [
       "  Accuracy   Auroc F1_score Precision  Recall Training time\n",
       "0   81.99%  98.10%   81.70%    82.32%  81.99%        24.3 s\n",
       "1   60.57%  93.39%   52.65%    48.92%  60.57%        30.3 s\n",
       "2   85.99%  98.79%   85.51%    86.28%  85.99%        34.1 s"
      ],
      "text/html": [
       "<div>\n",
       "<style scoped>\n",
       "    .dataframe tbody tr th:only-of-type {\n",
       "        vertical-align: middle;\n",
       "    }\n",
       "\n",
       "    .dataframe tbody tr th {\n",
       "        vertical-align: top;\n",
       "    }\n",
       "\n",
       "    .dataframe thead th {\n",
       "        text-align: right;\n",
       "    }\n",
       "</style>\n",
       "<table border=\"1\" class=\"dataframe\">\n",
       "  <thead>\n",
       "    <tr style=\"text-align: right;\">\n",
       "      <th></th>\n",
       "      <th>Accuracy</th>\n",
       "      <th>Auroc</th>\n",
       "      <th>F1_score</th>\n",
       "      <th>Precision</th>\n",
       "      <th>Recall</th>\n",
       "      <th>Training time</th>\n",
       "    </tr>\n",
       "  </thead>\n",
       "  <tbody>\n",
       "    <tr>\n",
       "      <th>0</th>\n",
       "      <td>81.99%</td>\n",
       "      <td>98.10%</td>\n",
       "      <td>81.70%</td>\n",
       "      <td>82.32%</td>\n",
       "      <td>81.99%</td>\n",
       "      <td>24.3 s</td>\n",
       "    </tr>\n",
       "    <tr>\n",
       "      <th>1</th>\n",
       "      <td>60.57%</td>\n",
       "      <td>93.39%</td>\n",
       "      <td>52.65%</td>\n",
       "      <td>48.92%</td>\n",
       "      <td>60.57%</td>\n",
       "      <td>30.3 s</td>\n",
       "    </tr>\n",
       "    <tr>\n",
       "      <th>2</th>\n",
       "      <td>85.99%</td>\n",
       "      <td>98.79%</td>\n",
       "      <td>85.51%</td>\n",
       "      <td>86.28%</td>\n",
       "      <td>85.99%</td>\n",
       "      <td>34.1 s</td>\n",
       "    </tr>\n",
       "  </tbody>\n",
       "</table>\n",
       "</div>"
      ]
     },
     "execution_count": 50,
     "metadata": {},
     "output_type": "execute_result"
    }
   ],
   "execution_count": 50
  },
  {
   "metadata": {},
   "cell_type": "markdown",
   "source": "It looks like our CNN model performed the best but also was the slowest during training. And our baseline model performed better then `model_1`."
  },
  {
   "metadata": {},
   "cell_type": "markdown",
   "source": [
    "### Performance-speed tradeoff\n",
    "Something to be aware of in machine learning is the **performance-speed** tradeoff.\n",
    "\n",
    "Generally, you get better performance out of a larger, more complex model (like our CNN). However, this kind of performance increase often comes at\n",
    " a sacrifice of training and inference speed, and at the risk of overfitting to the dataset used to train and evaluate the model."
   ]
  },
  {
   "metadata": {},
   "cell_type": "markdown",
   "source": "## 9. Plot a confusion matrix"
  },
  {
   "metadata": {
    "jupyter": {
     "is_executing": true
    }
   },
   "cell_type": "code",
   "source": [
    "# First make some predictions\n",
    "y_preds = []\n",
    "model_2.eval()\n",
    "with torch.inference_mode():\n",
    "    for X, y in tqdm(test_dl, desc=\"Making predictions\"):\n",
    "        X, y = X.to(device), y.to(device)\n",
    "        y_logit = model_2(X)\n",
    "        y_pred = torch.softmax(y_logit, dim=1).argmax(dim=1)\n",
    "        y_preds.append(y_pred.cpu())\n",
    "# Concatenate list of predictions into a tensor\n",
    "y_pred_tensor = torch.cat(y_preds)"
   ],
   "outputs": [],
   "execution_count": null
  },
  {
   "metadata": {
    "ExecuteTime": {
     "end_time": "2024-07-29T13:44:02.153949Z",
     "start_time": "2024-07-29T13:43:59.842575Z"
    }
   },
   "cell_type": "code",
   "source": [
    "# See if mlxtend exists, if not, install it\n",
    "try:\n",
    "    import mlxtend\n",
    "    print(f\"mlxtend version: {mlxtend.__version__}\")\n",
    "    assert int(mlxtend.__version__.split(\".\")[1]) >= 19, \"mlxtend verison should be 0.19.0 or higher\"\n",
    "except:\n",
    "    !pip install mlxtend # <- Note: If you're using Google Colab, this may require restarting the runtime\n",
    "    import mlxtend\n",
    "    print(f\"mlxtend version: {mlxtend.__version__}\")"
   ],
   "outputs": [
    {
     "name": "stdout",
     "output_type": "stream",
     "text": [
      "Collecting mlxtend\r\n",
      "  Downloading mlxtend-0.23.1-py3-none-any.whl.metadata (7.3 kB)\r\n",
      "Requirement already satisfied: scipy>=1.2.1 in /opt/conda/envs/learning-pytorch/lib/python3.10/site-packages (from mlxtend) (1.14.0)\r\n",
      "Requirement already satisfied: numpy>=1.16.2 in /opt/conda/envs/learning-pytorch/lib/python3.10/site-packages (from mlxtend) (2.0.1)\r\n",
      "Requirement already satisfied: pandas>=0.24.2 in /opt/conda/envs/learning-pytorch/lib/python3.10/site-packages (from mlxtend) (2.2.2)\r\n",
      "Requirement already satisfied: scikit-learn>=1.0.2 in /opt/conda/envs/learning-pytorch/lib/python3.10/site-packages (from mlxtend) (1.5.1)\r\n",
      "Requirement already satisfied: matplotlib>=3.0.0 in /opt/conda/envs/learning-pytorch/lib/python3.10/site-packages (from mlxtend) (3.9.1)\r\n",
      "Requirement already satisfied: joblib>=0.13.2 in /opt/conda/envs/learning-pytorch/lib/python3.10/site-packages (from mlxtend) (1.4.2)\r\n",
      "Requirement already satisfied: contourpy>=1.0.1 in /opt/conda/envs/learning-pytorch/lib/python3.10/site-packages (from matplotlib>=3.0.0->mlxtend) (1.2.1)\r\n",
      "Requirement already satisfied: cycler>=0.10 in /opt/conda/envs/learning-pytorch/lib/python3.10/site-packages (from matplotlib>=3.0.0->mlxtend) (0.12.1)\r\n",
      "Requirement already satisfied: fonttools>=4.22.0 in /opt/conda/envs/learning-pytorch/lib/python3.10/site-packages (from matplotlib>=3.0.0->mlxtend) (4.53.1)\r\n",
      "Requirement already satisfied: kiwisolver>=1.3.1 in /opt/conda/envs/learning-pytorch/lib/python3.10/site-packages (from matplotlib>=3.0.0->mlxtend) (1.4.5)\r\n",
      "Requirement already satisfied: packaging>=20.0 in /opt/conda/envs/learning-pytorch/lib/python3.10/site-packages (from matplotlib>=3.0.0->mlxtend) (24.1)\r\n",
      "Requirement already satisfied: pillow>=8 in /opt/conda/envs/learning-pytorch/lib/python3.10/site-packages (from matplotlib>=3.0.0->mlxtend) (10.4.0)\r\n",
      "Requirement already satisfied: pyparsing>=2.3.1 in /opt/conda/envs/learning-pytorch/lib/python3.10/site-packages (from matplotlib>=3.0.0->mlxtend) (3.1.2)\r\n",
      "Requirement already satisfied: python-dateutil>=2.7 in /opt/conda/envs/learning-pytorch/lib/python3.10/site-packages (from matplotlib>=3.0.0->mlxtend) (2.9.0)\r\n",
      "Requirement already satisfied: pytz>=2020.1 in /opt/conda/envs/learning-pytorch/lib/python3.10/site-packages (from pandas>=0.24.2->mlxtend) (2024.1)\r\n",
      "Requirement already satisfied: tzdata>=2022.7 in /opt/conda/envs/learning-pytorch/lib/python3.10/site-packages (from pandas>=0.24.2->mlxtend) (2024.1)\r\n",
      "Requirement already satisfied: threadpoolctl>=3.1.0 in /opt/conda/envs/learning-pytorch/lib/python3.10/site-packages (from scikit-learn>=1.0.2->mlxtend) (3.5.0)\r\n",
      "Requirement already satisfied: six>=1.5 in /opt/conda/envs/learning-pytorch/lib/python3.10/site-packages (from python-dateutil>=2.7->matplotlib>=3.0.0->mlxtend) (1.16.0)\r\n",
      "Downloading mlxtend-0.23.1-py3-none-any.whl (1.4 MB)\r\n",
      "\u001B[2K   \u001B[90m━━━━━━━━━━━━━━━━━━━━━━━━━━━━━━━━━━━━━━━━\u001B[0m \u001B[32m1.4/1.4 MB\u001B[0m \u001B[31m64.8 MB/s\u001B[0m eta \u001B[36m0:00:00\u001B[0m\r\n",
      "\u001B[?25hInstalling collected packages: mlxtend\r\n",
      "Successfully installed mlxtend-0.23.1\r\n"
     ]
    }
   ],
   "execution_count": 52
  },
  {
   "metadata": {},
   "cell_type": "code",
   "outputs": [],
   "execution_count": null,
   "source": [
    "from mlxtend.plotting import plot_confusion_matrix\n",
    "\n",
    "confmat = ConfusionMatrix(task='multiclass', num_classes=len(class_names))\n",
    "confmat_tensor = confmat(y_pred_tensor, test_data.targets)\n",
    "\n",
    "fig, ax = plot_confusion_matrix(\n",
    "    conf_mat=confmat_tensor.numpy(),\n",
    "    class_names=class_names,\n",
    "    figsize=(10, 7)\n",
    ")"
   ]
  },
  {
   "metadata": {},
   "cell_type": "markdown",
   "source": "## 10. Save and load best performing model"
  },
  {
   "metadata": {},
   "cell_type": "code",
   "outputs": [],
   "execution_count": null,
   "source": [
    "from pathlib import Path\n",
    "\n",
    "MODELS_DIR_PATH = Path('models')\n",
    "MODELS_DIR_PATH.mkdir(parents=True, exist_ok=True)\n",
    "\n",
    "MODEL_NAME_2 = \"03_pytorch_cv_model_2.pth\"\n",
    "MODEL_SAVE_PATH_2 = MODELS_DIR_PATH / MODEL_NAME_2\n",
    "\n",
    "torch.save(obj=model_2.state_dict(), f=MODEL_SAVE_PATH_2)"
   ]
  }
 ]
}
