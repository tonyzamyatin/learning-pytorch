{
 "nbformat": 4,
 "nbformat_minor": 0,
 "metadata": {
  "colab": {
   "name": "01_pytorch_workflow_exercises.ipynb",
   "provenance": [],
   "include_colab_link": true
  },
  "kernelspec": {
   "name": "python3",
   "display_name": "Python 3"
  },
  "language_info": {
   "name": "python"
  },
  "accelerator": "GPU"
 },
 "cells": [
  {
   "cell_type": "markdown",
   "metadata": {
    "id": "view-in-github",
    "colab_type": "text"
   },
   "source": [
    "<a href=\"https://colab.research.google.com/github/tonyzamyatin/learning-pytorch/blob/master/fcc-course/01_workflow_exercises.ipynb\" target=\"_parent\"><img src=\"https://colab.research.google.com/assets/colab-badge.svg\" alt=\"Open In Colab\"/></a>"
   ]
  },
  {
   "cell_type": "markdown",
   "source": [
    "# 01. PyTorch Workflow Exercise Template\n",
    "\n",
    "The following is a template for the PyTorch workflow exercises.\n",
    "\n",
    "It's only starter code and it's your job to fill in the blanks.\n",
    "\n",
    "Because of the flexibility of PyTorch, there may be more than one way to answer the question.\n",
    "\n",
    "Don't worry about trying to be *right* just try writing code that suffices the question.\n",
    "\n",
    "You can see one form of [solutions on GitHub](https://github.com/mrdbourke/pytorch-deep-learning/tree/main/extras/solutions) (but try the exercises below yourself first!)."
   ],
   "metadata": {
    "id": "N8LsPXZti9Sw"
   }
  },
  {
   "cell_type": "code",
   "source": [
    "# Import necessary libraries\n",
    "import torch\n",
    "from torch import nn\n",
    "import matplotlib.pyplot as plt"
   ],
   "metadata": {
    "id": "Glu2fM4dkNlx"
   },
   "execution_count": 2,
   "outputs": []
  },
  {
   "cell_type": "code",
   "source": [
    "# Setup device-agnostic code\n",
    "device_type = \"cuda\" if torch.cuda.is_available() else \"cpu\"\n",
    "device = torch.device(device_type)"
   ],
   "metadata": {
    "id": "LqKhXY26m31s"
   },
   "execution_count": 38,
   "outputs": []
  },
  {
   "cell_type": "markdown",
   "source": [
    "## 1. Create a straight line dataset using the linear regression formula (`weight * X + bias`).\n",
    "  * Set `weight=0.3` and `bias=0.9` there should be at least 100 datapoints total.\n",
    "  * Split the data into 80% training, 20% testing.\n",
    "  * Plot the training and testing data so it becomes visual.\n",
    "\n",
    "Your output of the below cell should look something like:\n",
    "```\n",
    "Number of X samples: 100\n",
    "Number of y samples: 100\n",
    "First 10 X & y samples:\n",
    "X: tensor([0.0000, 0.0100, 0.0200, 0.0300, 0.0400, 0.0500, 0.0600, 0.0700, 0.0800,\n",
    "        0.0900])\n",
    "y: tensor([0.9000, 0.9030, 0.9060, 0.9090, 0.9120, 0.9150, 0.9180, 0.9210, 0.9240,\n",
    "        0.9270])\n",
    "```\n",
    "\n",
    "Of course the numbers in `X` and `y` may be different but ideally they're created using the linear regression formula."
   ],
   "metadata": {
    "id": "g7HUhxCxjeBx"
   }
  },
  {
   "cell_type": "code",
   "source": [
    "# Create the data parameters\n",
    "weight = 0.3\n",
    "bias = 0.9\n",
    "\n",
    "# Make X and y using linear regression feature\n",
    "X = torch.arange(start=0, end=1, step=0.01).unsqueeze(dim=1)\n",
    "y = weight * X + bias\n",
    "\n",
    "print(f\"Shape of X: {X.shape}\")\n",
    "print(f\"Number of X samples: {len(X)}\")\n",
    "print(f\"Number of y samples: {len(y)}\")\n",
    "print(f\"First 10 X & y samples:\\nX: {X[:10]}\\ny: {y[:10]}\")"
   ],
   "metadata": {
    "id": "KbDG5MV7jhvE",
    "outputId": "fa948c77-251e-424c-c314-7e0682715e57",
    "colab": {
     "base_uri": "https://localhost:8080/"
    }
   },
   "execution_count": 65,
   "outputs": []
  },
  {
   "cell_type": "code",
   "source": [
    "# Split the data into training and testing\n",
    "train_split = int(0.8 * len(X))\n",
    "X_train, y_train = X[:train_split], y[:train_split]\n",
    "X_test, y_test = X[train_split:], y[train_split:]\n",
    "\n",
    "len(X_train), len(y_train), len(X_test), len(y_test)"
   ],
   "metadata": {
    "id": "GlwtT1djkmLw",
    "outputId": "982e9bbe-db81-4886-b46f-eb94084f6cd5",
    "colab": {
     "base_uri": "https://localhost:8080/"
    }
   },
   "execution_count": 66,
   "outputs": []
  },
  {
   "cell_type": "code",
   "source": [
    "# Plot the training and testing data\n",
    "def plot_predictions(train_data = X_train.cpu(),\n",
    "                     train_labels = y_train.cpu(),\n",
    "                     test_data = X_test.cpu(),\n",
    "                     test_labels = y_test.cpu(),\n",
    "                     predictions = None):\n",
    "  plt.figure(figsize=(10, 7))\n",
    "\n",
    "  plt.scatter(x=train_data, y=train_labels, c='b', s=4, label=\"Training data\")\n",
    "  plt.scatter(x=test_data, y=test_labels, c='g', s=4, label=\"Test data\")\n",
    "\n",
    "  if predictions is not None:\n",
    "    plt.scatter(x=test_data, y=predictions, c='r', s=4, label=\"Predictions\")\n",
    "\n",
    "  plt.legend(prop={\"size\": 14})\n",
    "\n",
    "plot_predictions()"
   ],
   "metadata": {
    "id": "29iQZFNhlYJ-",
    "outputId": "69a6b92a-a7f4-4d8d-f4c6-2f976cb5de4b",
    "colab": {
     "base_uri": "https://localhost:8080/",
     "height": 599
    }
   },
   "execution_count": 89,
   "outputs": []
  },
  {
   "cell_type": "markdown",
   "source": [
    "## 2. Build a PyTorch model by subclassing `nn.Module`.\n",
    "  * Inside should be a randomly initialized `nn.Parameter()` with `requires_grad=True`, one for `weights` and one for `bias`.\n",
    "  * Implement the `forward()` method to compute the linear regression function you used to create the dataset in 1.\n",
    "  * Once you've constructed the model, make an instance of it and check its `state_dict()`.\n",
    "  * **Note:** If you'd like to use `nn.Linear()` instead of `nn.Parameter()` you can."
   ],
   "metadata": {
    "id": "ImZoe3v8jif8"
   }
  },
  {
   "cell_type": "code",
   "source": [
    "# Create PyTorch linear regression model by subclassing nn.Module\n",
    "class LinearRegressionModel(nn.Module):\n",
    "\n",
    "  def __init__(self):\n",
    "    super().__init__()\n",
    "    self.linear = nn.Linear(in_features=1, out_features=1, bias=True)\n",
    "\n",
    "  def forward(self, x: torch.Tensor) -> torch.Tensor:\n",
    "    return self.linear(x)"
   ],
   "metadata": {
    "id": "qzd__Y5rjtB8"
   },
   "execution_count": 81,
   "outputs": []
  },
  {
   "cell_type": "code",
   "source": [
    "# Instantiate the model and put it to the target device\n",
    "torch.manual_seed(42)\n",
    "model = LinearRegressionModel()\n",
    "model.to(device.type)\n",
    "\n",
    "model.state_dict(), next(model.parameters()).device"
   ],
   "metadata": {
    "id": "5LdcDnmOmyQ2",
    "outputId": "77c67e85-0aa5-4988-9c6f-61975b6dc411",
    "colab": {
     "base_uri": "https://localhost:8080/"
    }
   },
   "execution_count": 82,
   "outputs": []
  },
  {
   "cell_type": "markdown",
   "source": [
    "## 3. Create a loss function and optimizer using `nn.L1Loss()` and `torch.optim.SGD(params, lr)` respectively.\n",
    "  * Set the learning rate of the optimizer to be 0.01 and the parameters to optimize should be the model parameters from the model you created in 2.\n",
    "  * Write a training loop to perform the appropriate training steps for 300 epochs.\n",
    "  * The training loop should test the model on the test dataset every 20 epochs."
   ],
   "metadata": {
    "id": "G6nYOrJhjtfu"
   }
  },
  {
   "cell_type": "code",
   "source": [
    "# Create the loss function and optimizer\n",
    "learning_rate = 0.01\n",
    "loss_fn = nn.L1Loss()\n",
    "optimizer = torch.optim.SGD(params=model.parameters(), lr=learning_rate)"
   ],
   "metadata": {
    "id": "ltvoZ-FWjv1j"
   },
   "execution_count": 83,
   "outputs": []
  },
  {
   "cell_type": "code",
   "source": [
    "# Training loop\n",
    "\n",
    "\n",
    "# Train model for 300 epochs\n",
    "epochs = 300\n",
    "\n",
    "# Send data to target device\n",
    "model.to(device.type)\n",
    "X_train = X_train.to(device.type)\n",
    "y_train = y_train.to(device.type)\n",
    "X_test = X_test.to(device.type)\n",
    "y_test = y_test.to(device.type)\n",
    "\n",
    "for epoch in range(epochs):\n",
    "  ### Training\n",
    "\n",
    "  # Put model in train mode\n",
    "  model.train()\n",
    "\n",
    "  # 1. Forward pass\n",
    "  pred_train = model(X_train)\n",
    "\n",
    "  # 2. Calculate loss\n",
    "  loss = loss_fn(pred_train, y_train)\n",
    "\n",
    "  # 3. Zero gradients\n",
    "  model.zero_grad()\n",
    "\n",
    "  # 4. Backpropagation\n",
    "  loss.backward()\n",
    "\n",
    "  # 5. Step the optimizer\n",
    "  optimizer.step()\n",
    "\n",
    "  ### Perform testing every 20 epochs\n",
    "  if epoch % 20 == 0:\n",
    "\n",
    "    # Put model in evaluation mode and setup inference context\n",
    "    model.eval()\n",
    "    with torch.inference_mode():\n",
    "      # 1. Forward pass\n",
    "      pred_test = model(X_test)\n",
    "      # 2. Calculate test loss\n",
    "      test_loss = loss_fn(pred_test, y_test)\n",
    "      # Print out what's happening\n",
    "      print(f\"Epoch: {epoch} | Train loss: {loss:.3f} | Test loss: {test_loss:.3f}\")\n",
    "\n",
    "print(f\"Estimate paramters: {model.state_dict()}\")\n",
    "print(f\"True parameters: weight={weight}, bias={bias}\")"
   ],
   "metadata": {
    "id": "xpE83NvNnkdV",
    "outputId": "c8a9e2dc-d3cb-4722-d3ec-78d74a3ea349",
    "colab": {
     "base_uri": "https://localhost:8080/"
    }
   },
   "execution_count": 88,
   "outputs": []
  },
  {
   "cell_type": "markdown",
   "source": [
    "## 4. Make predictions with the trained model on the test data.\n",
    "  * Visualize these predictions against the original training and testing data (**note:** you may need to make sure the predictions are *not* on the GPU if you want to use non-CUDA-enabled libraries such as matplotlib to plot)."
   ],
   "metadata": {
    "id": "x4j4TM18jwa7"
   }
  },
  {
   "cell_type": "code",
   "source": [
    "# Make predictions with the model\n",
    "model.eval()\n",
    "with torch.inference_mode():\n",
    "  test_pred = model(X_test)"
   ],
   "metadata": {
    "id": "bbMPK5Qjjyx_"
   },
   "execution_count": 93,
   "outputs": []
  },
  {
   "cell_type": "code",
   "source": [
    "# Plot the predictions (these may need to be on a specific device)\n",
    "plot_predictions(predictions=test_pred.cpu())"
   ],
   "metadata": {
    "id": "K3BdmQaDpFo8",
    "outputId": "f8841e4a-c449-4449-82b8-28828196a1fd",
    "colab": {
     "base_uri": "https://localhost:8080/",
     "height": 599
    }
   },
   "execution_count": 94,
   "outputs": []
  },
  {
   "cell_type": "markdown",
   "source": [
    "## 5. Save your trained model's `state_dict()` to file.\n",
    "  * Create a new instance of your model class you made in 2. and load in the `state_dict()` you just saved to it.\n",
    "  * Perform predictions on your test data with the loaded model and confirm they match the original model predictions from 4."
   ],
   "metadata": {
    "id": "s2OnlMWKjzX8"
   }
  },
  {
   "cell_type": "code",
   "source": [
    "from pathlib import Path\n",
    "\n",
    "# 1. Create models directory\n",
    "MODEL_PATH = Path(\"models\")\n",
    "MODEL_PATH.mkdir(parents=True, exist_ok=True)\n",
    "\n",
    "# 2. Create model save path\n",
    "MODEL_NAME = \"01_pytorch_workflow_model_exercise.pth\"\n",
    "MODEL_SAVE_PATH = MODEL_PATH / MODEL_NAME\n",
    "\n",
    "# 3. Save the model state dict\n",
    "print(f\"Saving model to: {MODEL_SAVE_PATH}\")\n",
    "torch.save(obj=model.state_dict(), f=MODEL_SAVE_PATH)"
   ],
   "metadata": {
    "id": "hgxhgD14qr-i",
    "outputId": "a0958bdc-cd7d-4e55-d1d9-645a3528483d",
    "colab": {
     "base_uri": "https://localhost:8080/"
    }
   },
   "execution_count": 95,
   "outputs": []
  },
  {
   "cell_type": "code",
   "source": [
    "# Create new instance of model and load saved state dict (make sure to put it on the target device)\n",
    "loaded_model = LinearRegressionModel()\n",
    "loaded_model.load_state_dict(torch.load(MODEL_SAVE_PATH))\n",
    "\n",
    "loaded_model.state_dict()"
   ],
   "metadata": {
    "id": "P9vTgiLRrJ7T",
    "outputId": "7b026efc-68cc-4ad7-8301-f5e3229e4d94",
    "colab": {
     "base_uri": "https://localhost:8080/"
    }
   },
   "execution_count": 97,
   "outputs": []
  },
  {
   "cell_type": "code",
   "source": [
    "# Make predictions with loaded model and compare them to the previous\n",
    "loaded_device_type = next(loaded_model.parameters()).device\n",
    "model.to(loaded_device_type)\n",
    "X_test = X_test.to(loaded_device_type)\n",
    "\n",
    "loaded_model.eval()\n",
    "model.eval()\n",
    "with torch.inference_mode():\n",
    "  test_pred_original = model(X_test)\n",
    "  test_pred_loaded = loaded_model(X_test)\n",
    "\n",
    "(test_pred_loaded == test_pred_original).mT, test_pred_loaded.mT, test_pred_original.mT"
   ],
   "metadata": {
    "id": "8UGX3VebrVtI",
    "outputId": "f7dcc4ac-872c-4ec5-f960-8fe0d78974fd",
    "colab": {
     "base_uri": "https://localhost:8080/"
    }
   },
   "execution_count": 104,
   "outputs": []
  }
 ]
}
