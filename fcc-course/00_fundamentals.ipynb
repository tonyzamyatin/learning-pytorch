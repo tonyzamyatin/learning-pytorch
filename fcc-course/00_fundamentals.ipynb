{
 "cells": [
  {
   "cell_type": "markdown",
   "metadata": {
    "id": "view-in-github",
    "colab_type": "text"
   },
   "source": "<a href=\"https://colab.research.google.com/github/tonyzamyatin/learning-pytorch/blob/master/fcc-course/00_fundamentals.ipynb\" target=\"_parent\"><img alt=\"Open In Colab\" src=\"https://colab.research.google.com/assets/colab-badge.svg\"/></a>",
   "id": "6e7e09062d216407"
  },
  {
   "metadata": {
    "id": "9679e277ad1ba877"
   },
   "cell_type": "markdown",
   "source": [
    "# 00. PyTorchFundamentals\n",
    "\n",
    "Reference to online course book: https://www.learnpytorch.io/00_pytorch_fundamentals/"
   ],
   "id": "9679e277ad1ba877"
  },
  {
   "cell_type": "code",
   "id": "initial_id",
   "metadata": {
    "collapsed": true,
    "colab": {
     "base_uri": "https://localhost:8080/"
    },
    "id": "initial_id",
    "outputId": "0ed10bb9-7201-470e-a222-10d77ae58706",
    "ExecuteTime": {
     "end_time": "2024-07-10T08:31:37.569789Z",
     "start_time": "2024-07-10T08:31:37.554680Z"
    }
   },
   "source": [
    "import torch\n",
    "import pandas as pd\n",
    "import numpy as np\n",
    "import matplotlib.pyplot as plt\n",
    "print(torch.__version__)"
   ],
   "outputs": [
    {
     "name": "stdout",
     "output_type": "stream",
     "text": [
      "2.3.1\n"
     ]
    }
   ],
   "execution_count": 101
  },
  {
   "cell_type": "markdown",
   "source": [
    "## Introductino to Tensors\n",
    "### Creating Tensors"
   ],
   "metadata": {
    "id": "u9UknfL_zIn6"
   },
   "id": "u9UknfL_zIn6"
  },
  {
   "cell_type": "code",
   "source": [
    "# Scalar\n",
    "s = torch.tensor(7)\n",
    "s"
   ],
   "metadata": {
    "id": "_-J9Qtxuyo-2",
    "outputId": "74200081-4ae8-4561-cc9d-d89381048c18",
    "colab": {
     "base_uri": "https://localhost:8080/"
    },
    "ExecuteTime": {
     "end_time": "2024-07-10T08:31:38.630579Z",
     "start_time": "2024-07-10T08:31:38.617115Z"
    }
   },
   "id": "_-J9Qtxuyo-2",
   "outputs": [
    {
     "data": {
      "text/plain": [
       "tensor(7)"
      ]
     },
     "execution_count": 102,
     "metadata": {},
     "output_type": "execute_result"
    }
   ],
   "execution_count": 102
  },
  {
   "cell_type": "code",
   "source": [
    "# Vector\n",
    "v = torch.tensor([7, 7])\n",
    "v"
   ],
   "metadata": {
    "id": "xdQV5ovLzTTX",
    "ExecuteTime": {
     "end_time": "2024-07-10T08:31:38.757346Z",
     "start_time": "2024-07-10T08:31:38.743586Z"
    }
   },
   "id": "ad586cd7866a9420",
   "outputs": [
    {
     "data": {
      "text/plain": [
       "tensor([7, 7])"
      ]
     },
     "execution_count": 103,
     "metadata": {},
     "output_type": "execute_result"
    }
   ],
   "execution_count": 103
  },
  {
   "metadata": {
    "ExecuteTime": {
     "end_time": "2024-07-10T08:31:38.928472Z",
     "start_time": "2024-07-10T08:31:38.913958Z"
    }
   },
   "cell_type": "code",
   "source": "v.ndim",
   "id": "e6a27f9f4c59955c",
   "outputs": [
    {
     "data": {
      "text/plain": [
       "1"
      ]
     },
     "execution_count": 104,
     "metadata": {},
     "output_type": "execute_result"
    }
   ],
   "execution_count": 104
  },
  {
   "metadata": {
    "ExecuteTime": {
     "end_time": "2024-07-10T08:31:39.100710Z",
     "start_time": "2024-07-10T08:31:39.081397Z"
    }
   },
   "cell_type": "code",
   "source": "v.shape",
   "id": "xdQV5ovLzTTX",
   "outputs": [
    {
     "data": {
      "text/plain": [
       "torch.Size([2])"
      ]
     },
     "execution_count": 105,
     "metadata": {},
     "output_type": "execute_result"
    }
   ],
   "execution_count": 105
  },
  {
   "metadata": {
    "ExecuteTime": {
     "end_time": "2024-07-10T08:31:39.239905Z",
     "start_time": "2024-07-10T08:31:39.232390Z"
    }
   },
   "cell_type": "code",
   "source": [
    "# Matrix\n",
    "M = torch.tensor([\n",
    "    [1, 2],\n",
    "    [3, 4]\n",
    "])\n",
    "M"
   ],
   "id": "1ba975ee26c37ea1",
   "outputs": [
    {
     "data": {
      "text/plain": [
       "tensor([[1, 2],\n",
       "        [3, 4]])"
      ]
     },
     "execution_count": 106,
     "metadata": {},
     "output_type": "execute_result"
    }
   ],
   "execution_count": 106
  },
  {
   "metadata": {
    "ExecuteTime": {
     "end_time": "2024-07-10T08:31:39.410107Z",
     "start_time": "2024-07-10T08:31:39.404110Z"
    }
   },
   "cell_type": "code",
   "source": "M.ndim",
   "id": "7b48967423426612",
   "outputs": [
    {
     "data": {
      "text/plain": [
       "2"
      ]
     },
     "execution_count": 107,
     "metadata": {},
     "output_type": "execute_result"
    }
   ],
   "execution_count": 107
  },
  {
   "metadata": {
    "ExecuteTime": {
     "end_time": "2024-07-10T08:31:39.582928Z",
     "start_time": "2024-07-10T08:31:39.564544Z"
    }
   },
   "cell_type": "code",
   "source": "M.shape",
   "id": "d90fd134228402f6",
   "outputs": [
    {
     "data": {
      "text/plain": [
       "torch.Size([2, 2])"
      ]
     },
     "execution_count": 108,
     "metadata": {},
     "output_type": "execute_result"
    }
   ],
   "execution_count": 108
  },
  {
   "metadata": {
    "ExecuteTime": {
     "end_time": "2024-07-10T08:31:39.738085Z",
     "start_time": "2024-07-10T08:31:39.723062Z"
    }
   },
   "cell_type": "code",
   "source": [
    "# Second row of matrix (a tensor yet again)\n",
    "M[1]"
   ],
   "id": "57c9230191d30a56",
   "outputs": [
    {
     "data": {
      "text/plain": [
       "tensor([3, 4])"
      ]
     },
     "execution_count": 109,
     "metadata": {},
     "output_type": "execute_result"
    }
   ],
   "execution_count": 109
  },
  {
   "metadata": {
    "ExecuteTime": {
     "end_time": "2024-07-10T08:31:39.893299Z",
     "start_time": "2024-07-10T08:31:39.880790Z"
    }
   },
   "cell_type": "code",
   "source": [
    "# Tensor, with dim 3*4*2, randomly initialized\n",
    "T = torch.rand(3, 4, 2)\n",
    "T"
   ],
   "id": "8ec00b9a7d943580",
   "outputs": [
    {
     "data": {
      "text/plain": [
       "tensor([[[0.1145, 0.9157],\n",
       "         [0.8773, 0.6945],\n",
       "         [0.2558, 0.6495],\n",
       "         [0.5830, 0.4821]],\n",
       "\n",
       "        [[0.8109, 0.5073],\n",
       "         [0.4354, 0.9809],\n",
       "         [0.9477, 0.3601],\n",
       "         [0.7568, 0.5272]],\n",
       "\n",
       "        [[0.2953, 0.7052],\n",
       "         [0.9806, 0.6236],\n",
       "         [0.4984, 0.5948],\n",
       "         [0.3828, 0.4015]]])"
      ]
     },
     "execution_count": 110,
     "metadata": {},
     "output_type": "execute_result"
    }
   ],
   "execution_count": 110
  },
  {
   "metadata": {
    "ExecuteTime": {
     "end_time": "2024-07-10T08:31:40.049389Z",
     "start_time": "2024-07-10T08:31:40.040395Z"
    }
   },
   "cell_type": "code",
   "source": "T.ndim",
   "id": "61af037d129d7dc6",
   "outputs": [
    {
     "data": {
      "text/plain": [
       "3"
      ]
     },
     "execution_count": 111,
     "metadata": {},
     "output_type": "execute_result"
    }
   ],
   "execution_count": 111
  },
  {
   "metadata": {
    "ExecuteTime": {
     "end_time": "2024-07-10T08:31:40.188490Z",
     "start_time": "2024-07-10T08:31:40.167693Z"
    }
   },
   "cell_type": "code",
   "source": "T.shape",
   "id": "3383acab6f95aa1d",
   "outputs": [
    {
     "data": {
      "text/plain": [
       "torch.Size([3, 4, 2])"
      ]
     },
     "execution_count": 112,
     "metadata": {},
     "output_type": "execute_result"
    }
   ],
   "execution_count": 112
  },
  {
   "metadata": {},
   "cell_type": "markdown",
   "source": [
    "The first number of the .shape attribute denotes the number of tensors within the first pair of `[]`, the second number denotes the number of \n",
    "tensors inside the second pair of `[]` (in the three-dimensional case it denotes the number of rows), "
   ],
   "id": "4470b5d64c543204"
  },
  {
   "metadata": {},
   "cell_type": "markdown",
   "source": [
    "### Naming conventions\n",
    "Scalars and vectors have lower case names, matrices and higher dimensional tensors have upper case names."
   ],
   "id": "c81872c27c9c554"
  },
  {
   "metadata": {},
   "cell_type": "markdown",
   "source": [
    "## Random Tensors\n",
    "### Why random tensors?\n",
    "Often we want to randomly initialize the parameters of neural networks as an unbiased starting point for training. For this we can use random tensors."
   ],
   "id": "1c5ff2a60c220265"
  },
  {
   "metadata": {
    "ExecuteTime": {
     "end_time": "2024-07-10T08:31:41.907252Z",
     "start_time": "2024-07-10T08:31:41.885483Z"
    }
   },
   "cell_type": "code",
   "source": [
    "random_img_tensor = torch.rand(224, 224, 3)\n",
    "random_img_tensor.shape, random_img_tensor.ndim"
   ],
   "id": "495bb0e632a19a55",
   "outputs": [
    {
     "data": {
      "text/plain": [
       "(torch.Size([224, 224, 3]), 3)"
      ]
     },
     "execution_count": 113,
     "metadata": {},
     "output_type": "execute_result"
    }
   ],
   "execution_count": 113
  },
  {
   "metadata": {},
   "cell_type": "markdown",
   "source": "### Zeros and Ones",
   "id": "cb8b73f7e61f5f8f"
  },
  {
   "metadata": {},
   "cell_type": "markdown",
   "source": "Zero tensors are useful for masking rows, columns or sub-tensors of the data tensors of any shape.",
   "id": "53df0e9167dd54d"
  },
  {
   "metadata": {
    "ExecuteTime": {
     "end_time": "2024-07-10T08:31:42.746113Z",
     "start_time": "2024-07-10T08:31:42.723598Z"
    }
   },
   "cell_type": "code",
   "source": [
    "zeros = torch.zeros(3, 3)\n",
    "zeros"
   ],
   "id": "726faf21ea42f958",
   "outputs": [
    {
     "data": {
      "text/plain": [
       "tensor([[0., 0., 0.],\n",
       "        [0., 0., 0.],\n",
       "        [0., 0., 0.]])"
      ]
     },
     "execution_count": 114,
     "metadata": {},
     "output_type": "execute_result"
    }
   ],
   "execution_count": 114
  },
  {
   "metadata": {
    "ExecuteTime": {
     "end_time": "2024-07-10T08:31:42.934661Z",
     "start_time": "2024-07-10T08:31:42.916008Z"
    }
   },
   "cell_type": "code",
   "source": [
    "ones = torch.ones(3, 3)\n",
    "ones"
   ],
   "id": "4b0f703946607e64",
   "outputs": [
    {
     "data": {
      "text/plain": [
       "tensor([[1., 1., 1.],\n",
       "        [1., 1., 1.],\n",
       "        [1., 1., 1.]])"
      ]
     },
     "execution_count": 115,
     "metadata": {},
     "output_type": "execute_result"
    }
   ],
   "execution_count": 115
  },
  {
   "metadata": {
    "ExecuteTime": {
     "end_time": "2024-07-10T08:31:43.247568Z",
     "start_time": "2024-07-10T08:31:43.234478Z"
    }
   },
   "cell_type": "code",
   "source": "zeros.dtype",
   "id": "365f7717acdb99aa",
   "outputs": [
    {
     "data": {
      "text/plain": [
       "torch.float32"
      ]
     },
     "execution_count": 116,
     "metadata": {},
     "output_type": "execute_result"
    }
   ],
   "execution_count": 116
  },
  {
   "metadata": {},
   "cell_type": "markdown",
   "source": "### Creating a range of tensors and tensor-like",
   "id": "26ab4c36bb53e7e9"
  },
  {
   "metadata": {
    "ExecuteTime": {
     "end_time": "2024-07-10T08:31:43.576468Z",
     "start_time": "2024-07-10T08:31:43.553370Z"
    }
   },
   "cell_type": "code",
   "source": [
    "range_tensor = torch.arange(start=0, end=691, step=69)\n",
    "range_tensor"
   ],
   "id": "cfddc593cfbf75c",
   "outputs": [
    {
     "data": {
      "text/plain": [
       "tensor([  0,  69, 138, 207, 276, 345, 414, 483, 552, 621, 690])"
      ]
     },
     "execution_count": 117,
     "metadata": {},
     "output_type": "execute_result"
    }
   ],
   "execution_count": 117
  },
  {
   "metadata": {
    "ExecuteTime": {
     "end_time": "2024-07-10T08:31:43.761347Z",
     "start_time": "2024-07-10T08:31:43.747345Z"
    }
   },
   "cell_type": "code",
   "source": [
    "# Creating tensors like\n",
    "eleven_zeros = torch.zeros_like(range_tensor)\n",
    "eleven_zeros, len(eleven_zeros)"
   ],
   "id": "88b2e21447a97bd2",
   "outputs": [
    {
     "data": {
      "text/plain": [
       "(tensor([0, 0, 0, 0, 0, 0, 0, 0, 0, 0, 0]), 11)"
      ]
     },
     "execution_count": 118,
     "metadata": {},
     "output_type": "execute_result"
    }
   ],
   "execution_count": 118
  },
  {
   "metadata": {},
   "cell_type": "markdown",
   "source": [
    "## Tensor datatypes\n",
    "*Note:* Tensor datatypes is one of the 3 big errors you will run into with PyTorch and deep learning:\n",
    "1. Tensors not right datatype\n",
    "2. Tensor not right shape\n",
    "3. Tensor not on the right device"
   ],
   "id": "59d4f41fc35fe98f"
  },
  {
   "metadata": {
    "ExecuteTime": {
     "end_time": "2024-07-10T08:31:45.406024Z",
     "start_time": "2024-07-10T08:31:45.393019Z"
    }
   },
   "cell_type": "code",
   "source": [
    "float_32_tensor = torch.tensor([3., 6., 9.],\n",
    "                               dtype=None,          # datatype of the tensor (e.g. float32, float16)\n",
    "                               device=None,         # the device the tensor is located on   \n",
    "                               requires_grad=False) # Tells PyTorch whether to track the gradient with this tensors operation\n",
    "float_32_tensor, float_32_tensor.dtype, float_32_tensor.device, float_32_tensor.requires_grad"
   ],
   "id": "3d3e1d1f74def9d2",
   "outputs": [
    {
     "data": {
      "text/plain": [
       "(tensor([3., 6., 9.]), torch.float32, device(type='cpu'), False)"
      ]
     },
     "execution_count": 119,
     "metadata": {},
     "output_type": "execute_result"
    }
   ],
   "execution_count": 119
  },
  {
   "metadata": {},
   "cell_type": "markdown",
   "source": [
    "### Most common datatypes\n",
    "- 32 bit ... single precision\n",
    "- 16 bit ... half precision\n",
    "- 64 bit ... double precision"
   ],
   "id": "ccbe20e4c9b6d3c6"
  },
  {
   "metadata": {
    "ExecuteTime": {
     "end_time": "2024-07-10T08:31:45.888730Z",
     "start_time": "2024-07-10T08:31:45.868214Z"
    }
   },
   "cell_type": "code",
   "source": [
    "float_16_tensor = float_32_tensor.type(torch.float16)   # Change datatype to float16\n",
    "float_16_tensor, float_16_tensor.dtype"
   ],
   "id": "e526c2de7685ef52",
   "outputs": [
    {
     "data": {
      "text/plain": [
       "(tensor([3., 6., 9.], dtype=torch.float16), torch.float16)"
      ]
     },
     "execution_count": 120,
     "metadata": {},
     "output_type": "execute_result"
    }
   ],
   "execution_count": 120
  },
  {
   "metadata": {
    "ExecuteTime": {
     "end_time": "2024-07-10T08:31:46.030129Z",
     "start_time": "2024-07-10T08:31:46.018506Z"
    }
   },
   "cell_type": "code",
   "source": [
    "float_64_tensor = float_32_tensor.type(torch.float64)\n",
    "float_64_tensor, float_64_tensor.dtype"
   ],
   "id": "baac965270c20799",
   "outputs": [
    {
     "data": {
      "text/plain": [
       "(tensor([3., 6., 9.], dtype=torch.float64), torch.float64)"
      ]
     },
     "execution_count": 121,
     "metadata": {},
     "output_type": "execute_result"
    }
   ],
   "execution_count": 121
  },
  {
   "metadata": {
    "ExecuteTime": {
     "end_time": "2024-07-10T08:31:46.231350Z",
     "start_time": "2024-07-10T08:31:46.218834Z"
    }
   },
   "cell_type": "code",
   "source": [
    "res_16_32 = float_16_tensor * float_32_tensor\n",
    "res_16_32, res_16_32.dtype"
   ],
   "id": "258008b204ca8056",
   "outputs": [
    {
     "data": {
      "text/plain": [
       "(tensor([ 9., 36., 81.]), torch.float32)"
      ]
     },
     "execution_count": 122,
     "metadata": {},
     "output_type": "execute_result"
    }
   ],
   "execution_count": 122
  },
  {
   "metadata": {
    "ExecuteTime": {
     "end_time": "2024-07-10T08:31:46.621207Z",
     "start_time": "2024-07-10T08:31:46.602062Z"
    }
   },
   "cell_type": "code",
   "source": [
    "res_32_64 = float_32_tensor * float_64_tensor\n",
    "res_32_64, res_32_64.dtype"
   ],
   "id": "587b269baa32a338",
   "outputs": [
    {
     "data": {
      "text/plain": [
       "(tensor([ 9., 36., 81.], dtype=torch.float64), torch.float64)"
      ]
     },
     "execution_count": 123,
     "metadata": {},
     "output_type": "execute_result"
    }
   ],
   "execution_count": 123
  },
  {
   "metadata": {},
   "cell_type": "markdown",
   "source": [
    "Some tensor operations work with different tensor datatypes (e.g. by adopting the larger datatype). Other operations (many of the operations \n",
    "during neural network training) will throw on error, however."
   ],
   "id": "c05fc1b729e3e3f7"
  },
  {
   "metadata": {
    "ExecuteTime": {
     "end_time": "2024-07-10T08:31:46.950446Z",
     "start_time": "2024-07-10T08:31:46.942446Z"
    }
   },
   "cell_type": "code",
   "source": "int_32_tensor = torch.tensor([3, 6, 9], dtype=torch.int32)",
   "id": "6ff4c6ca2a82873",
   "outputs": [],
   "execution_count": 124
  },
  {
   "metadata": {
    "ExecuteTime": {
     "end_time": "2024-07-10T08:31:47.123389Z",
     "start_time": "2024-07-10T08:31:47.109383Z"
    }
   },
   "cell_type": "code",
   "source": [
    "res_int_float = int_32_tensor * float_32_tensor\n",
    "res_int_float, res_int_float.dtype"
   ],
   "id": "85d8dead6fdc4d0f",
   "outputs": [
    {
     "data": {
      "text/plain": [
       "(tensor([ 9., 36., 81.]), torch.float32)"
      ]
     },
     "execution_count": 125,
     "metadata": {},
     "output_type": "execute_result"
    }
   ],
   "execution_count": 125
  },
  {
   "metadata": {},
   "cell_type": "markdown",
   "source": [
    "## Getting information from tensors\n",
    "**Tensor attributes:**\n",
    "1. Tensors not right datatype - get information using `tensor.dtype`\n",
    "2. Tensor not right shape - get information using `tensor.shape`\n",
    "3. Tensor not on the right device - get information using `tensor.device`"
   ],
   "id": "164df75062ca717"
  },
  {
   "metadata": {
    "ExecuteTime": {
     "end_time": "2024-07-10T08:31:47.481141Z",
     "start_time": "2024-07-10T08:31:47.462926Z"
    }
   },
   "cell_type": "code",
   "source": [
    "some_tensor = torch.rand(3, 4)\n",
    "some_tensor"
   ],
   "id": "ee3c316016c2d5bb",
   "outputs": [
    {
     "data": {
      "text/plain": [
       "tensor([[0.4127, 0.2543, 0.5568, 0.9360],\n",
       "        [0.8333, 0.4436, 0.1995, 0.4165],\n",
       "        [0.1707, 0.8016, 0.5629, 0.0955]])"
      ]
     },
     "execution_count": 126,
     "metadata": {},
     "output_type": "execute_result"
    }
   ],
   "execution_count": 126
  },
  {
   "metadata": {
    "ExecuteTime": {
     "end_time": "2024-07-10T08:31:47.654004Z",
     "start_time": "2024-07-10T08:31:47.636004Z"
    }
   },
   "cell_type": "code",
   "source": [
    "# Size and shape do the same\n",
    "some_tensor.size(), some_tensor.shape"
   ],
   "id": "b3b6391cb3ba031e",
   "outputs": [
    {
     "data": {
      "text/plain": [
       "(torch.Size([3, 4]), torch.Size([3, 4]))"
      ]
     },
     "execution_count": 127,
     "metadata": {},
     "output_type": "execute_result"
    }
   ],
   "execution_count": 127
  },
  {
   "metadata": {
    "ExecuteTime": {
     "end_time": "2024-07-10T08:31:47.826220Z",
     "start_time": "2024-07-10T08:31:47.805056Z"
    }
   },
   "cell_type": "code",
   "source": "some_tensor.dtype, some_tensor.shape, some_tensor.device",
   "id": "17518d4ab941888b",
   "outputs": [
    {
     "data": {
      "text/plain": [
       "(torch.float32, torch.Size([3, 4]), device(type='cpu'))"
      ]
     },
     "execution_count": 128,
     "metadata": {},
     "output_type": "execute_result"
    }
   ],
   "execution_count": 128
  },
  {
   "metadata": {
    "ExecuteTime": {
     "end_time": "2024-07-10T08:32:49.519888Z",
     "start_time": "2024-07-10T08:32:49.486750Z"
    }
   },
   "cell_type": "code",
   "source": [
    "# Change datatype and device of tensor\n",
    "some_tensor.to(dtype=torch.float16, device=\"cuda\")  # Throws error if no NVIDIA GPU with CUDA is available\n",
    "some_tensor.dtype, some_tensor.device"
   ],
   "id": "783b5e527efbe678",
   "outputs": [
    {
     "ename": "AssertionError",
     "evalue": "Torch not compiled with CUDA enabled",
     "output_type": "error",
     "traceback": [
      "\u001B[1;31m---------------------------------------------------------------------------\u001B[0m",
      "\u001B[1;31mAssertionError\u001B[0m                            Traceback (most recent call last)",
      "Cell \u001B[1;32mIn[131], line 2\u001B[0m\n\u001B[0;32m      1\u001B[0m \u001B[38;5;66;03m# Change datatype and device of tensor\u001B[39;00m\n\u001B[1;32m----> 2\u001B[0m \u001B[43msome_tensor\u001B[49m\u001B[38;5;241;43m.\u001B[39;49m\u001B[43mto\u001B[49m\u001B[43m(\u001B[49m\u001B[43mdtype\u001B[49m\u001B[38;5;241;43m=\u001B[39;49m\u001B[43mtorch\u001B[49m\u001B[38;5;241;43m.\u001B[39;49m\u001B[43mfloat16\u001B[49m\u001B[43m,\u001B[49m\u001B[43m \u001B[49m\u001B[43mdevice\u001B[49m\u001B[38;5;241;43m=\u001B[39;49m\u001B[38;5;124;43m\"\u001B[39;49m\u001B[38;5;124;43mcuda\u001B[39;49m\u001B[38;5;124;43m\"\u001B[39;49m\u001B[43m)\u001B[49m  \u001B[38;5;66;03m# Throws error if no NVIDIA GPU with CUDA is available\u001B[39;00m\n\u001B[0;32m      3\u001B[0m some_tensor\u001B[38;5;241m.\u001B[39mdtype, some_tensor\u001B[38;5;241m.\u001B[39mdevice\n",
      "File \u001B[1;32m~\\miniconda3\\envs\\pytorch_base\\lib\\site-packages\\torch\\cuda\\__init__.py:284\u001B[0m, in \u001B[0;36m_lazy_init\u001B[1;34m()\u001B[0m\n\u001B[0;32m    279\u001B[0m     \u001B[38;5;28;01mraise\u001B[39;00m \u001B[38;5;167;01mRuntimeError\u001B[39;00m(\n\u001B[0;32m    280\u001B[0m         \u001B[38;5;124m\"\u001B[39m\u001B[38;5;124mCannot re-initialize CUDA in forked subprocess. To use CUDA with \u001B[39m\u001B[38;5;124m\"\u001B[39m\n\u001B[0;32m    281\u001B[0m         \u001B[38;5;124m\"\u001B[39m\u001B[38;5;124mmultiprocessing, you must use the \u001B[39m\u001B[38;5;124m'\u001B[39m\u001B[38;5;124mspawn\u001B[39m\u001B[38;5;124m'\u001B[39m\u001B[38;5;124m start method\u001B[39m\u001B[38;5;124m\"\u001B[39m\n\u001B[0;32m    282\u001B[0m     )\n\u001B[0;32m    283\u001B[0m \u001B[38;5;28;01mif\u001B[39;00m \u001B[38;5;129;01mnot\u001B[39;00m \u001B[38;5;28mhasattr\u001B[39m(torch\u001B[38;5;241m.\u001B[39m_C, \u001B[38;5;124m\"\u001B[39m\u001B[38;5;124m_cuda_getDeviceCount\u001B[39m\u001B[38;5;124m\"\u001B[39m):\n\u001B[1;32m--> 284\u001B[0m     \u001B[38;5;28;01mraise\u001B[39;00m \u001B[38;5;167;01mAssertionError\u001B[39;00m(\u001B[38;5;124m\"\u001B[39m\u001B[38;5;124mTorch not compiled with CUDA enabled\u001B[39m\u001B[38;5;124m\"\u001B[39m)\n\u001B[0;32m    285\u001B[0m \u001B[38;5;28;01mif\u001B[39;00m _cudart \u001B[38;5;129;01mis\u001B[39;00m \u001B[38;5;28;01mNone\u001B[39;00m:\n\u001B[0;32m    286\u001B[0m     \u001B[38;5;28;01mraise\u001B[39;00m \u001B[38;5;167;01mAssertionError\u001B[39;00m(\n\u001B[0;32m    287\u001B[0m         \u001B[38;5;124m\"\u001B[39m\u001B[38;5;124mlibcudart functions unavailable. It looks like you have a broken build?\u001B[39m\u001B[38;5;124m\"\u001B[39m\n\u001B[0;32m    288\u001B[0m     )\n",
      "\u001B[1;31mAssertionError\u001B[0m: Torch not compiled with CUDA enabled"
     ]
    }
   ],
   "execution_count": 131
  },
  {
   "metadata": {},
   "cell_type": "markdown",
   "source": [
    "## Manipulating tensors\n",
    "Tensor operations include:\n",
    "* Addition\n",
    "* Subtraction\n",
    "* Multiplication (element-wise)\n",
    "* Division\n",
    "* Matrix multiplication (dot product)"
   ],
   "id": "34e2db3313366416"
  },
  {
   "metadata": {
    "ExecuteTime": {
     "end_time": "2024-07-10T08:32:51.716476Z",
     "start_time": "2024-07-10T08:32:51.693950Z"
    }
   },
   "cell_type": "code",
   "source": [
    "# Add scalar to tensor (creates a tensor-like filled with the scalar to add)\n",
    "tensor = torch.tensor([1, 2, 3])\n",
    "tensor + 10"
   ],
   "id": "2c4562a40bf36b54",
   "outputs": [
    {
     "data": {
      "text/plain": [
       "tensor([11, 12, 13])"
      ]
     },
     "execution_count": 132,
     "metadata": {},
     "output_type": "execute_result"
    }
   ],
   "execution_count": 132
  },
  {
   "metadata": {
    "ExecuteTime": {
     "end_time": "2024-07-10T08:32:52.031154Z",
     "start_time": "2024-07-10T08:32:52.013199Z"
    }
   },
   "cell_type": "code",
   "source": [
    "# Multiply tensor by scalar\n",
    "tensor * 10"
   ],
   "id": "5191c5c6e27e8201",
   "outputs": [
    {
     "data": {
      "text/plain": [
       "tensor([10, 20, 30])"
      ]
     },
     "execution_count": 133,
     "metadata": {},
     "output_type": "execute_result"
    }
   ],
   "execution_count": 133
  },
  {
   "metadata": {
    "ExecuteTime": {
     "end_time": "2024-07-10T08:32:52.313074Z",
     "start_time": "2024-07-10T08:32:52.300949Z"
    }
   },
   "cell_type": "code",
   "source": [
    "# Subtract scalar from tensor\n",
    "tensor - 10"
   ],
   "id": "2dd3c80948a21c57",
   "outputs": [
    {
     "data": {
      "text/plain": [
       "tensor([-9, -8, -7])"
      ]
     },
     "execution_count": 134,
     "metadata": {},
     "output_type": "execute_result"
    }
   ],
   "execution_count": 134
  },
  {
   "metadata": {
    "ExecuteTime": {
     "end_time": "2024-07-10T08:32:53.574736Z",
     "start_time": "2024-07-10T08:32:53.557643Z"
    }
   },
   "cell_type": "code",
   "source": [
    "# PyTorch in-built functions\n",
    "torch.add(tensor, 10), torch.mul(tensor, 10), torch.subtract(tensor, 10)"
   ],
   "id": "c87cf9c99902bc63",
   "outputs": [
    {
     "data": {
      "text/plain": [
       "(tensor([11, 12, 13]), tensor([10, 20, 30]), tensor([-9, -8, -7]))"
      ]
     },
     "execution_count": 135,
     "metadata": {},
     "output_type": "execute_result"
    }
   ],
   "execution_count": 135
  },
  {
   "metadata": {},
   "cell_type": "markdown",
   "source": [
    "### Rules for matrix mulitplication\n",
    "1. **Inner dimensions** of the two matrices to be multiplied must match, e.g. 3x2 @ 2x3\n",
    "2. The resulting matrix has the shape of the **outer dimensions**"
   ],
   "id": "c91b015f7e74221b"
  },
  {
   "metadata": {
    "ExecuteTime": {
     "end_time": "2024-07-10T09:06:19.324701Z",
     "start_time": "2024-07-10T09:06:19.308013Z"
    }
   },
   "cell_type": "code",
   "source": "matrix = torch.rand(10, 3)",
   "id": "28e76b8bab8fd8ae",
   "outputs": [],
   "execution_count": 189
  },
  {
   "metadata": {
    "ExecuteTime": {
     "end_time": "2024-07-10T09:26:03.756649Z",
     "start_time": "2024-07-10T09:26:03.733023Z"
    }
   },
   "cell_type": "code",
   "source": [
    "%%time\n",
    "torch.matmul(matrix, matrix.T)    # dot product"
   ],
   "id": "fbff01542cf532e2",
   "outputs": [
    {
     "name": "stdout",
     "output_type": "stream",
     "text": [
      "CPU times: total: 0 ns\n",
      "Wall time: 0 ns\n"
     ]
    },
    {
     "data": {
      "text/plain": [
       "tensor([[0.9973, 0.6776, 0.6147, 0.5762, 0.3779, 0.9448, 0.6945, 0.3637, 0.7314,\n",
       "         0.3335],\n",
       "        [0.6776, 0.8996, 0.6521, 0.5744, 0.6105, 0.8457, 0.5772, 0.3672, 0.8324,\n",
       "         0.4936],\n",
       "        [0.6147, 0.6521, 0.5335, 0.4793, 0.4409, 0.6702, 0.6268, 0.3230, 0.7275,\n",
       "         0.4027],\n",
       "        [0.5762, 0.5744, 0.4793, 0.4328, 0.3828, 0.6118, 0.5733, 0.2914, 0.6500,\n",
       "         0.3529],\n",
       "        [0.3779, 0.6105, 0.4409, 0.3828, 0.4405, 0.5085, 0.4404, 0.2570, 0.6106,\n",
       "         0.3768],\n",
       "        [0.9448, 0.8457, 0.6702, 0.6118, 0.5085, 1.0048, 0.6049, 0.3755, 0.7788,\n",
       "         0.4008],\n",
       "        [0.6945, 0.5772, 0.6268, 0.5733, 0.4404, 0.6049, 1.1996, 0.4503, 1.0627,\n",
       "         0.5606],\n",
       "        [0.3637, 0.3672, 0.3230, 0.2914, 0.2570, 0.3755, 0.4503, 0.2065, 0.4737,\n",
       "         0.2590],\n",
       "        [0.7314, 0.8324, 0.7275, 0.6500, 0.6106, 0.7788, 1.0627, 0.4737, 1.1164,\n",
       "         0.6295],\n",
       "        [0.3335, 0.4936, 0.4027, 0.3529, 0.3768, 0.4008, 0.5606, 0.2590, 0.6295,\n",
       "         0.3750]])"
      ]
     },
     "execution_count": 215,
     "metadata": {},
     "output_type": "execute_result"
    }
   ],
   "execution_count": 215
  },
  {
   "metadata": {
    "ExecuteTime": {
     "end_time": "2024-07-10T09:26:04.395143Z",
     "start_time": "2024-07-10T09:26:04.372429Z"
    }
   },
   "cell_type": "code",
   "source": [
    "%%time\n",
    "torch.mm(matrix, matrix.T)  # shorthand for torch.matmult\n",
    "# Interestingly enough, torch.mm() does not work with vectors."
   ],
   "id": "2885e5a6b66d2816",
   "outputs": [
    {
     "name": "stdout",
     "output_type": "stream",
     "text": [
      "CPU times: total: 0 ns\n",
      "Wall time: 0 ns\n"
     ]
    },
    {
     "data": {
      "text/plain": [
       "tensor([[0.9973, 0.6776, 0.6147, 0.5762, 0.3779, 0.9448, 0.6945, 0.3637, 0.7314,\n",
       "         0.3335],\n",
       "        [0.6776, 0.8996, 0.6521, 0.5744, 0.6105, 0.8457, 0.5772, 0.3672, 0.8324,\n",
       "         0.4936],\n",
       "        [0.6147, 0.6521, 0.5335, 0.4793, 0.4409, 0.6702, 0.6268, 0.3230, 0.7275,\n",
       "         0.4027],\n",
       "        [0.5762, 0.5744, 0.4793, 0.4328, 0.3828, 0.6118, 0.5733, 0.2914, 0.6500,\n",
       "         0.3529],\n",
       "        [0.3779, 0.6105, 0.4409, 0.3828, 0.4405, 0.5085, 0.4404, 0.2570, 0.6106,\n",
       "         0.3768],\n",
       "        [0.9448, 0.8457, 0.6702, 0.6118, 0.5085, 1.0048, 0.6049, 0.3755, 0.7788,\n",
       "         0.4008],\n",
       "        [0.6945, 0.5772, 0.6268, 0.5733, 0.4404, 0.6049, 1.1996, 0.4503, 1.0627,\n",
       "         0.5606],\n",
       "        [0.3637, 0.3672, 0.3230, 0.2914, 0.2570, 0.3755, 0.4503, 0.2065, 0.4737,\n",
       "         0.2590],\n",
       "        [0.7314, 0.8324, 0.7275, 0.6500, 0.6106, 0.7788, 1.0627, 0.4737, 1.1164,\n",
       "         0.6295],\n",
       "        [0.3335, 0.4936, 0.4027, 0.3529, 0.3768, 0.4008, 0.5606, 0.2590, 0.6295,\n",
       "         0.3750]])"
      ]
     },
     "execution_count": 216,
     "metadata": {},
     "output_type": "execute_result"
    }
   ],
   "execution_count": 216
  },
  {
   "metadata": {
    "ExecuteTime": {
     "end_time": "2024-07-10T09:27:23.652282Z",
     "start_time": "2024-07-10T09:27:23.625400Z"
    }
   },
   "cell_type": "code",
   "source": [
    "%%time\n",
    "# by hand\n",
    "res_matrix = torch.zeros(10, 10)\n",
    "for row in range(matrix.shape[0]):\n",
    "    for col in range(matrix.shape[0]):\n",
    "        res_matrix[row][col] = (matrix[row] * matrix[col]).sum()\n",
    "res_matrix"
   ],
   "id": "27a9ae07664ba0d9",
   "outputs": [
    {
     "name": "stdout",
     "output_type": "stream",
     "text": [
      "CPU times: total: 0 ns\n",
      "Wall time: 3.45 ms\n"
     ]
    },
    {
     "data": {
      "text/plain": [
       "tensor([[0.9973, 0.6776, 0.6147, 0.5762, 0.3779, 0.9448, 0.6945, 0.3637, 0.7314,\n",
       "         0.3335],\n",
       "        [0.6776, 0.8996, 0.6521, 0.5744, 0.6105, 0.8457, 0.5772, 0.3672, 0.8324,\n",
       "         0.4936],\n",
       "        [0.6147, 0.6521, 0.5335, 0.4793, 0.4409, 0.6702, 0.6268, 0.3230, 0.7275,\n",
       "         0.4027],\n",
       "        [0.5762, 0.5744, 0.4793, 0.4328, 0.3828, 0.6118, 0.5733, 0.2914, 0.6500,\n",
       "         0.3529],\n",
       "        [0.3779, 0.6105, 0.4409, 0.3828, 0.4405, 0.5085, 0.4404, 0.2570, 0.6106,\n",
       "         0.3768],\n",
       "        [0.9448, 0.8457, 0.6702, 0.6118, 0.5085, 1.0048, 0.6049, 0.3755, 0.7788,\n",
       "         0.4008],\n",
       "        [0.6945, 0.5772, 0.6268, 0.5733, 0.4404, 0.6049, 1.1996, 0.4503, 1.0627,\n",
       "         0.5606],\n",
       "        [0.3637, 0.3672, 0.3230, 0.2914, 0.2570, 0.3755, 0.4503, 0.2065, 0.4737,\n",
       "         0.2590],\n",
       "        [0.7314, 0.8324, 0.7275, 0.6500, 0.6106, 0.7788, 1.0627, 0.4737, 1.1164,\n",
       "         0.6295],\n",
       "        [0.3335, 0.4936, 0.4027, 0.3529, 0.3768, 0.4008, 0.5606, 0.2590, 0.6295,\n",
       "         0.3750]])"
      ]
     },
     "execution_count": 218,
     "metadata": {},
     "output_type": "execute_result"
    }
   ],
   "execution_count": 218
  },
  {
   "metadata": {},
   "cell_type": "markdown",
   "source": "Apart from the basic matrix operations, computationally intensive operations like matrix multiplication are implemented more efficiently in PyTorch. Therefore, it is recommended to use the PyTorch implementation instead of the Python implementation.",
   "id": "8cca18718adf9f9b"
  },
  {
   "metadata": {
    "ExecuteTime": {
     "end_time": "2024-07-10T09:27:29.732654Z",
     "start_time": "2024-07-10T09:27:29.715111Z"
    }
   },
   "cell_type": "code",
   "source": [
    "%%time\n",
    "matrix @ matrix.T"
   ],
   "id": "b154d3d6ed9a4828",
   "outputs": [
    {
     "name": "stdout",
     "output_type": "stream",
     "text": [
      "CPU times: total: 0 ns\n",
      "Wall time: 0 ns\n"
     ]
    },
    {
     "data": {
      "text/plain": [
       "tensor([[0.9973, 0.6776, 0.6147, 0.5762, 0.3779, 0.9448, 0.6945, 0.3637, 0.7314,\n",
       "         0.3335],\n",
       "        [0.6776, 0.8996, 0.6521, 0.5744, 0.6105, 0.8457, 0.5772, 0.3672, 0.8324,\n",
       "         0.4936],\n",
       "        [0.6147, 0.6521, 0.5335, 0.4793, 0.4409, 0.6702, 0.6268, 0.3230, 0.7275,\n",
       "         0.4027],\n",
       "        [0.5762, 0.5744, 0.4793, 0.4328, 0.3828, 0.6118, 0.5733, 0.2914, 0.6500,\n",
       "         0.3529],\n",
       "        [0.3779, 0.6105, 0.4409, 0.3828, 0.4405, 0.5085, 0.4404, 0.2570, 0.6106,\n",
       "         0.3768],\n",
       "        [0.9448, 0.8457, 0.6702, 0.6118, 0.5085, 1.0048, 0.6049, 0.3755, 0.7788,\n",
       "         0.4008],\n",
       "        [0.6945, 0.5772, 0.6268, 0.5733, 0.4404, 0.6049, 1.1996, 0.4503, 1.0627,\n",
       "         0.5606],\n",
       "        [0.3637, 0.3672, 0.3230, 0.2914, 0.2570, 0.3755, 0.4503, 0.2065, 0.4737,\n",
       "         0.2590],\n",
       "        [0.7314, 0.8324, 0.7275, 0.6500, 0.6106, 0.7788, 1.0627, 0.4737, 1.1164,\n",
       "         0.6295],\n",
       "        [0.3335, 0.4936, 0.4027, 0.3529, 0.3768, 0.4008, 0.5606, 0.2590, 0.6295,\n",
       "         0.3750]])"
      ]
     },
     "execution_count": 219,
     "metadata": {},
     "output_type": "execute_result"
    }
   ],
   "execution_count": 219
  },
  {
   "metadata": {},
   "cell_type": "markdown",
   "source": [
    "This is the shorthand form for matrix multiplication, but may cause confusions regarding which implementation is used when other libraries such as \n",
    "numpy are used which also support the `@`operator"
   ],
   "id": "c93fa88ecb755749"
  },
  {
   "metadata": {},
   "cell_type": "markdown",
   "source": [
    "## Tensor aggregation\n",
    "min, max, mean, sum\n"
   ],
   "id": "c393d631b1a7947e"
  },
  {
   "metadata": {
    "ExecuteTime": {
     "end_time": "2024-07-10T09:27:31.607640Z",
     "start_time": "2024-07-10T09:27:31.589640Z"
    }
   },
   "cell_type": "code",
   "source": "torch.min(res_matrix), res_matrix.min()",
   "id": "fb4de7b6973a9f44",
   "outputs": [
    {
     "data": {
      "text/plain": [
       "(tensor(0.2065), tensor(0.2065))"
      ]
     },
     "execution_count": 220,
     "metadata": {},
     "output_type": "execute_result"
    }
   ],
   "execution_count": 220
  },
  {
   "metadata": {
    "ExecuteTime": {
     "end_time": "2024-07-10T09:27:31.955333Z",
     "start_time": "2024-07-10T09:27:31.935828Z"
    }
   },
   "cell_type": "code",
   "source": "torch.max(res_matrix), res_matrix.max()",
   "id": "e05058b094c42cd0",
   "outputs": [
    {
     "data": {
      "text/plain": [
       "(tensor(1.1996), tensor(1.1996))"
      ]
     },
     "execution_count": 221,
     "metadata": {},
     "output_type": "execute_result"
    }
   ],
   "execution_count": 221
  },
  {
   "metadata": {
    "ExecuteTime": {
     "end_time": "2024-07-10T09:27:34.715147Z",
     "start_time": "2024-07-10T09:27:34.705004Z"
    }
   },
   "cell_type": "code",
   "source": "torch.mean(res_matrix)",
   "id": "a719da45e12b4f7a",
   "outputs": [
    {
     "data": {
      "text/plain": [
       "tensor(0.5638)"
      ]
     },
     "execution_count": 222,
     "metadata": {},
     "output_type": "execute_result"
    }
   ],
   "execution_count": 222
  },
  {
   "metadata": {
    "ExecuteTime": {
     "end_time": "2024-07-10T09:27:36.157594Z",
     "start_time": "2024-07-10T09:27:36.144593Z"
    }
   },
   "cell_type": "code",
   "source": "torch.sum(res_matrix), res_matrix.sum()",
   "id": "f83e3052d15fbc82",
   "outputs": [
    {
     "data": {
      "text/plain": [
       "(tensor(56.3843), tensor(56.3843))"
      ]
     },
     "execution_count": 223,
     "metadata": {},
     "output_type": "execute_result"
    }
   ],
   "execution_count": 223
  },
  {
   "metadata": {},
   "cell_type": "markdown",
   "source": [
    "### Positional min and max\n",
    "Positional min and max return the index of the target tensor where the min or max respectively occurs.\n",
    "*Note:* The positional index is also returned by `min()`and `max()` as the second return value."
   ],
   "id": "d090d9b245f61bac"
  },
  {
   "metadata": {
    "ExecuteTime": {
     "end_time": "2024-07-10T09:28:57.947346Z",
     "start_time": "2024-07-10T09:28:57.921685Z"
    }
   },
   "cell_type": "code",
   "source": "res_matrix.argmin(dim=0), res_matrix.argmax()",
   "id": "551797731d28b18a",
   "outputs": [
    {
     "data": {
      "text/plain": [
       "(tensor([9, 7, 7, 7, 7, 7, 4, 7, 7, 7]), tensor(66))"
      ]
     },
     "execution_count": 228,
     "metadata": {},
     "output_type": "execute_result"
    }
   ],
   "execution_count": 228
  },
  {
   "metadata": {},
   "cell_type": "markdown",
   "source": "If `dim` is not set, per default the tensor is flattened and the min/max index of the flattened tensor is returned.",
   "id": "d99dbde1dc6de32e"
  },
  {
   "metadata": {
    "ExecuteTime": {
     "end_time": "2024-07-10T09:29:11.895707Z",
     "start_time": "2024-07-10T09:29:11.877244Z"
    }
   },
   "cell_type": "code",
   "source": "res_matrix.flatten()[res_matrix.argmax().item()]",
   "id": "6895e3b302fbeefe",
   "outputs": [
    {
     "data": {
      "text/plain": [
       "tensor(1.1996)"
      ]
     },
     "execution_count": 230,
     "metadata": {},
     "output_type": "execute_result"
    }
   ],
   "execution_count": 230
  },
  {
   "metadata": {},
   "cell_type": "markdown",
   "source": [
    "## Reshaping, stacking, squeezing and unsqueezing tensors\n",
    "* Reshaping - reshapes an input tensor to a defined shape\n",
    "* view - returns a view of an input tensor of a certain shape but keep the same memory as the original tensor\n",
    "* Stacking - concatenate multiple tensors on top of each other (vstack) or side by side(hstack)\n",
    "* Squeeze - remove all `1` dimensions from a tensor\n",
    "* Unqueeze - add a `1` dimension to a target tensor\n",
    "* Permute - return a view of an input tensor with dimensions permuted in a certain way"
   ],
   "id": "c2d4c8513d387f6f"
  },
  {
   "metadata": {
    "ExecuteTime": {
     "end_time": "2024-07-10T09:46:38.030894Z",
     "start_time": "2024-07-10T09:46:38.017351Z"
    }
   },
   "cell_type": "code",
   "source": [
    "x = torch.arange(1., 11.)\n",
    "x, x.shape"
   ],
   "id": "9e68c31d28882842",
   "outputs": [
    {
     "data": {
      "text/plain": [
       "(tensor([ 1.,  2.,  3.,  4.,  5.,  6.,  7.,  8.,  9., 10.]), torch.Size([10]))"
      ]
     },
     "execution_count": 249,
     "metadata": {},
     "output_type": "execute_result"
    }
   ],
   "execution_count": 249
  },
  {
   "metadata": {
    "ExecuteTime": {
     "end_time": "2024-07-10T09:46:38.230142Z",
     "start_time": "2024-07-10T09:46:38.217567Z"
    }
   },
   "cell_type": "code",
   "source": [
    "# Add extra dimension on 0-th dimension\n",
    "x_reshaped = x.reshape(1, 10)\n",
    "x_reshaped, x_reshaped.shape"
   ],
   "id": "5b6ca1fba7170b84",
   "outputs": [
    {
     "data": {
      "text/plain": [
       "(tensor([[ 1.,  2.,  3.,  4.,  5.,  6.,  7.,  8.,  9., 10.]]),\n",
       " torch.Size([1, 10]))"
      ]
     },
     "execution_count": 250,
     "metadata": {},
     "output_type": "execute_result"
    }
   ],
   "execution_count": 250
  },
  {
   "metadata": {
    "ExecuteTime": {
     "end_time": "2024-07-10T09:46:38.419097Z",
     "start_time": "2024-07-10T09:46:38.400878Z"
    }
   },
   "cell_type": "code",
   "source": [
    "# Add extra dimension on the 1-st dimension\n",
    "x_reshaped = x_reshaped.reshape(10, 1)\n",
    "x_reshaped, x_reshaped.shape"
   ],
   "id": "a0d32d7b10bb94a",
   "outputs": [
    {
     "data": {
      "text/plain": [
       "(tensor([[ 1.],\n",
       "         [ 2.],\n",
       "         [ 3.],\n",
       "         [ 4.],\n",
       "         [ 5.],\n",
       "         [ 6.],\n",
       "         [ 7.],\n",
       "         [ 8.],\n",
       "         [ 9.],\n",
       "         [10.]]),\n",
       " torch.Size([10, 1]))"
      ]
     },
     "execution_count": 251,
     "metadata": {},
     "output_type": "execute_result"
    }
   ],
   "execution_count": 251
  },
  {
   "metadata": {
    "ExecuteTime": {
     "end_time": "2024-07-10T09:46:38.666460Z",
     "start_time": "2024-07-10T09:46:38.650037Z"
    }
   },
   "cell_type": "code",
   "source": [
    "x_reshaped = x_reshaped.reshape(2, 5)\n",
    "x_reshaped, x_reshaped.shape"
   ],
   "id": "4473f9966748c1d9",
   "outputs": [
    {
     "data": {
      "text/plain": [
       "(tensor([[ 1.,  2.,  3.,  4.,  5.],\n",
       "         [ 6.,  7.,  8.,  9., 10.]]),\n",
       " torch.Size([2, 5]))"
      ]
     },
     "execution_count": 252,
     "metadata": {},
     "output_type": "execute_result"
    }
   ],
   "execution_count": 252
  },
  {
   "metadata": {},
   "cell_type": "markdown",
   "source": "When reshaping a tensor, the number of elements of the input and output tensor must match.",
   "id": "8bce032939959078"
  },
  {
   "metadata": {
    "ExecuteTime": {
     "end_time": "2024-07-10T09:46:39.840888Z",
     "start_time": "2024-07-10T09:46:39.811804Z"
    }
   },
   "cell_type": "code",
   "source": [
    "# Change view\n",
    "z = x.view(1, 10)\n",
    "z, z.shape"
   ],
   "id": "20156aa9f92e723f",
   "outputs": [
    {
     "data": {
      "text/plain": [
       "(tensor([[ 1.,  2.,  3.,  4.,  5.,  6.,  7.,  8.,  9., 10.]]),\n",
       " torch.Size([1, 10]))"
      ]
     },
     "execution_count": 253,
     "metadata": {},
     "output_type": "execute_result"
    }
   ],
   "execution_count": 253
  },
  {
   "metadata": {},
   "cell_type": "markdown",
   "source": [
    "Same result as with reshaping. However, whereas `tensor.reshape()`creates a deep copy of the tensor, `tensor.view()` creates a shallow copy. This \n",
    "means that \n",
    "changes in one tensor object will be reflected in the other since they both share the same memory."
   ],
   "id": "6af40e8dfb7169a9"
  },
  {
   "metadata": {
    "ExecuteTime": {
     "end_time": "2024-07-10T09:52:23.957313Z",
     "start_time": "2024-07-10T09:52:23.941540Z"
    }
   },
   "cell_type": "code",
   "source": [
    "z[:, 0] = 11.\n",
    "z, x"
   ],
   "id": "aa0e688bc731a48e",
   "outputs": [
    {
     "data": {
      "text/plain": [
       "(tensor([[11.,  2.,  3.,  4.,  5.,  6.,  7.,  8.,  9., 10.]]),\n",
       " tensor([11.,  2.,  3.,  4.,  5.,  6.,  7.,  8.,  9., 10.]))"
      ]
     },
     "execution_count": 261,
     "metadata": {},
     "output_type": "execute_result"
    }
   ],
   "execution_count": 261
  },
  {
   "metadata": {},
   "cell_type": "markdown",
   "source": "We can concatenate tensors along specified dimensions using `torch.stack()`.",
   "id": "d9a2ed42faef3103"
  },
  {
   "metadata": {
    "ExecuteTime": {
     "end_time": "2024-07-10T10:05:20.786646Z",
     "start_time": "2024-07-10T10:05:20.768155Z"
    }
   },
   "cell_type": "code",
   "source": [
    "# Stack tensors\n",
    "x_hstacked = torch.stack([x, x, x, x], dim=0)\n",
    "x_hstacked, x_hstacked.shape"
   ],
   "id": "c9fac78fafb86a23",
   "outputs": [
    {
     "data": {
      "text/plain": [
       "(tensor([[11.,  2.,  3.,  4.,  5.,  6.,  7.,  8.,  9., 10.],\n",
       "         [11.,  2.,  3.,  4.,  5.,  6.,  7.,  8.,  9., 10.],\n",
       "         [11.,  2.,  3.,  4.,  5.,  6.,  7.,  8.,  9., 10.],\n",
       "         [11.,  2.,  3.,  4.,  5.,  6.,  7.,  8.,  9., 10.]]),\n",
       " torch.Size([4, 10]))"
      ]
     },
     "execution_count": 275,
     "metadata": {},
     "output_type": "execute_result"
    }
   ],
   "execution_count": 275
  },
  {
   "metadata": {
    "ExecuteTime": {
     "end_time": "2024-07-10T10:05:21.023132Z",
     "start_time": "2024-07-10T10:05:21.010051Z"
    }
   },
   "cell_type": "code",
   "source": [
    "x_vstacked = torch.stack([x, x, x, x], dim=1)\n",
    "x_vstacked, x_vstacked.shape"
   ],
   "id": "c1c015f053b69adc",
   "outputs": [
    {
     "data": {
      "text/plain": [
       "(tensor([[11., 11., 11., 11.],\n",
       "         [ 2.,  2.,  2.,  2.],\n",
       "         [ 3.,  3.,  3.,  3.],\n",
       "         [ 4.,  4.,  4.,  4.],\n",
       "         [ 5.,  5.,  5.,  5.],\n",
       "         [ 6.,  6.,  6.,  6.],\n",
       "         [ 7.,  7.,  7.,  7.],\n",
       "         [ 8.,  8.,  8.,  8.],\n",
       "         [ 9.,  9.,  9.,  9.],\n",
       "         [10., 10., 10., 10.]]),\n",
       " torch.Size([10, 4]))"
      ]
     },
     "execution_count": 276,
     "metadata": {},
     "output_type": "execute_result"
    }
   ],
   "execution_count": 276
  },
  {
   "metadata": {
    "ExecuteTime": {
     "end_time": "2024-07-10T10:05:21.259329Z",
     "start_time": "2024-07-10T10:05:21.204274Z"
    }
   },
   "cell_type": "code",
   "source": "torch.stack([x, x, x, x], dim=2)",
   "id": "e88bbf345bebb0d3",
   "outputs": [
    {
     "ename": "IndexError",
     "evalue": "Dimension out of range (expected to be in range of [-2, 1], but got 2)",
     "output_type": "error",
     "traceback": [
      "\u001B[1;31m---------------------------------------------------------------------------\u001B[0m",
      "\u001B[1;31mIndexError\u001B[0m                                Traceback (most recent call last)",
      "Cell \u001B[1;32mIn[277], line 1\u001B[0m\n\u001B[1;32m----> 1\u001B[0m \u001B[43mtorch\u001B[49m\u001B[38;5;241;43m.\u001B[39;49m\u001B[43mstack\u001B[49m\u001B[43m(\u001B[49m\u001B[43m[\u001B[49m\u001B[43mx\u001B[49m\u001B[43m,\u001B[49m\u001B[43m \u001B[49m\u001B[43mx\u001B[49m\u001B[43m,\u001B[49m\u001B[43m \u001B[49m\u001B[43mx\u001B[49m\u001B[43m,\u001B[49m\u001B[43m \u001B[49m\u001B[43mx\u001B[49m\u001B[43m]\u001B[49m\u001B[43m,\u001B[49m\u001B[43m \u001B[49m\u001B[43mdim\u001B[49m\u001B[38;5;241;43m=\u001B[39;49m\u001B[38;5;241;43m2\u001B[39;49m\u001B[43m)\u001B[49m\n",
      "\u001B[1;31mIndexError\u001B[0m: Dimension out of range (expected to be in range of [-2, 1], but got 2)"
     ]
    }
   ],
   "execution_count": 277
  },
  {
   "metadata": {},
   "cell_type": "markdown",
   "source": [
    "This will throw an error since the original tensor only has two dimensions, not three. We can simply add another dimension to the original tensor \n",
    "with `tensor.reshape()`."
   ],
   "id": "ecf6b46b7cd0a9f3"
  },
  {
   "metadata": {
    "ExecuteTime": {
     "end_time": "2024-07-10T10:05:21.921872Z",
     "start_time": "2024-07-10T10:05:21.899109Z"
    }
   },
   "cell_type": "code",
   "source": [
    "x_3d = x.reshape(1, 2, 5)\n",
    "x_3d, x_3d.shape"
   ],
   "id": "99699f151a378ec0",
   "outputs": [
    {
     "data": {
      "text/plain": [
       "(tensor([[[11.,  2.,  3.,  4.,  5.],\n",
       "          [ 6.,  7.,  8.,  9., 10.]]]),\n",
       " torch.Size([1, 2, 5]))"
      ]
     },
     "execution_count": 278,
     "metadata": {},
     "output_type": "execute_result"
    }
   ],
   "execution_count": 278
  },
  {
   "metadata": {},
   "cell_type": "markdown",
   "source": "If we perform the stacking on `dim=2` with the 3d tensor it should work.",
   "id": "dc00f1ae4448f3f3"
  },
  {
   "metadata": {
    "ExecuteTime": {
     "end_time": "2024-07-10T10:05:23.062363Z",
     "start_time": "2024-07-10T10:05:23.046962Z"
    }
   },
   "cell_type": "code",
   "source": [
    "x_3d_stacked_dim2 = torch.stack([x_3d, x_3d, x_3d, x_3d], dim=2)\n",
    "x_3d_stacked_dim2, x_3d_stacked_dim2.shape"
   ],
   "id": "c41e60cab02b957e",
   "outputs": [
    {
     "data": {
      "text/plain": [
       "(tensor([[[[11.,  2.,  3.,  4.,  5.],\n",
       "           [11.,  2.,  3.,  4.,  5.],\n",
       "           [11.,  2.,  3.,  4.,  5.],\n",
       "           [11.,  2.,  3.,  4.,  5.]],\n",
       " \n",
       "          [[ 6.,  7.,  8.,  9., 10.],\n",
       "           [ 6.,  7.,  8.,  9., 10.],\n",
       "           [ 6.,  7.,  8.,  9., 10.],\n",
       "           [ 6.,  7.,  8.,  9., 10.]]]]),\n",
       " torch.Size([1, 2, 4, 5]))"
      ]
     },
     "execution_count": 279,
     "metadata": {},
     "output_type": "execute_result"
    }
   ],
   "execution_count": 279
  },
  {
   "metadata": {},
   "cell_type": "markdown",
   "source": "We can now also stack along `dim=3`.",
   "id": "c4510e981510c9c"
  },
  {
   "metadata": {
    "ExecuteTime": {
     "end_time": "2024-07-10T10:05:25.392221Z",
     "start_time": "2024-07-10T10:05:25.367531Z"
    }
   },
   "cell_type": "code",
   "source": [
    "x_3d_stacked_dim3 = torch.stack([x_3d, x_3d, x_3d, x_3d], dim=3)\n",
    "x_3d_stacked_dim3, x_3d_stacked_dim3.shape"
   ],
   "id": "8f5f7ed1a821bc53",
   "outputs": [
    {
     "data": {
      "text/plain": [
       "(tensor([[[[11., 11., 11., 11.],\n",
       "           [ 2.,  2.,  2.,  2.],\n",
       "           [ 3.,  3.,  3.,  3.],\n",
       "           [ 4.,  4.,  4.,  4.],\n",
       "           [ 5.,  5.,  5.,  5.]],\n",
       " \n",
       "          [[ 6.,  6.,  6.,  6.],\n",
       "           [ 7.,  7.,  7.,  7.],\n",
       "           [ 8.,  8.,  8.,  8.],\n",
       "           [ 9.,  9.,  9.,  9.],\n",
       "           [10., 10., 10., 10.]]]]),\n",
       " torch.Size([1, 2, 5, 4]))"
      ]
     },
     "execution_count": 280,
     "metadata": {},
     "output_type": "execute_result"
    }
   ],
   "execution_count": 280
  },
  {
   "metadata": {
    "ExecuteTime": {
     "end_time": "2024-07-10T10:06:08.730951Z",
     "start_time": "2024-07-10T10:06:08.707171Z"
    }
   },
   "cell_type": "code",
   "source": [
    "# Negative dimension indices for indexing from the back\n",
    "torch.stack([x, x, x, x], dim=-2), torch.stack([x, x, x, x], dim=0)"
   ],
   "id": "7f531f9b054169d0",
   "outputs": [
    {
     "data": {
      "text/plain": [
       "(tensor([[11.,  2.,  3.,  4.,  5.,  6.,  7.,  8.,  9., 10.],\n",
       "         [11.,  2.,  3.,  4.,  5.,  6.,  7.,  8.,  9., 10.],\n",
       "         [11.,  2.,  3.,  4.,  5.,  6.,  7.,  8.,  9., 10.],\n",
       "         [11.,  2.,  3.,  4.,  5.,  6.,  7.,  8.,  9., 10.]]),\n",
       " tensor([[11.,  2.,  3.,  4.,  5.,  6.,  7.,  8.,  9., 10.],\n",
       "         [11.,  2.,  3.,  4.,  5.,  6.,  7.,  8.,  9., 10.],\n",
       "         [11.,  2.,  3.,  4.,  5.,  6.,  7.,  8.,  9., 10.],\n",
       "         [11.,  2.,  3.,  4.,  5.,  6.,  7.,  8.,  9., 10.]]))"
      ]
     },
     "execution_count": 283,
     "metadata": {},
     "output_type": "execute_result"
    }
   ],
   "execution_count": 283
  },
  {
   "metadata": {},
   "cell_type": "markdown",
   "source": "Remove all single dimensions with `torch.squeeze(tensor)` or `tensor.squeeze()`.",
   "id": "ab007a8ae7c2065c"
  },
  {
   "metadata": {
    "ExecuteTime": {
     "end_time": "2024-07-10T10:08:41.842108Z",
     "start_time": "2024-07-10T10:08:41.823403Z"
    }
   },
   "cell_type": "code",
   "source": [
    "x_3d_squeezed = x_3d.squeeze()\n",
    "x_3d.shape, x_3d_squeezed.shape"
   ],
   "id": "bc101a5b55d60d7a",
   "outputs": [
    {
     "data": {
      "text/plain": [
       "(torch.Size([1, 2, 5]), torch.Size([2, 5]))"
      ]
     },
     "execution_count": 285,
     "metadata": {},
     "output_type": "execute_result"
    }
   ],
   "execution_count": 285
  },
  {
   "metadata": {},
   "cell_type": "markdown",
   "source": "Add a single dimension with `torch.unsqueeze(tensor, dim)` or `tensor.unsqueeze(dim)`.",
   "id": "a975765ee187e8e4"
  },
  {
   "metadata": {
    "ExecuteTime": {
     "end_time": "2024-07-10T10:13:45.633942Z",
     "start_time": "2024-07-10T10:13:45.613901Z"
    }
   },
   "cell_type": "code",
   "source": [
    "x_unsqueeze_dim0 = x.unsqueeze(0)\n",
    "x_unsqueeze_dim1 = x.unsqueeze(1)\n",
    "x_unsqueeze_dim0.shape, x_unsqueeze_dim1.shape"
   ],
   "id": "6f73c6331406e6f8",
   "outputs": [
    {
     "data": {
      "text/plain": [
       "(torch.Size([1, 10]), torch.Size([10, 1]))"
      ]
     },
     "execution_count": 291,
     "metadata": {},
     "output_type": "execute_result"
    }
   ],
   "execution_count": 291
  },
  {
   "metadata": {
    "ExecuteTime": {
     "end_time": "2024-07-10T10:14:04.850324Z",
     "start_time": "2024-07-10T10:14:04.812467Z"
    }
   },
   "cell_type": "code",
   "source": [
    "# Throws an error\n",
    "x.unsqueeze(2)"
   ],
   "id": "ce5c849032f2dcd5",
   "outputs": [
    {
     "ename": "IndexError",
     "evalue": "Dimension out of range (expected to be in range of [-2, 1], but got 2)",
     "output_type": "error",
     "traceback": [
      "\u001B[1;31m---------------------------------------------------------------------------\u001B[0m",
      "\u001B[1;31mIndexError\u001B[0m                                Traceback (most recent call last)",
      "Cell \u001B[1;32mIn[293], line 2\u001B[0m\n\u001B[0;32m      1\u001B[0m \u001B[38;5;66;03m# Throws an error\u001B[39;00m\n\u001B[1;32m----> 2\u001B[0m \u001B[43mx\u001B[49m\u001B[38;5;241;43m.\u001B[39;49m\u001B[43munsqueeze\u001B[49m\u001B[43m(\u001B[49m\u001B[38;5;241;43m2\u001B[39;49m\u001B[43m)\u001B[49m\n",
      "\u001B[1;31mIndexError\u001B[0m: Dimension out of range (expected to be in range of [-2, 1], but got 2)"
     ]
    }
   ],
   "execution_count": 293
  },
  {
   "metadata": {},
   "cell_type": "markdown",
   "source": "Switch the dimensions of the tensor using `tensor.permute(list of rearranged dimensions)`.",
   "id": "aebed2b82650840f"
  },
  {
   "metadata": {
    "ExecuteTime": {
     "end_time": "2024-07-10T10:18:17.626107Z",
     "start_time": "2024-07-10T10:18:17.601624Z"
    }
   },
   "cell_type": "code",
   "source": [
    "# We want to permute an image tensor s.t. the color dimension is the first\n",
    "img_original = torch.rand(244, 244, 3)\n",
    "img_permuted = img_original.permute([2, 0, 1])\n",
    "img_original.shape, img_permuted.shape"
   ],
   "id": "7730d39b5b33e5b6",
   "outputs": [
    {
     "data": {
      "text/plain": [
       "(torch.Size([244, 244, 3]), torch.Size([3, 244, 244]))"
      ]
     },
     "execution_count": 296,
     "metadata": {},
     "output_type": "execute_result"
    }
   ],
   "execution_count": 296
  },
  {
   "metadata": {},
   "cell_type": "markdown",
   "source": "## Indexing (selecting data from tensors)",
   "id": "5c43e4bbaa1d1715"
  },
  {
   "metadata": {
    "ExecuteTime": {
     "end_time": "2024-07-10T10:20:31.993766Z",
     "start_time": "2024-07-10T10:20:31.969780Z"
    }
   },
   "cell_type": "code",
   "source": [
    "x = torch.arange(1, 10).reshape(1, 3, 3)\n",
    "x, x.shape"
   ],
   "id": "5aab17aa762196ef",
   "outputs": [
    {
     "data": {
      "text/plain": [
       "(tensor([[[1, 2, 3],\n",
       "          [4, 5, 6],\n",
       "          [7, 8, 9]]]),\n",
       " torch.Size([1, 3, 3]))"
      ]
     },
     "execution_count": 298,
     "metadata": {},
     "output_type": "execute_result"
    }
   ],
   "execution_count": 298
  },
  {
   "metadata": {
    "ExecuteTime": {
     "end_time": "2024-07-10T10:20:46.897259Z",
     "start_time": "2024-07-10T10:20:46.879651Z"
    }
   },
   "cell_type": "code",
   "source": [
    "# Get first tensor inside original tensor\n",
    "x[0]"
   ],
   "id": "240618d8aa9eb97f",
   "outputs": [
    {
     "data": {
      "text/plain": [
       "tensor([[1, 2, 3],\n",
       "        [4, 5, 6],\n",
       "        [7, 8, 9]])"
      ]
     },
     "execution_count": 299,
     "metadata": {},
     "output_type": "execute_result"
    }
   ],
   "execution_count": 299
  },
  {
   "metadata": {
    "ExecuteTime": {
     "end_time": "2024-07-10T10:21:10.919003Z",
     "start_time": "2024-07-10T10:21:10.907003Z"
    }
   },
   "cell_type": "code",
   "source": [
    "# Indexing on dim=1\n",
    "x[0][0], x[0, 0]"
   ],
   "id": "e33ec7fb8f46ffb5",
   "outputs": [
    {
     "data": {
      "text/plain": [
       "(tensor([1, 2, 3]), tensor([1, 2, 3]))"
      ]
     },
     "execution_count": 301,
     "metadata": {},
     "output_type": "execute_result"
    }
   ],
   "execution_count": 301
  },
  {
   "metadata": {
    "ExecuteTime": {
     "end_time": "2024-07-10T10:23:06.894020Z",
     "start_time": "2024-07-10T10:23:06.881223Z"
    }
   },
   "cell_type": "code",
   "source": [
    "# Indexing on dim=2\n",
    "x[0][1][1], x[0, 1, 1]"
   ],
   "id": "a404d0e7ccfa63fb",
   "outputs": [
    {
     "data": {
      "text/plain": [
       "(tensor(5), tensor(5))"
      ]
     },
     "execution_count": 303,
     "metadata": {},
     "output_type": "execute_result"
    }
   ],
   "execution_count": 303
  },
  {
   "metadata": {},
   "cell_type": "markdown",
   "source": "Use `:` top select \"all\" of a target dimension.",
   "id": "8950c3561616043c"
  },
  {
   "metadata": {
    "ExecuteTime": {
     "end_time": "2024-07-10T10:24:54.424350Z",
     "start_time": "2024-07-10T10:24:54.408283Z"
    }
   },
   "cell_type": "code",
   "source": [
    "# Get all values of the 0th and 1st dimension but only index 1 of the 2nd dimension.\n",
    "x[:, :, 1]"
   ],
   "id": "cec57346982501c2",
   "outputs": [
    {
     "data": {
      "text/plain": [
       "tensor([[2, 5, 8]])"
      ]
     },
     "execution_count": 304,
     "metadata": {},
     "output_type": "execute_result"
    }
   ],
   "execution_count": 304
  },
  {
   "metadata": {
    "ExecuteTime": {
     "end_time": "2024-07-10T10:26:00.004784Z",
     "start_time": "2024-07-10T10:25:59.978266Z"
    }
   },
   "cell_type": "code",
   "source": [
    "# Get all values of the 0th dimension but only index 1 of the 1st and 2nd dimension.\n",
    "x[:, 1, 1]"
   ],
   "id": "924dc5340eb8e14a",
   "outputs": [
    {
     "data": {
      "text/plain": [
       "tensor([5])"
      ]
     },
     "execution_count": 305,
     "metadata": {},
     "output_type": "execute_result"
    }
   ],
   "execution_count": 305
  },
  {
   "metadata": {
    "ExecuteTime": {
     "end_time": "2024-07-10T10:27:56.858267Z",
     "start_time": "2024-07-10T10:27:56.838924Z"
    }
   },
   "cell_type": "code",
   "source": [
    "# This is the same\n",
    "x[:, 1], x[:, 1, :]"
   ],
   "id": "dc014c8483f4b974",
   "outputs": [
    {
     "data": {
      "text/plain": [
       "(tensor([[4, 5, 6]]), tensor([[4, 5, 6]]))"
      ]
     },
     "execution_count": 308,
     "metadata": {},
     "output_type": "execute_result"
    }
   ],
   "execution_count": 308
  },
  {
   "metadata": {},
   "cell_type": "markdown",
   "source": [
    "## PyTorch and Numpy\n",
    "* Data in NumPy to PyTorch tensor -> `torch.from_numpy(ndarray)`\n",
    "* PyTorch tensor to NumPy -> `torch.Tensor.numpy()`"
   ],
   "id": "34f3dbc37538aa76"
  },
  {
   "metadata": {
    "ExecuteTime": {
     "end_time": "2024-07-10T10:39:08.670607Z",
     "start_time": "2024-07-10T10:39:08.645454Z"
    }
   },
   "cell_type": "code",
   "source": [
    "# PyTorch tensor from NumPy array\n",
    "int_array = np.arange(1, 10)\n",
    "int_32_tensor = torch.from_numpy(int_array)\n",
    "int_array, int_32_tensor"
   ],
   "id": "cea2b9b1236c7d32",
   "outputs": [
    {
     "data": {
      "text/plain": [
       "(array([1, 2, 3, 4, 5, 6, 7, 8, 9]),\n",
       " tensor([1, 2, 3, 4, 5, 6, 7, 8, 9], dtype=torch.int32))"
      ]
     },
     "execution_count": 318,
     "metadata": {},
     "output_type": "execute_result"
    }
   ],
   "execution_count": 318
  },
  {
   "metadata": {},
   "cell_type": "markdown",
   "source": [
    "*Note:* In contrast to PyTorch, NumPy actually creates integer arrays when you pass integers to `np.arange()` and the resulting tesnor will be \n",
    "int32!"
   ],
   "id": "306b545d83267056"
  },
  {
   "metadata": {
    "ExecuteTime": {
     "end_time": "2024-07-10T10:39:09.933079Z",
     "start_time": "2024-07-10T10:39:09.918294Z"
    }
   },
   "cell_type": "code",
   "source": [
    "float_array = np.arange(1., 10.)\n",
    "float_64_tensor = torch.from_numpy(float_array)\n",
    "float_array, float_64_tensor"
   ],
   "id": "cfb8fb931ba76238",
   "outputs": [
    {
     "data": {
      "text/plain": [
       "(array([1., 2., 3., 4., 5., 6., 7., 8., 9.]),\n",
       " tensor([1., 2., 3., 4., 5., 6., 7., 8., 9.], dtype=torch.float64))"
      ]
     },
     "execution_count": 319,
     "metadata": {},
     "output_type": "execute_result"
    }
   ],
   "execution_count": 319
  },
  {
   "metadata": {},
   "cell_type": "markdown",
   "source": [
    "*Note:* In contrast to PyTorch, NumPy uses float64 as default float datatype and not float32 as PyTorch! This means that we might have to change the \n",
    "datatype to float32 to avoid potential datatype issues later down the line."
   ],
   "id": "f2cd4a1320966fae"
  },
  {
   "metadata": {
    "ExecuteTime": {
     "end_time": "2024-07-10T10:39:10.589308Z",
     "start_time": "2024-07-10T10:39:10.575717Z"
    }
   },
   "cell_type": "code",
   "source": [
    "float_32_tensor = torch.from_numpy(float_array.astype(\"float32\"))\n",
    "float_32_tensor"
   ],
   "id": "1ec25150c832202c",
   "outputs": [
    {
     "data": {
      "text/plain": [
       "tensor([1., 2., 3., 4., 5., 6., 7., 8., 9.])"
      ]
     },
     "execution_count": 320,
     "metadata": {},
     "output_type": "execute_result"
    }
   ],
   "execution_count": 320
  },
  {
   "metadata": {
    "ExecuteTime": {
     "end_time": "2024-07-10T10:39:11.586442Z",
     "start_time": "2024-07-10T10:39:11.558937Z"
    }
   },
   "cell_type": "code",
   "source": [
    "float_32_tensor = torch.from_numpy(float_array).type(torch.float32)\n",
    "float_32_tensor"
   ],
   "id": "4fd2768ae03f0b90",
   "outputs": [
    {
     "data": {
      "text/plain": [
       "tensor([1., 2., 3., 4., 5., 6., 7., 8., 9.])"
      ]
     },
     "execution_count": 321,
     "metadata": {},
     "output_type": "execute_result"
    }
   ],
   "execution_count": 321
  },
  {
   "metadata": {
    "ExecuteTime": {
     "end_time": "2024-07-10T10:40:30.474731Z",
     "start_time": "2024-07-10T10:40:30.457494Z"
    }
   },
   "cell_type": "code",
   "source": [
    "# Tensor to NumPy\n",
    "float_32_array = float_32_tensor.numpy()\n",
    "float_32_array"
   ],
   "id": "83bbcb98a9d7f89c",
   "outputs": [
    {
     "data": {
      "text/plain": [
       "array([1., 2., 3., 4., 5., 6., 7., 8., 9.], dtype=float32)"
      ]
     },
     "execution_count": 324,
     "metadata": {},
     "output_type": "execute_result"
    }
   ],
   "execution_count": 324
  },
  {
   "metadata": {},
   "cell_type": "markdown",
   "source": "**Note:** Conversion from NumPy to PyTorch and vice versa retain the original datatype of the array/tensor.",
   "id": "7599b4a5182252b4"
  },
  {
   "metadata": {},
   "cell_type": "markdown",
   "source": [
    "## Reproducibility: trying to remove the random from random\n",
    "The weights of neural networks are usually initialized randomly. The starting point for the weights of the neural network effects the \n",
    "weights at the end of training. However, we often want to have the quality of *reproducibility*, e.g. when sharing your code or publishing a paper.\n",
    "\n",
    "To achieve reproducible randomness, we use *random seeds*."
   ],
   "id": "6e97ede191006d8f"
  },
  {
   "metadata": {
    "ExecuteTime": {
     "end_time": "2024-07-10T10:50:52.985876Z",
     "start_time": "2024-07-10T10:50:52.961035Z"
    }
   },
   "cell_type": "code",
   "source": [
    "random_tensor_A = torch.rand(3, 4)\n",
    "random_tensor_B = torch.rand(3, 4)\n",
    "random_tensor_A, random_tensor_B, random_tensor_A == random_tensor_B"
   ],
   "id": "6ac817577ef44a7a",
   "outputs": [
    {
     "data": {
      "text/plain": [
       "(tensor([[0.1664, 0.5858, 0.6485, 0.6501],\n",
       "         [0.1531, 0.2001, 0.3092, 0.1462],\n",
       "         [0.8469, 0.5949, 0.1607, 0.7096]]),\n",
       " tensor([[0.2094, 0.6273, 0.2818, 0.7761],\n",
       "         [0.7730, 0.9874, 0.3691, 0.4016],\n",
       "         [0.5740, 0.5646, 0.8798, 0.8231]]),\n",
       " tensor([[False, False, False, False],\n",
       "         [False, False, False, False],\n",
       "         [False, False, False, False]]))"
      ]
     },
     "execution_count": 325,
     "metadata": {},
     "output_type": "execute_result"
    }
   ],
   "execution_count": 325
  },
  {
   "metadata": {
    "ExecuteTime": {
     "end_time": "2024-07-10T10:54:40.039328Z",
     "start_time": "2024-07-10T10:54:39.999200Z"
    }
   },
   "cell_type": "code",
   "source": [
    "# With random seed\n",
    "RANDOM_SEED = 42    # some numerical value\n",
    "torch.manual_seed(RANDOM_SEED)\n",
    "random_tensor_C = torch.rand(3, 4)\n",
    "torch.manual_seed(RANDOM_SEED)      # Seed must be set before each random operation\n",
    "random_tensor_D = torch.rand(3, 4)\n",
    "random_tensor_C, random_tensor_D, random_tensor_C == random_tensor_D\n"
   ],
   "id": "ac0769ca8c35888",
   "outputs": [
    {
     "data": {
      "text/plain": [
       "(tensor([[0.8823, 0.9150, 0.3829, 0.9593],\n",
       "         [0.3904, 0.6009, 0.2566, 0.7936],\n",
       "         [0.9408, 0.1332, 0.9346, 0.5936]]),\n",
       " tensor([[0.8823, 0.9150, 0.3829, 0.9593],\n",
       "         [0.3904, 0.6009, 0.2566, 0.7936],\n",
       "         [0.9408, 0.1332, 0.9346, 0.5936]]),\n",
       " tensor([[True, True, True, True],\n",
       "         [True, True, True, True],\n",
       "         [True, True, True, True]]))"
      ]
     },
     "execution_count": 327,
     "metadata": {},
     "output_type": "execute_result"
    }
   ],
   "execution_count": 327
  },
  {
   "metadata": {},
   "cell_type": "markdown",
   "source": [
    "Extra resources for reproducibility:\n",
    "* https://pytorch.org/docs/stable/notes/randomness.html\n",
    "* https://en.wikipedia.org/wiki/Random_seed"
   ],
   "id": "fb692125bc1e6a9a"
  },
  {
   "metadata": {},
   "cell_type": "markdown",
   "source": [
    "## Running tensors and PyTorch objects on GPUs\n",
    "GPUs = parallelization of matrix operations = faster computation"
   ],
   "id": "a95f8cb83a4d4f0"
  },
  {
   "metadata": {},
   "cell_type": "markdown",
   "source": [
    "### Getting a GPU\n",
    "1. Free GPUs on Google Colab, suited for small experiments and projects\n",
    "2. Get your own GPU rack, see https://timdettmers.com/2023/01/30/which-gpu-for-deep-learning/\n",
    "3. Cloud computing on GCP, AWS, Azure, etc."
   ],
   "id": "4986d1cb3d86e72"
  },
  {
   "metadata": {
    "ExecuteTime": {
     "end_time": "2024-07-10T11:09:27.599296Z",
     "start_time": "2024-07-10T11:09:27.508554Z"
    }
   },
   "cell_type": "code",
   "source": "!nvidia-smi",
   "id": "d1ab93daf6ac31c3",
   "outputs": [
    {
     "name": "stderr",
     "output_type": "stream",
     "text": [
      "Der Befehl \"nvidia-smi\" ist entweder falsch geschrieben oder\n",
      "konnte nicht gefunden werden.\n"
     ]
    }
   ],
   "execution_count": 333
  },
  {
   "metadata": {},
   "cell_type": "code",
   "outputs": [],
   "execution_count": null,
   "source": "",
   "id": "816e33f9670dfb97"
  }
 ],
 "metadata": {
  "kernelspec": {
   "display_name": "Python 3 (ipykernel)",
   "name": "python3",
   "language": "python"
  },
  "language_info": {
   "codemirror_mode": {
    "name": "ipython",
    "version": 2
   },
   "file_extension": ".py",
   "mimetype": "text/x-python",
   "name": "python",
   "nbconvert_exporter": "python",
   "pygments_lexer": "ipython2",
   "version": "2.7.6"
  },
  "colab": {
   "provenance": [],
   "gpuType": "T4",
   "include_colab_link": true
  },
  "accelerator": "GPU"
 },
 "nbformat": 4,
 "nbformat_minor": 5
}
