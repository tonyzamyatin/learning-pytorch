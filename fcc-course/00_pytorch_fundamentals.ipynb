{
 "cells": [
  {
   "cell_type": "markdown",
   "metadata": {
    "id": "view-in-github",
    "colab_type": "text"
   },
   "source": [
    "<a href=\"https://colab.research.google.com/github/tonyzamyatin/learning-pytorch/blob/master/fcc-course/00_fundamentals.ipynb\" target=\"_parent\"><img src=\"https://colab.research.google.com/assets/colab-badge.svg\" alt=\"Open In Colab\"/></a>"
   ],
   "id": "e854088648fc0d86"
  },
  {
   "metadata": {
    "id": "9679e277ad1ba877"
   },
   "cell_type": "markdown",
   "source": [
    "# 00. PyTorch Fundamentals\n",
    "**Goal:** Introduction to everything tensors.\n",
    "\n",
    "Reference to online course book: https://www.learnpytorch.io/00_pytorch_fundamentals/"
   ],
   "id": "9679e277ad1ba877"
  },
  {
   "cell_type": "code",
   "id": "initial_id",
   "metadata": {
    "collapsed": true,
    "colab": {
     "base_uri": "https://localhost:8080/"
    },
    "id": "initial_id",
    "outputId": "52d806bd-1369-4ebc-fedc-139315f60318",
    "ExecuteTime": {
     "end_time": "2024-07-10T08:31:37.569789Z",
     "start_time": "2024-07-10T08:31:37.554680Z"
    }
   },
   "source": [
    "import torch\n",
    "import pandas as pd\n",
    "import numpy as np\n",
    "import matplotlib.pyplot as plt\n",
    "print(torch.__version__)"
   ],
   "execution_count": 203,
   "outputs": []
  },
  {
   "cell_type": "markdown",
   "source": [
    "## Introductino to Tensors\n",
    "### Creating Tensors"
   ],
   "metadata": {
    "id": "u9UknfL_zIn6"
   },
   "id": "u9UknfL_zIn6"
  },
  {
   "cell_type": "code",
   "source": [
    "# Scalar\n",
    "s = torch.tensor(7)\n",
    "s"
   ],
   "metadata": {
    "id": "_-J9Qtxuyo-2",
    "outputId": "f9d57c4d-50b6-4d46-f56e-ffaf94ffcb49",
    "colab": {
     "base_uri": "https://localhost:8080/"
    },
    "ExecuteTime": {
     "end_time": "2024-07-10T08:31:38.630579Z",
     "start_time": "2024-07-10T08:31:38.617115Z"
    }
   },
   "id": "_-J9Qtxuyo-2",
   "execution_count": 204,
   "outputs": []
  },
  {
   "cell_type": "code",
   "source": [
    "# Vector\n",
    "v = torch.tensor([7, 7])\n",
    "v"
   ],
   "metadata": {
    "id": "ad586cd7866a9420",
    "ExecuteTime": {
     "end_time": "2024-07-10T08:31:38.757346Z",
     "start_time": "2024-07-10T08:31:38.743586Z"
    },
    "outputId": "1fc85970-6b8d-4c91-d49e-2b8d996be250",
    "colab": {
     "base_uri": "https://localhost:8080/"
    }
   },
   "id": "ad586cd7866a9420",
   "execution_count": 205,
   "outputs": []
  },
  {
   "metadata": {
    "ExecuteTime": {
     "end_time": "2024-07-10T08:31:38.928472Z",
     "start_time": "2024-07-10T08:31:38.913958Z"
    },
    "id": "e6a27f9f4c59955c",
    "outputId": "fd1ced76-f4fb-4ca3-e68f-908242c57edd",
    "colab": {
     "base_uri": "https://localhost:8080/"
    }
   },
   "cell_type": "code",
   "source": [
    "v.ndim"
   ],
   "id": "e6a27f9f4c59955c",
   "execution_count": 206,
   "outputs": []
  },
  {
   "metadata": {
    "ExecuteTime": {
     "end_time": "2024-07-10T08:31:39.100710Z",
     "start_time": "2024-07-10T08:31:39.081397Z"
    },
    "id": "xdQV5ovLzTTX",
    "outputId": "878c66e1-91fa-44a7-c691-49f594f232ef",
    "colab": {
     "base_uri": "https://localhost:8080/"
    }
   },
   "cell_type": "code",
   "source": [
    "v.shape"
   ],
   "id": "xdQV5ovLzTTX",
   "execution_count": 207,
   "outputs": []
  },
  {
   "metadata": {
    "ExecuteTime": {
     "end_time": "2024-07-10T08:31:39.239905Z",
     "start_time": "2024-07-10T08:31:39.232390Z"
    },
    "id": "1ba975ee26c37ea1",
    "outputId": "8c948a3e-b4e4-496c-c8d0-5f5c8534a76f",
    "colab": {
     "base_uri": "https://localhost:8080/"
    }
   },
   "cell_type": "code",
   "source": [
    "# Matrix\n",
    "M = torch.tensor([\n",
    "    [1, 2],\n",
    "    [3, 4]\n",
    "])\n",
    "M"
   ],
   "id": "1ba975ee26c37ea1",
   "execution_count": 208,
   "outputs": []
  },
  {
   "metadata": {
    "ExecuteTime": {
     "end_time": "2024-07-10T08:31:39.410107Z",
     "start_time": "2024-07-10T08:31:39.404110Z"
    },
    "id": "7b48967423426612",
    "outputId": "5b983fb2-0b4c-4d8e-e0aa-f8472c7330c7",
    "colab": {
     "base_uri": "https://localhost:8080/"
    }
   },
   "cell_type": "code",
   "source": [
    "M.ndim"
   ],
   "id": "7b48967423426612",
   "execution_count": 209,
   "outputs": []
  },
  {
   "metadata": {
    "ExecuteTime": {
     "end_time": "2024-07-10T08:31:39.582928Z",
     "start_time": "2024-07-10T08:31:39.564544Z"
    },
    "id": "d90fd134228402f6",
    "outputId": "5236d9e0-9ff7-4740-96de-acb460eb2960",
    "colab": {
     "base_uri": "https://localhost:8080/"
    }
   },
   "cell_type": "code",
   "source": [
    "M.shape"
   ],
   "id": "d90fd134228402f6",
   "execution_count": 210,
   "outputs": []
  },
  {
   "metadata": {
    "ExecuteTime": {
     "end_time": "2024-07-10T08:31:39.738085Z",
     "start_time": "2024-07-10T08:31:39.723062Z"
    },
    "id": "57c9230191d30a56",
    "outputId": "1f1aa2a0-3517-4513-cbdf-81f343e3628b",
    "colab": {
     "base_uri": "https://localhost:8080/"
    }
   },
   "cell_type": "code",
   "source": [
    "# Second row of matrix (a tensor yet again)\n",
    "M[1]"
   ],
   "id": "57c9230191d30a56",
   "execution_count": 211,
   "outputs": []
  },
  {
   "metadata": {
    "ExecuteTime": {
     "end_time": "2024-07-10T08:31:39.893299Z",
     "start_time": "2024-07-10T08:31:39.880790Z"
    },
    "id": "8ec00b9a7d943580",
    "outputId": "b9733cda-9b20-409c-c7ff-4c9913d9d990",
    "colab": {
     "base_uri": "https://localhost:8080/"
    }
   },
   "cell_type": "code",
   "source": [
    "# Tensor, with dim 3*4*2, randomly initialized\n",
    "T = torch.rand(3, 4, 2)\n",
    "T"
   ],
   "id": "8ec00b9a7d943580",
   "execution_count": 212,
   "outputs": []
  },
  {
   "metadata": {
    "ExecuteTime": {
     "end_time": "2024-07-10T08:31:40.049389Z",
     "start_time": "2024-07-10T08:31:40.040395Z"
    },
    "id": "61af037d129d7dc6",
    "outputId": "b9310ca6-33f0-4c23-e3cf-b09794673414",
    "colab": {
     "base_uri": "https://localhost:8080/"
    }
   },
   "cell_type": "code",
   "source": [
    "T.ndim"
   ],
   "id": "61af037d129d7dc6",
   "execution_count": 213,
   "outputs": []
  },
  {
   "metadata": {
    "ExecuteTime": {
     "end_time": "2024-07-10T08:31:40.188490Z",
     "start_time": "2024-07-10T08:31:40.167693Z"
    },
    "id": "3383acab6f95aa1d",
    "outputId": "0e4a07ef-8d97-43d0-f5cb-e146405d4581",
    "colab": {
     "base_uri": "https://localhost:8080/"
    }
   },
   "cell_type": "code",
   "source": [
    "T.shape"
   ],
   "id": "3383acab6f95aa1d",
   "execution_count": 214,
   "outputs": []
  },
  {
   "metadata": {
    "id": "4470b5d64c543204"
   },
   "cell_type": "markdown",
   "source": [
    "The first number of the .shape attribute denotes the number of tensors within the first pair of `[]`, the second number denotes the number of\n",
    "tensors inside the second pair of `[]` (in the three-dimensional case it denotes the number of rows),"
   ],
   "id": "4470b5d64c543204"
  },
  {
   "metadata": {
    "id": "c81872c27c9c554"
   },
   "cell_type": "markdown",
   "source": [
    "### Naming conventions\n",
    "Scalars and vectors have lower case names, matrices and higher dimensional tensors have upper case names."
   ],
   "id": "c81872c27c9c554"
  },
  {
   "metadata": {
    "id": "1c5ff2a60c220265"
   },
   "cell_type": "markdown",
   "source": [
    "## Random Tensors\n",
    "### Why random tensors?\n",
    "Often we want to randomly initialize the parameters of neural networks as an unbiased starting point for training. For this we can use random tensors."
   ],
   "id": "1c5ff2a60c220265"
  },
  {
   "metadata": {
    "ExecuteTime": {
     "end_time": "2024-07-10T08:31:41.907252Z",
     "start_time": "2024-07-10T08:31:41.885483Z"
    },
    "id": "495bb0e632a19a55",
    "outputId": "5954fdb0-e3de-4775-d464-594b914e4c10",
    "colab": {
     "base_uri": "https://localhost:8080/"
    }
   },
   "cell_type": "code",
   "source": [
    "random_img_tensor = torch.rand(224, 224, 3)\n",
    "random_img_tensor.shape, random_img_tensor.ndim"
   ],
   "id": "495bb0e632a19a55",
   "execution_count": 215,
   "outputs": []
  },
  {
   "metadata": {
    "id": "cb8b73f7e61f5f8f"
   },
   "cell_type": "markdown",
   "source": [
    "### Zeros and Ones"
   ],
   "id": "cb8b73f7e61f5f8f"
  },
  {
   "metadata": {
    "id": "53df0e9167dd54d"
   },
   "cell_type": "markdown",
   "source": [
    "Zero tensors are useful for masking rows, columns or sub-tensors of the data tensors of any shape."
   ],
   "id": "53df0e9167dd54d"
  },
  {
   "metadata": {
    "ExecuteTime": {
     "end_time": "2024-07-10T08:31:42.746113Z",
     "start_time": "2024-07-10T08:31:42.723598Z"
    },
    "id": "726faf21ea42f958",
    "outputId": "acc459bd-1cd4-45b3-ba11-22830451ca93",
    "colab": {
     "base_uri": "https://localhost:8080/"
    }
   },
   "cell_type": "code",
   "source": [
    "zeros = torch.zeros(3, 3)\n",
    "zeros"
   ],
   "id": "726faf21ea42f958",
   "execution_count": 216,
   "outputs": []
  },
  {
   "metadata": {
    "ExecuteTime": {
     "end_time": "2024-07-10T08:31:42.934661Z",
     "start_time": "2024-07-10T08:31:42.916008Z"
    },
    "id": "4b0f703946607e64",
    "outputId": "72bbc7a4-0596-425a-cb26-1099891cc46b",
    "colab": {
     "base_uri": "https://localhost:8080/"
    }
   },
   "cell_type": "code",
   "source": [
    "ones = torch.ones(3, 3)\n",
    "ones"
   ],
   "id": "4b0f703946607e64",
   "execution_count": 217,
   "outputs": []
  },
  {
   "metadata": {
    "ExecuteTime": {
     "end_time": "2024-07-10T08:31:43.247568Z",
     "start_time": "2024-07-10T08:31:43.234478Z"
    },
    "id": "365f7717acdb99aa",
    "outputId": "2a2a249d-970a-4ff3-fb5c-ac0be0a81e8b",
    "colab": {
     "base_uri": "https://localhost:8080/"
    }
   },
   "cell_type": "code",
   "source": [
    "zeros.dtype"
   ],
   "id": "365f7717acdb99aa",
   "execution_count": 218,
   "outputs": []
  },
  {
   "metadata": {
    "id": "26ab4c36bb53e7e9"
   },
   "cell_type": "markdown",
   "source": [
    "### Creating a range of tensors and tensor-like"
   ],
   "id": "26ab4c36bb53e7e9"
  },
  {
   "metadata": {
    "ExecuteTime": {
     "end_time": "2024-07-10T08:31:43.576468Z",
     "start_time": "2024-07-10T08:31:43.553370Z"
    },
    "id": "cfddc593cfbf75c",
    "outputId": "3c766a10-dcd0-49ca-d728-51d9f1181a51",
    "colab": {
     "base_uri": "https://localhost:8080/"
    }
   },
   "cell_type": "code",
   "source": [
    "range_tensor = torch.arange(start=0, end=691, step=69)\n",
    "range_tensor"
   ],
   "id": "cfddc593cfbf75c",
   "execution_count": 219,
   "outputs": []
  },
  {
   "metadata": {
    "ExecuteTime": {
     "end_time": "2024-07-10T08:31:43.761347Z",
     "start_time": "2024-07-10T08:31:43.747345Z"
    },
    "id": "88b2e21447a97bd2",
    "outputId": "61879753-fdd8-4795-cf3b-5ea97ad92ef2",
    "colab": {
     "base_uri": "https://localhost:8080/"
    }
   },
   "cell_type": "code",
   "source": [
    "# Creating tensors like\n",
    "eleven_zeros = torch.zeros_like(range_tensor)\n",
    "eleven_zeros, len(eleven_zeros)"
   ],
   "id": "88b2e21447a97bd2",
   "execution_count": 220,
   "outputs": []
  },
  {
   "metadata": {
    "id": "59d4f41fc35fe98f"
   },
   "cell_type": "markdown",
   "source": [
    "## Tensor datatypes\n",
    "*Note:* Tensor datatypes is one of the 3 big errors you will run into with PyTorch and deep learning:\n",
    "1. Tensors not right datatype\n",
    "2. Tensor not right shape\n",
    "3. Tensor not on the right device"
   ],
   "id": "59d4f41fc35fe98f"
  },
  {
   "metadata": {
    "ExecuteTime": {
     "end_time": "2024-07-10T08:31:45.406024Z",
     "start_time": "2024-07-10T08:31:45.393019Z"
    },
    "id": "3d3e1d1f74def9d2",
    "outputId": "9e20fec6-37f9-4a31-b49c-0a34ce9e8bd2",
    "colab": {
     "base_uri": "https://localhost:8080/"
    }
   },
   "cell_type": "code",
   "source": [
    "float_32_tensor = torch.tensor([3., 6., 9.],\n",
    "                               dtype=None,          # datatype of the tensor (e.g. float32, float16)\n",
    "                               device=None,         # the device the tensor is located on\n",
    "                               requires_grad=False) # Tells PyTorch whether to track the gradient with this tensors operation\n",
    "float_32_tensor, float_32_tensor.dtype, float_32_tensor.device, float_32_tensor.requires_grad"
   ],
   "id": "3d3e1d1f74def9d2",
   "execution_count": 221,
   "outputs": []
  },
  {
   "metadata": {
    "id": "ccbe20e4c9b6d3c6"
   },
   "cell_type": "markdown",
   "source": [
    "### Most common datatypes\n",
    "- 32 bit ... single precision\n",
    "- 16 bit ... half precision\n",
    "- 64 bit ... double precision"
   ],
   "id": "ccbe20e4c9b6d3c6"
  },
  {
   "metadata": {
    "ExecuteTime": {
     "end_time": "2024-07-10T08:31:45.888730Z",
     "start_time": "2024-07-10T08:31:45.868214Z"
    },
    "id": "e526c2de7685ef52",
    "outputId": "868fecfe-0fcf-4e7d-ab82-0add6d052776",
    "colab": {
     "base_uri": "https://localhost:8080/"
    }
   },
   "cell_type": "code",
   "source": [
    "float_16_tensor = float_32_tensor.type(torch.float16)   # Change datatype to float16\n",
    "float_16_tensor, float_16_tensor.dtype"
   ],
   "id": "e526c2de7685ef52",
   "execution_count": 222,
   "outputs": []
  },
  {
   "metadata": {
    "ExecuteTime": {
     "end_time": "2024-07-10T08:31:46.030129Z",
     "start_time": "2024-07-10T08:31:46.018506Z"
    },
    "id": "baac965270c20799",
    "outputId": "5d98e85a-ca8e-4e4a-99c5-668307cc63e8",
    "colab": {
     "base_uri": "https://localhost:8080/"
    }
   },
   "cell_type": "code",
   "source": [
    "float_64_tensor = float_32_tensor.type(torch.float64)\n",
    "float_64_tensor, float_64_tensor.dtype"
   ],
   "id": "baac965270c20799",
   "execution_count": 223,
   "outputs": []
  },
  {
   "metadata": {
    "ExecuteTime": {
     "end_time": "2024-07-10T08:31:46.231350Z",
     "start_time": "2024-07-10T08:31:46.218834Z"
    },
    "id": "258008b204ca8056",
    "outputId": "c72c73b0-5616-4362-9453-9bfeca0f9f13",
    "colab": {
     "base_uri": "https://localhost:8080/"
    }
   },
   "cell_type": "code",
   "source": [
    "res_16_32 = float_16_tensor * float_32_tensor\n",
    "res_16_32, res_16_32.dtype"
   ],
   "id": "258008b204ca8056",
   "execution_count": 224,
   "outputs": []
  },
  {
   "metadata": {
    "ExecuteTime": {
     "end_time": "2024-07-10T08:31:46.621207Z",
     "start_time": "2024-07-10T08:31:46.602062Z"
    },
    "id": "587b269baa32a338",
    "outputId": "fea8924c-18ff-4913-a657-7a55ec6cccff",
    "colab": {
     "base_uri": "https://localhost:8080/"
    }
   },
   "cell_type": "code",
   "source": [
    "res_32_64 = float_32_tensor * float_64_tensor\n",
    "res_32_64, res_32_64.dtype"
   ],
   "id": "587b269baa32a338",
   "execution_count": 225,
   "outputs": []
  },
  {
   "metadata": {
    "id": "c05fc1b729e3e3f7"
   },
   "cell_type": "markdown",
   "source": [
    "Some tensor operations work with different tensor datatypes (e.g. by adopting the larger datatype). Other operations (many of the operations\n",
    "during neural network training) will throw on error, however."
   ],
   "id": "c05fc1b729e3e3f7"
  },
  {
   "metadata": {
    "ExecuteTime": {
     "end_time": "2024-07-10T08:31:46.950446Z",
     "start_time": "2024-07-10T08:31:46.942446Z"
    },
    "id": "6ff4c6ca2a82873"
   },
   "cell_type": "code",
   "source": [
    "int_32_tensor = torch.tensor([3, 6, 9], dtype=torch.int32)"
   ],
   "id": "6ff4c6ca2a82873",
   "execution_count": 226,
   "outputs": []
  },
  {
   "metadata": {
    "ExecuteTime": {
     "end_time": "2024-07-10T08:31:47.123389Z",
     "start_time": "2024-07-10T08:31:47.109383Z"
    },
    "id": "85d8dead6fdc4d0f",
    "outputId": "90cef731-fa0c-4793-c78c-ef232179ad86",
    "colab": {
     "base_uri": "https://localhost:8080/"
    }
   },
   "cell_type": "code",
   "source": [
    "res_int_float = int_32_tensor * float_32_tensor\n",
    "res_int_float, res_int_float.dtype"
   ],
   "id": "85d8dead6fdc4d0f",
   "execution_count": 227,
   "outputs": []
  },
  {
   "metadata": {
    "id": "164df75062ca717"
   },
   "cell_type": "markdown",
   "source": [
    "## Getting information from tensors\n",
    "**Tensor attributes:**\n",
    "1. Tensors not right datatype - get information using `tensor.dtype`\n",
    "2. Tensor not right shape - get information using `tensor.shape`\n",
    "3. Tensor not on the right device - get information using `tensor.device`"
   ],
   "id": "164df75062ca717"
  },
  {
   "metadata": {
    "ExecuteTime": {
     "end_time": "2024-07-10T08:31:47.481141Z",
     "start_time": "2024-07-10T08:31:47.462926Z"
    },
    "id": "ee3c316016c2d5bb",
    "outputId": "73d723a7-fed1-42ec-e340-dceb0c952a2a",
    "colab": {
     "base_uri": "https://localhost:8080/"
    }
   },
   "cell_type": "code",
   "source": [
    "some_tensor = torch.rand(3, 4)\n",
    "some_tensor"
   ],
   "id": "ee3c316016c2d5bb",
   "execution_count": 228,
   "outputs": []
  },
  {
   "metadata": {
    "ExecuteTime": {
     "end_time": "2024-07-10T08:31:47.654004Z",
     "start_time": "2024-07-10T08:31:47.636004Z"
    },
    "id": "b3b6391cb3ba031e",
    "outputId": "8b1cc8b1-7d2f-4c5c-9f7f-ee762f8f0dff",
    "colab": {
     "base_uri": "https://localhost:8080/"
    }
   },
   "cell_type": "code",
   "source": [
    "# Size and shape do the same\n",
    "some_tensor.size(), some_tensor.shape"
   ],
   "id": "b3b6391cb3ba031e",
   "execution_count": 229,
   "outputs": []
  },
  {
   "metadata": {
    "ExecuteTime": {
     "end_time": "2024-07-10T08:31:47.826220Z",
     "start_time": "2024-07-10T08:31:47.805056Z"
    },
    "id": "17518d4ab941888b",
    "outputId": "15856611-ba87-4469-f6ce-cafb1a4a787b",
    "colab": {
     "base_uri": "https://localhost:8080/"
    }
   },
   "cell_type": "code",
   "source": [
    "some_tensor.dtype, some_tensor.shape, some_tensor.device"
   ],
   "id": "17518d4ab941888b",
   "execution_count": 230,
   "outputs": []
  },
  {
   "metadata": {
    "ExecuteTime": {
     "end_time": "2024-07-10T08:32:49.519888Z",
     "start_time": "2024-07-10T08:32:49.486750Z"
    },
    "id": "783b5e527efbe678",
    "outputId": "acf415c9-31a9-4332-9329-b4276699799c",
    "colab": {
     "base_uri": "https://localhost:8080/"
    }
   },
   "cell_type": "code",
   "source": [
    "# Change datatype and device of tensor\n",
    "some_tensor.to(dtype=torch.float16, device=\"cuda\")  # Throws error if no NVIDIA GPU with CUDA is available\n",
    "some_tensor.dtype, some_tensor.device"
   ],
   "id": "783b5e527efbe678",
   "execution_count": 231,
   "outputs": []
  },
  {
   "metadata": {
    "id": "34e2db3313366416"
   },
   "cell_type": "markdown",
   "source": [
    "## Manipulating tensors\n",
    "Tensor operations include:\n",
    "* Addition\n",
    "* Subtraction\n",
    "* Multiplication (element-wise)\n",
    "* Division\n",
    "* Matrix multiplication (dot product)"
   ],
   "id": "34e2db3313366416"
  },
  {
   "metadata": {
    "ExecuteTime": {
     "end_time": "2024-07-10T08:32:51.716476Z",
     "start_time": "2024-07-10T08:32:51.693950Z"
    },
    "id": "2c4562a40bf36b54",
    "outputId": "c26ac6ae-0a1f-46f9-a933-a4abb73b224a",
    "colab": {
     "base_uri": "https://localhost:8080/"
    }
   },
   "cell_type": "code",
   "source": [
    "# Add scalar to tensor (creates a tensor-like filled with the scalar to add)\n",
    "tensor = torch.tensor([1, 2, 3])\n",
    "tensor + 10"
   ],
   "id": "2c4562a40bf36b54",
   "execution_count": 232,
   "outputs": []
  },
  {
   "metadata": {
    "ExecuteTime": {
     "end_time": "2024-07-10T08:32:52.031154Z",
     "start_time": "2024-07-10T08:32:52.013199Z"
    },
    "id": "5191c5c6e27e8201",
    "outputId": "ec333e10-cf91-4c51-d57f-755ce74cb495",
    "colab": {
     "base_uri": "https://localhost:8080/"
    }
   },
   "cell_type": "code",
   "source": [
    "# Multiply tensor by scalar\n",
    "tensor * 10"
   ],
   "id": "5191c5c6e27e8201",
   "execution_count": 233,
   "outputs": []
  },
  {
   "metadata": {
    "ExecuteTime": {
     "end_time": "2024-07-10T08:32:52.313074Z",
     "start_time": "2024-07-10T08:32:52.300949Z"
    },
    "id": "2dd3c80948a21c57",
    "outputId": "b4d433f4-f859-401e-a983-1e173835acb0",
    "colab": {
     "base_uri": "https://localhost:8080/"
    }
   },
   "cell_type": "code",
   "source": [
    "# Subtract scalar from tensor\n",
    "tensor - 10"
   ],
   "id": "2dd3c80948a21c57",
   "execution_count": 234,
   "outputs": []
  },
  {
   "metadata": {
    "ExecuteTime": {
     "end_time": "2024-07-10T08:32:53.574736Z",
     "start_time": "2024-07-10T08:32:53.557643Z"
    },
    "id": "c87cf9c99902bc63",
    "outputId": "389f9099-8ef6-4166-cda4-f2560ecaaad9",
    "colab": {
     "base_uri": "https://localhost:8080/"
    }
   },
   "cell_type": "code",
   "source": [
    "# PyTorch in-built functions\n",
    "torch.add(tensor, 10), torch.mul(tensor, 10), torch.subtract(tensor, 10)"
   ],
   "id": "c87cf9c99902bc63",
   "execution_count": 235,
   "outputs": []
  },
  {
   "metadata": {
    "id": "c91b015f7e74221b"
   },
   "cell_type": "markdown",
   "source": [
    "### Rules for matrix mulitplication\n",
    "1. **Inner dimensions** of the two matrices to be multiplied must match, e.g. 3x2 @ 2x3\n",
    "2. The resulting matrix has the shape of the **outer dimensions**"
   ],
   "id": "c91b015f7e74221b"
  },
  {
   "metadata": {
    "ExecuteTime": {
     "end_time": "2024-07-10T09:06:19.324701Z",
     "start_time": "2024-07-10T09:06:19.308013Z"
    },
    "id": "28e76b8bab8fd8ae"
   },
   "cell_type": "code",
   "source": [
    "matrix = torch.rand(10, 3)"
   ],
   "id": "28e76b8bab8fd8ae",
   "execution_count": 236,
   "outputs": []
  },
  {
   "metadata": {
    "ExecuteTime": {
     "end_time": "2024-07-10T09:26:03.756649Z",
     "start_time": "2024-07-10T09:26:03.733023Z"
    },
    "id": "fbff01542cf532e2",
    "outputId": "d1386089-8850-4542-b217-70274fb019f0",
    "colab": {
     "base_uri": "https://localhost:8080/"
    }
   },
   "cell_type": "code",
   "source": [
    "%%time\n",
    "torch.matmul(matrix, matrix.T)    # dot product"
   ],
   "id": "fbff01542cf532e2",
   "execution_count": 237,
   "outputs": []
  },
  {
   "metadata": {
    "ExecuteTime": {
     "end_time": "2024-07-10T09:26:04.395143Z",
     "start_time": "2024-07-10T09:26:04.372429Z"
    },
    "id": "2885e5a6b66d2816",
    "outputId": "6d2fe6e3-ce04-42d6-8747-528c48f77217",
    "colab": {
     "base_uri": "https://localhost:8080/"
    }
   },
   "cell_type": "code",
   "source": [
    "%%time\n",
    "torch.mm(matrix, matrix.T)  # shorthand for torch.matmult\n",
    "# Interestingly enough, torch.mm() does not work with vectors."
   ],
   "id": "2885e5a6b66d2816",
   "execution_count": 238,
   "outputs": []
  },
  {
   "metadata": {
    "ExecuteTime": {
     "end_time": "2024-07-10T09:27:23.652282Z",
     "start_time": "2024-07-10T09:27:23.625400Z"
    },
    "id": "27a9ae07664ba0d9",
    "outputId": "824e33f2-9fb1-451c-9412-9a80dff4f7b6",
    "colab": {
     "base_uri": "https://localhost:8080/"
    }
   },
   "cell_type": "code",
   "source": [
    "%%time\n",
    "# by hand\n",
    "res_matrix = torch.zeros(10, 10)\n",
    "for row in range(matrix.shape[0]):\n",
    "    for col in range(matrix.shape[0]):\n",
    "        res_matrix[row][col] = (matrix[row] * matrix[col]).sum()\n",
    "res_matrix"
   ],
   "id": "27a9ae07664ba0d9",
   "execution_count": 239,
   "outputs": []
  },
  {
   "metadata": {
    "id": "8cca18718adf9f9b"
   },
   "cell_type": "markdown",
   "source": [
    "Apart from the basic matrix operations, computationally intensive operations like matrix multiplication are implemented more efficiently in PyTorch. Therefore, it is recommended to use the PyTorch implementation instead of the Python implementation."
   ],
   "id": "8cca18718adf9f9b"
  },
  {
   "metadata": {
    "ExecuteTime": {
     "end_time": "2024-07-10T09:27:29.732654Z",
     "start_time": "2024-07-10T09:27:29.715111Z"
    },
    "id": "b154d3d6ed9a4828",
    "outputId": "be3983c5-44ea-44c7-b0ac-33ce62a3cd1f",
    "colab": {
     "base_uri": "https://localhost:8080/"
    }
   },
   "cell_type": "code",
   "source": [
    "%%time\n",
    "matrix @ matrix.T"
   ],
   "id": "b154d3d6ed9a4828",
   "execution_count": 240,
   "outputs": []
  },
  {
   "metadata": {
    "id": "c93fa88ecb755749"
   },
   "cell_type": "markdown",
   "source": [
    "This is the shorthand form for matrix multiplication, but may cause confusions regarding which implementation is used when other libraries such as\n",
    "numpy are used which also support the `@`operator"
   ],
   "id": "c93fa88ecb755749"
  },
  {
   "metadata": {
    "id": "c393d631b1a7947e"
   },
   "cell_type": "markdown",
   "source": [
    "## Tensor aggregation\n",
    "min, max, mean, sum\n"
   ],
   "id": "c393d631b1a7947e"
  },
  {
   "metadata": {
    "ExecuteTime": {
     "end_time": "2024-07-10T09:27:31.607640Z",
     "start_time": "2024-07-10T09:27:31.589640Z"
    },
    "id": "fb4de7b6973a9f44",
    "outputId": "d955397f-abed-4ac1-af85-3f350e187cd5",
    "colab": {
     "base_uri": "https://localhost:8080/"
    }
   },
   "cell_type": "code",
   "source": [
    "torch.min(res_matrix), res_matrix.min()"
   ],
   "id": "fb4de7b6973a9f44",
   "execution_count": 241,
   "outputs": []
  },
  {
   "metadata": {
    "ExecuteTime": {
     "end_time": "2024-07-10T09:27:31.955333Z",
     "start_time": "2024-07-10T09:27:31.935828Z"
    },
    "id": "e05058b094c42cd0",
    "outputId": "df6dbe92-4763-4726-cdbb-51870900c35b",
    "colab": {
     "base_uri": "https://localhost:8080/"
    }
   },
   "cell_type": "code",
   "source": [
    "torch.max(res_matrix), res_matrix.max()"
   ],
   "id": "e05058b094c42cd0",
   "execution_count": 242,
   "outputs": []
  },
  {
   "metadata": {
    "ExecuteTime": {
     "end_time": "2024-07-10T09:27:34.715147Z",
     "start_time": "2024-07-10T09:27:34.705004Z"
    },
    "id": "a719da45e12b4f7a",
    "outputId": "509bad40-5ed8-49f0-fd2d-30016ecd9cc3",
    "colab": {
     "base_uri": "https://localhost:8080/"
    }
   },
   "cell_type": "code",
   "source": [
    "torch.mean(res_matrix)"
   ],
   "id": "a719da45e12b4f7a",
   "execution_count": 243,
   "outputs": []
  },
  {
   "metadata": {
    "ExecuteTime": {
     "end_time": "2024-07-10T09:27:36.157594Z",
     "start_time": "2024-07-10T09:27:36.144593Z"
    },
    "id": "f83e3052d15fbc82",
    "outputId": "0433e846-5c49-4867-fe7b-19dbba1f883f",
    "colab": {
     "base_uri": "https://localhost:8080/"
    }
   },
   "cell_type": "code",
   "source": [
    "torch.sum(res_matrix), res_matrix.sum()"
   ],
   "id": "f83e3052d15fbc82",
   "execution_count": 244,
   "outputs": []
  },
  {
   "metadata": {
    "id": "d090d9b245f61bac"
   },
   "cell_type": "markdown",
   "source": [
    "### Positional min and max\n",
    "Positional min and max return the index of the target tensor where the min or max respectively occurs.\n",
    "*Note:* The positional index is also returned by `min()`and `max()` as the second return value."
   ],
   "id": "d090d9b245f61bac"
  },
  {
   "metadata": {
    "ExecuteTime": {
     "end_time": "2024-07-10T09:28:57.947346Z",
     "start_time": "2024-07-10T09:28:57.921685Z"
    },
    "id": "551797731d28b18a",
    "outputId": "e4b6e512-0bac-40b4-97c2-5aaf1feef623",
    "colab": {
     "base_uri": "https://localhost:8080/"
    }
   },
   "cell_type": "code",
   "source": [
    "res_matrix.argmin(dim=0), res_matrix.argmax()"
   ],
   "id": "551797731d28b18a",
   "execution_count": 245,
   "outputs": []
  },
  {
   "metadata": {
    "id": "d99dbde1dc6de32e"
   },
   "cell_type": "markdown",
   "source": [
    "If `dim` is not set, per default the tensor is flattened and the min/max index of the flattened tensor is returned."
   ],
   "id": "d99dbde1dc6de32e"
  },
  {
   "metadata": {
    "ExecuteTime": {
     "end_time": "2024-07-10T09:29:11.895707Z",
     "start_time": "2024-07-10T09:29:11.877244Z"
    },
    "id": "6895e3b302fbeefe",
    "outputId": "afc7b79a-680e-4d48-e7ed-722a21ea417a",
    "colab": {
     "base_uri": "https://localhost:8080/"
    }
   },
   "cell_type": "code",
   "source": [
    "res_matrix.flatten()[res_matrix.argmax().item()]"
   ],
   "id": "6895e3b302fbeefe",
   "execution_count": 246,
   "outputs": []
  },
  {
   "metadata": {
    "id": "c2d4c8513d387f6f"
   },
   "cell_type": "markdown",
   "source": [
    "## Reshaping, stacking, squeezing and unsqueezing tensors\n",
    "* Reshaping - reshapes an input tensor to a defined shape\n",
    "* view - returns a view of an input tensor of a certain shape but keep the same memory as the original tensor\n",
    "* Stacking - concatenate multiple tensors on top of each other (vstack) or side by side(hstack)\n",
    "* Squeeze - remove all `1` dimensions from a tensor\n",
    "* Unqueeze - add a `1` dimension to a target tensor\n",
    "* Permute - return a view of an input tensor with dimensions permuted in a certain way"
   ],
   "id": "c2d4c8513d387f6f"
  },
  {
   "metadata": {
    "ExecuteTime": {
     "end_time": "2024-07-10T09:46:38.030894Z",
     "start_time": "2024-07-10T09:46:38.017351Z"
    },
    "id": "9e68c31d28882842",
    "outputId": "8d9e80ec-c823-45d0-b542-f7712d288abb",
    "colab": {
     "base_uri": "https://localhost:8080/"
    }
   },
   "cell_type": "code",
   "source": [
    "x = torch.arange(1., 11.)\n",
    "x, x.shape"
   ],
   "id": "9e68c31d28882842",
   "execution_count": 247,
   "outputs": []
  },
  {
   "metadata": {
    "ExecuteTime": {
     "end_time": "2024-07-10T09:46:38.230142Z",
     "start_time": "2024-07-10T09:46:38.217567Z"
    },
    "id": "5b6ca1fba7170b84",
    "outputId": "02da6fa1-9104-4241-e321-989c65161982",
    "colab": {
     "base_uri": "https://localhost:8080/"
    }
   },
   "cell_type": "code",
   "source": [
    "# Add extra dimension on 0-th dimension\n",
    "x_reshaped = x.reshape(1, 10)\n",
    "x_reshaped, x_reshaped.shape"
   ],
   "id": "5b6ca1fba7170b84",
   "execution_count": 248,
   "outputs": []
  },
  {
   "metadata": {
    "ExecuteTime": {
     "end_time": "2024-07-10T09:46:38.419097Z",
     "start_time": "2024-07-10T09:46:38.400878Z"
    },
    "id": "a0d32d7b10bb94a",
    "outputId": "18f14eec-5558-4179-8971-68bdf5971635",
    "colab": {
     "base_uri": "https://localhost:8080/"
    }
   },
   "cell_type": "code",
   "source": [
    "# Add extra dimension on the 1-st dimension\n",
    "x_reshaped = x_reshaped.reshape(10, 1)\n",
    "x_reshaped, x_reshaped.shape"
   ],
   "id": "a0d32d7b10bb94a",
   "execution_count": 249,
   "outputs": []
  },
  {
   "metadata": {
    "ExecuteTime": {
     "end_time": "2024-07-10T09:46:38.666460Z",
     "start_time": "2024-07-10T09:46:38.650037Z"
    },
    "id": "4473f9966748c1d9",
    "outputId": "af6cd373-2c42-4c66-cf88-83724cca108f",
    "colab": {
     "base_uri": "https://localhost:8080/"
    }
   },
   "cell_type": "code",
   "source": [
    "x_reshaped = x_reshaped.reshape(2, 5)\n",
    "x_reshaped, x_reshaped.shape"
   ],
   "id": "4473f9966748c1d9",
   "execution_count": 250,
   "outputs": []
  },
  {
   "metadata": {
    "id": "8bce032939959078"
   },
   "cell_type": "markdown",
   "source": [
    "When reshaping a tensor, the number of elements of the input and output tensor must match."
   ],
   "id": "8bce032939959078"
  },
  {
   "metadata": {
    "ExecuteTime": {
     "end_time": "2024-07-10T09:46:39.840888Z",
     "start_time": "2024-07-10T09:46:39.811804Z"
    },
    "id": "20156aa9f92e723f",
    "outputId": "08abc30a-843f-40b0-cbfc-7dd4e942c665",
    "colab": {
     "base_uri": "https://localhost:8080/"
    }
   },
   "cell_type": "code",
   "source": [
    "# Change view\n",
    "z = x.view(1, 10)\n",
    "z, z.shape"
   ],
   "id": "20156aa9f92e723f",
   "execution_count": 251,
   "outputs": []
  },
  {
   "metadata": {
    "id": "6af40e8dfb7169a9"
   },
   "cell_type": "markdown",
   "source": [
    "Same result as with reshaping. However, whereas `tensor.reshape()`creates a deep copy of the tensor, `tensor.view()` creates a shallow copy. This\n",
    "means that\n",
    "changes in one tensor object will be reflected in the other since they both share the same memory."
   ],
   "id": "6af40e8dfb7169a9"
  },
  {
   "metadata": {
    "ExecuteTime": {
     "end_time": "2024-07-10T09:52:23.957313Z",
     "start_time": "2024-07-10T09:52:23.941540Z"
    },
    "id": "aa0e688bc731a48e",
    "outputId": "26325049-e8ee-4c9c-a3ac-d68d06fbd816",
    "colab": {
     "base_uri": "https://localhost:8080/"
    }
   },
   "cell_type": "code",
   "source": [
    "z[:, 0] = 11.\n",
    "z, x"
   ],
   "id": "aa0e688bc731a48e",
   "execution_count": 252,
   "outputs": []
  },
  {
   "metadata": {
    "id": "d9a2ed42faef3103"
   },
   "cell_type": "markdown",
   "source": [
    "We can concatenate tensors along specified dimensions using `torch.stack()`."
   ],
   "id": "d9a2ed42faef3103"
  },
  {
   "metadata": {
    "ExecuteTime": {
     "end_time": "2024-07-10T10:05:20.786646Z",
     "start_time": "2024-07-10T10:05:20.768155Z"
    },
    "id": "c9fac78fafb86a23",
    "outputId": "5b058e4f-4b80-4018-da53-35b2dac28ed1",
    "colab": {
     "base_uri": "https://localhost:8080/"
    }
   },
   "cell_type": "code",
   "source": [
    "# Stack tensors\n",
    "x_hstacked = torch.stack([x, x, x, x], dim=0)\n",
    "x_hstacked, x_hstacked.shape"
   ],
   "id": "c9fac78fafb86a23",
   "execution_count": 253,
   "outputs": []
  },
  {
   "metadata": {
    "ExecuteTime": {
     "end_time": "2024-07-10T10:05:21.023132Z",
     "start_time": "2024-07-10T10:05:21.010051Z"
    },
    "id": "c1c015f053b69adc",
    "outputId": "d554d404-19af-4b89-fc7c-8e67f95b03e3",
    "colab": {
     "base_uri": "https://localhost:8080/"
    }
   },
   "cell_type": "code",
   "source": [
    "x_vstacked = torch.stack([x, x, x, x], dim=1)\n",
    "x_vstacked, x_vstacked.shape"
   ],
   "id": "c1c015f053b69adc",
   "execution_count": 254,
   "outputs": []
  },
  {
   "metadata": {
    "ExecuteTime": {
     "end_time": "2024-07-10T10:05:21.259329Z",
     "start_time": "2024-07-10T10:05:21.204274Z"
    },
    "id": "e88bbf345bebb0d3"
   },
   "cell_type": "code",
   "source": [
    "# Throws an error\n",
    "# torch.stack([x, x, x, x], dim=2)"
   ],
   "id": "e88bbf345bebb0d3",
   "execution_count": 255,
   "outputs": []
  },
  {
   "metadata": {
    "id": "ecf6b46b7cd0a9f3"
   },
   "cell_type": "markdown",
   "source": [
    "This will throw an error since the original tensor only has two dimensions, not three. We can simply add another dimension to the original tensor\n",
    "with `tensor.reshape()`."
   ],
   "id": "ecf6b46b7cd0a9f3"
  },
  {
   "metadata": {
    "ExecuteTime": {
     "end_time": "2024-07-10T10:05:21.921872Z",
     "start_time": "2024-07-10T10:05:21.899109Z"
    },
    "id": "99699f151a378ec0",
    "outputId": "3216d843-87ba-4b70-e03a-5d951dee6a59",
    "colab": {
     "base_uri": "https://localhost:8080/"
    }
   },
   "cell_type": "code",
   "source": [
    "x_3d = x.reshape(1, 2, 5)\n",
    "x_3d, x_3d.shape"
   ],
   "id": "99699f151a378ec0",
   "execution_count": 256,
   "outputs": []
  },
  {
   "metadata": {
    "id": "dc00f1ae4448f3f3"
   },
   "cell_type": "markdown",
   "source": [
    "If we perform the stacking on `dim=2` with the 3d tensor it should work."
   ],
   "id": "dc00f1ae4448f3f3"
  },
  {
   "metadata": {
    "ExecuteTime": {
     "end_time": "2024-07-10T10:05:23.062363Z",
     "start_time": "2024-07-10T10:05:23.046962Z"
    },
    "id": "c41e60cab02b957e",
    "outputId": "b75bdbb3-84d5-43e0-d0ad-7923b41aa2ad",
    "colab": {
     "base_uri": "https://localhost:8080/"
    }
   },
   "cell_type": "code",
   "source": [
    "x_3d_stacked_dim2 = torch.stack([x_3d, x_3d, x_3d, x_3d], dim=2)\n",
    "x_3d_stacked_dim2, x_3d_stacked_dim2.shape"
   ],
   "id": "c41e60cab02b957e",
   "execution_count": 257,
   "outputs": []
  },
  {
   "metadata": {
    "id": "c4510e981510c9c"
   },
   "cell_type": "markdown",
   "source": [
    "We can now also stack along `dim=3`."
   ],
   "id": "c4510e981510c9c"
  },
  {
   "metadata": {
    "ExecuteTime": {
     "end_time": "2024-07-10T10:05:25.392221Z",
     "start_time": "2024-07-10T10:05:25.367531Z"
    },
    "id": "8f5f7ed1a821bc53",
    "outputId": "f24b3c2b-36f7-463b-d548-cc2adbaa7e0c",
    "colab": {
     "base_uri": "https://localhost:8080/"
    }
   },
   "cell_type": "code",
   "source": [
    "x_3d_stacked_dim3 = torch.stack([x_3d, x_3d, x_3d, x_3d], dim=3)\n",
    "x_3d_stacked_dim3, x_3d_stacked_dim3.shape"
   ],
   "id": "8f5f7ed1a821bc53",
   "execution_count": 258,
   "outputs": []
  },
  {
   "metadata": {
    "ExecuteTime": {
     "end_time": "2024-07-10T10:06:08.730951Z",
     "start_time": "2024-07-10T10:06:08.707171Z"
    },
    "id": "7f531f9b054169d0",
    "outputId": "afef19e1-ad3f-4a4a-f87d-2045bc9d08df",
    "colab": {
     "base_uri": "https://localhost:8080/"
    }
   },
   "cell_type": "code",
   "source": [
    "# Negative dimension indices for indexing from the back\n",
    "torch.stack([x, x, x, x], dim=-2), torch.stack([x, x, x, x], dim=0)"
   ],
   "id": "7f531f9b054169d0",
   "execution_count": 259,
   "outputs": []
  },
  {
   "metadata": {
    "id": "ab007a8ae7c2065c"
   },
   "cell_type": "markdown",
   "source": [
    "Remove all single dimensions with `torch.squeeze(tensor)` or `tensor.squeeze()`."
   ],
   "id": "ab007a8ae7c2065c"
  },
  {
   "metadata": {
    "ExecuteTime": {
     "end_time": "2024-07-10T10:08:41.842108Z",
     "start_time": "2024-07-10T10:08:41.823403Z"
    },
    "id": "bc101a5b55d60d7a",
    "outputId": "d69c0f4f-d1e0-41bf-f305-691955bbf8dc",
    "colab": {
     "base_uri": "https://localhost:8080/"
    }
   },
   "cell_type": "code",
   "source": [
    "x_3d_squeezed = x_3d.squeeze()\n",
    "x_3d.shape, x_3d_squeezed.shape"
   ],
   "id": "bc101a5b55d60d7a",
   "execution_count": 260,
   "outputs": []
  },
  {
   "metadata": {
    "id": "a975765ee187e8e4"
   },
   "cell_type": "markdown",
   "source": [
    "Add a single dimension with `torch.unsqueeze(tensor, dim)` or `tensor.unsqueeze(dim)`."
   ],
   "id": "a975765ee187e8e4"
  },
  {
   "metadata": {
    "ExecuteTime": {
     "end_time": "2024-07-10T10:13:45.633942Z",
     "start_time": "2024-07-10T10:13:45.613901Z"
    },
    "id": "6f73c6331406e6f8",
    "outputId": "b41c706c-1a01-4f98-86a2-32adeceb5a18",
    "colab": {
     "base_uri": "https://localhost:8080/"
    }
   },
   "cell_type": "code",
   "source": [
    "x_unsqueeze_dim0 = x.unsqueeze(0)\n",
    "x_unsqueeze_dim1 = x.unsqueeze(1)\n",
    "x_unsqueeze_dim0.shape, x_unsqueeze_dim1.shape"
   ],
   "id": "6f73c6331406e6f8",
   "execution_count": 261,
   "outputs": []
  },
  {
   "metadata": {
    "ExecuteTime": {
     "end_time": "2024-07-10T10:14:04.850324Z",
     "start_time": "2024-07-10T10:14:04.812467Z"
    },
    "id": "ce5c849032f2dcd5"
   },
   "cell_type": "code",
   "source": [
    "# Throws an error\n",
    "# x.unsqueeze(2)"
   ],
   "id": "ce5c849032f2dcd5",
   "execution_count": 262,
   "outputs": []
  },
  {
   "metadata": {
    "id": "aebed2b82650840f"
   },
   "cell_type": "markdown",
   "source": [
    "Switch the dimensions of the tensor using `tensor.permute(list of rearranged dimensions)`."
   ],
   "id": "aebed2b82650840f"
  },
  {
   "metadata": {
    "ExecuteTime": {
     "end_time": "2024-07-10T10:18:17.626107Z",
     "start_time": "2024-07-10T10:18:17.601624Z"
    },
    "id": "7730d39b5b33e5b6",
    "outputId": "239e3326-0814-408e-8029-6363fee0c56e",
    "colab": {
     "base_uri": "https://localhost:8080/"
    }
   },
   "cell_type": "code",
   "source": [
    "# We want to permute an image tensor s.t. the color dimension is the first\n",
    "img_original = torch.rand(244, 244, 3)\n",
    "img_permuted = img_original.permute([2, 0, 1])\n",
    "img_original.shape, img_permuted.shape"
   ],
   "id": "7730d39b5b33e5b6",
   "execution_count": 263,
   "outputs": []
  },
  {
   "metadata": {
    "id": "5c43e4bbaa1d1715"
   },
   "cell_type": "markdown",
   "source": [
    "## Indexing (selecting data from tensors)"
   ],
   "id": "5c43e4bbaa1d1715"
  },
  {
   "metadata": {
    "ExecuteTime": {
     "end_time": "2024-07-10T10:20:31.993766Z",
     "start_time": "2024-07-10T10:20:31.969780Z"
    },
    "id": "5aab17aa762196ef",
    "outputId": "7fda6570-7ab2-4760-8b90-0adbe288f48a",
    "colab": {
     "base_uri": "https://localhost:8080/"
    }
   },
   "cell_type": "code",
   "source": [
    "x = torch.arange(1, 10).reshape(1, 3, 3)\n",
    "x, x.shape"
   ],
   "id": "5aab17aa762196ef",
   "execution_count": 264,
   "outputs": []
  },
  {
   "metadata": {
    "ExecuteTime": {
     "end_time": "2024-07-10T10:20:46.897259Z",
     "start_time": "2024-07-10T10:20:46.879651Z"
    },
    "id": "240618d8aa9eb97f",
    "outputId": "e20db4da-6ef7-4060-cbc9-8ac19e205537",
    "colab": {
     "base_uri": "https://localhost:8080/"
    }
   },
   "cell_type": "code",
   "source": [
    "# Get first tensor inside original tensor\n",
    "x[0]"
   ],
   "id": "240618d8aa9eb97f",
   "execution_count": 265,
   "outputs": []
  },
  {
   "metadata": {
    "ExecuteTime": {
     "end_time": "2024-07-10T10:21:10.919003Z",
     "start_time": "2024-07-10T10:21:10.907003Z"
    },
    "id": "e33ec7fb8f46ffb5",
    "outputId": "744d1a06-8d19-4982-c99c-f443b62e4cde",
    "colab": {
     "base_uri": "https://localhost:8080/"
    }
   },
   "cell_type": "code",
   "source": [
    "# Indexing on dim=1\n",
    "x[0][0], x[0, 0]"
   ],
   "id": "e33ec7fb8f46ffb5",
   "execution_count": 266,
   "outputs": []
  },
  {
   "metadata": {
    "ExecuteTime": {
     "end_time": "2024-07-10T10:23:06.894020Z",
     "start_time": "2024-07-10T10:23:06.881223Z"
    },
    "id": "a404d0e7ccfa63fb",
    "outputId": "ae3ef771-06f0-4392-f997-4c72f393c1a1",
    "colab": {
     "base_uri": "https://localhost:8080/"
    }
   },
   "cell_type": "code",
   "source": [
    "# Indexing on dim=2\n",
    "x[0][1][1], x[0, 1, 1]"
   ],
   "id": "a404d0e7ccfa63fb",
   "execution_count": 267,
   "outputs": []
  },
  {
   "metadata": {
    "id": "8950c3561616043c"
   },
   "cell_type": "markdown",
   "source": [
    "Use `:` top select \"all\" of a target dimension."
   ],
   "id": "8950c3561616043c"
  },
  {
   "metadata": {
    "ExecuteTime": {
     "end_time": "2024-07-10T10:24:54.424350Z",
     "start_time": "2024-07-10T10:24:54.408283Z"
    },
    "id": "cec57346982501c2",
    "outputId": "1cdc6270-0181-4cb2-afce-ca932a86b519",
    "colab": {
     "base_uri": "https://localhost:8080/"
    }
   },
   "cell_type": "code",
   "source": [
    "# Get all values of the 0th and 1st dimension but only index 1 of the 2nd dimension.\n",
    "x[:, :, 1]"
   ],
   "id": "cec57346982501c2",
   "execution_count": 268,
   "outputs": []
  },
  {
   "metadata": {
    "ExecuteTime": {
     "end_time": "2024-07-10T10:26:00.004784Z",
     "start_time": "2024-07-10T10:25:59.978266Z"
    },
    "id": "924dc5340eb8e14a",
    "outputId": "1d890833-0db6-4c60-e77e-0bf8bd78ad97",
    "colab": {
     "base_uri": "https://localhost:8080/"
    }
   },
   "cell_type": "code",
   "source": [
    "# Get all values of the 0th dimension but only index 1 of the 1st and 2nd dimension.\n",
    "x[:, 1, 1]"
   ],
   "id": "924dc5340eb8e14a",
   "execution_count": 269,
   "outputs": []
  },
  {
   "metadata": {
    "ExecuteTime": {
     "end_time": "2024-07-10T10:27:56.858267Z",
     "start_time": "2024-07-10T10:27:56.838924Z"
    },
    "id": "dc014c8483f4b974",
    "outputId": "d26cb23d-6bde-4905-f8e4-50ddf3d2d664",
    "colab": {
     "base_uri": "https://localhost:8080/"
    }
   },
   "cell_type": "code",
   "source": [
    "# This is the same\n",
    "x[:, 1], x[:, 1, :]"
   ],
   "id": "dc014c8483f4b974",
   "execution_count": 270,
   "outputs": []
  },
  {
   "metadata": {
    "id": "34f3dbc37538aa76"
   },
   "cell_type": "markdown",
   "source": [
    "## PyTorch and Numpy\n",
    "* Data in NumPy to PyTorch tensor -> `torch.from_numpy(ndarray)`\n",
    "* PyTorch tensor to NumPy -> `torch.Tensor.numpy()`"
   ],
   "id": "34f3dbc37538aa76"
  },
  {
   "metadata": {
    "ExecuteTime": {
     "end_time": "2024-07-10T10:39:08.670607Z",
     "start_time": "2024-07-10T10:39:08.645454Z"
    },
    "id": "cea2b9b1236c7d32",
    "outputId": "73058a86-7dba-45f1-d81f-67d13222b4cc",
    "colab": {
     "base_uri": "https://localhost:8080/"
    }
   },
   "cell_type": "code",
   "source": [
    "# PyTorch tensor from NumPy array\n",
    "int_array = np.arange(1, 10)\n",
    "int_32_tensor = torch.from_numpy(int_array)\n",
    "int_array, int_32_tensor"
   ],
   "id": "cea2b9b1236c7d32",
   "execution_count": 271,
   "outputs": []
  },
  {
   "metadata": {
    "id": "306b545d83267056"
   },
   "cell_type": "markdown",
   "source": [
    "*Note:* In contrast to PyTorch, NumPy actually creates integer arrays when you pass integers to `np.arange()` and the resulting tesnor will be\n",
    "int32!"
   ],
   "id": "306b545d83267056"
  },
  {
   "metadata": {
    "ExecuteTime": {
     "end_time": "2024-07-10T10:39:09.933079Z",
     "start_time": "2024-07-10T10:39:09.918294Z"
    },
    "id": "cfb8fb931ba76238",
    "outputId": "9f74f19c-c0f6-4dac-d7d1-b34919ac7ea8",
    "colab": {
     "base_uri": "https://localhost:8080/"
    }
   },
   "cell_type": "code",
   "source": [
    "float_array = np.arange(1., 10.)\n",
    "float_64_tensor = torch.from_numpy(float_array)\n",
    "float_array, float_64_tensor"
   ],
   "id": "cfb8fb931ba76238",
   "execution_count": 272,
   "outputs": []
  },
  {
   "metadata": {
    "id": "f2cd4a1320966fae"
   },
   "cell_type": "markdown",
   "source": [
    "*Note:* In contrast to PyTorch, NumPy uses float64 as default float datatype and not float32 as PyTorch! This means that we might have to change the\n",
    "datatype to float32 to avoid potential datatype issues later down the line."
   ],
   "id": "f2cd4a1320966fae"
  },
  {
   "metadata": {
    "ExecuteTime": {
     "end_time": "2024-07-10T10:39:10.589308Z",
     "start_time": "2024-07-10T10:39:10.575717Z"
    },
    "id": "1ec25150c832202c",
    "outputId": "ab558348-2e35-481a-8367-cb6659147a2d",
    "colab": {
     "base_uri": "https://localhost:8080/"
    }
   },
   "cell_type": "code",
   "source": [
    "float_32_tensor = torch.from_numpy(float_array.astype(\"float32\"))\n",
    "float_32_tensor"
   ],
   "id": "1ec25150c832202c",
   "execution_count": 273,
   "outputs": []
  },
  {
   "metadata": {
    "ExecuteTime": {
     "end_time": "2024-07-10T10:39:11.586442Z",
     "start_time": "2024-07-10T10:39:11.558937Z"
    },
    "id": "4fd2768ae03f0b90",
    "outputId": "18869af9-cf44-46b8-93cb-7e008ab423d7",
    "colab": {
     "base_uri": "https://localhost:8080/"
    }
   },
   "cell_type": "code",
   "source": [
    "float_32_tensor = torch.from_numpy(float_array).type(torch.float32)\n",
    "float_32_tensor"
   ],
   "id": "4fd2768ae03f0b90",
   "execution_count": 274,
   "outputs": []
  },
  {
   "metadata": {
    "ExecuteTime": {
     "end_time": "2024-07-10T10:40:30.474731Z",
     "start_time": "2024-07-10T10:40:30.457494Z"
    },
    "id": "83bbcb98a9d7f89c",
    "outputId": "7d0d34f5-eeb8-41d5-e710-c3d6df4e6d57",
    "colab": {
     "base_uri": "https://localhost:8080/"
    }
   },
   "cell_type": "code",
   "source": [
    "# Tensor to NumPy\n",
    "float_32_array = float_32_tensor.numpy()\n",
    "float_32_array"
   ],
   "id": "83bbcb98a9d7f89c",
   "execution_count": 275,
   "outputs": []
  },
  {
   "metadata": {
    "id": "7599b4a5182252b4"
   },
   "cell_type": "markdown",
   "source": [
    "**Note:** Conversion from NumPy to PyTorch and vice versa retain the original datatype of the array/tensor."
   ],
   "id": "7599b4a5182252b4"
  },
  {
   "metadata": {
    "id": "6e97ede191006d8f"
   },
   "cell_type": "markdown",
   "source": [
    "## Reproducibility: trying to remove the random from random\n",
    "The weights of neural networks are usually initialized randomly. The starting point for the weights of the neural network effects the\n",
    "weights at the end of training. However, we often want to have the quality of *reproducibility*, e.g. when sharing your code or publishing a paper.\n",
    "\n",
    "To achieve reproducible randomness, we use *random seeds*."
   ],
   "id": "6e97ede191006d8f"
  },
  {
   "metadata": {
    "ExecuteTime": {
     "end_time": "2024-07-10T10:50:52.985876Z",
     "start_time": "2024-07-10T10:50:52.961035Z"
    },
    "id": "6ac817577ef44a7a",
    "outputId": "e9deac7c-6a0b-44ec-f7de-b244302d664a",
    "colab": {
     "base_uri": "https://localhost:8080/"
    }
   },
   "cell_type": "code",
   "source": [
    "random_tensor_A = torch.rand(3, 4)\n",
    "random_tensor_B = torch.rand(3, 4)\n",
    "random_tensor_A, random_tensor_B, random_tensor_A == random_tensor_B"
   ],
   "id": "6ac817577ef44a7a",
   "execution_count": 276,
   "outputs": []
  },
  {
   "metadata": {
    "ExecuteTime": {
     "end_time": "2024-07-10T10:54:40.039328Z",
     "start_time": "2024-07-10T10:54:39.999200Z"
    },
    "id": "ac0769ca8c35888",
    "outputId": "fe06e393-47ab-480a-fcfc-2917686d82e5",
    "colab": {
     "base_uri": "https://localhost:8080/"
    }
   },
   "cell_type": "code",
   "source": [
    "# With random seed\n",
    "RANDOM_SEED = 42    # some numerical value\n",
    "torch.manual_seed(RANDOM_SEED)\n",
    "random_tensor_C = torch.rand(3, 4)\n",
    "torch.manual_seed(RANDOM_SEED)      # Seed must be set before each random operation\n",
    "random_tensor_D = torch.rand(3, 4)\n",
    "random_tensor_C, random_tensor_D, random_tensor_C == random_tensor_D\n"
   ],
   "id": "ac0769ca8c35888",
   "execution_count": 277,
   "outputs": []
  },
  {
   "metadata": {
    "id": "fb692125bc1e6a9a"
   },
   "cell_type": "markdown",
   "source": [
    "**Note:** Once a random seed is set, the random number generator will generate the same sequences of random numbers when called multiple times. This is why we need to reset the seed manually in line 5 to get the same tensor as in line 4. However, if we remove this line and then run the code cell multiple times, the tensors will always be the same, even when they are different from each other.\n",
    "\n",
    "Explanation on StackOverflow: https://stackoverflow.com/a/51425032\n",
    "\n",
    "Extra resources for reproducibility:\n",
    "* https://pytorch.org/docs/stable/notes/randomness.html\n",
    "* https://en.wikipedia.org/wiki/Random_seed"
   ],
   "id": "fb692125bc1e6a9a"
  },
  {
   "metadata": {
    "id": "a95f8cb83a4d4f0"
   },
   "cell_type": "markdown",
   "source": [
    "## Running tensors and PyTorch objects on GPUs\n",
    "GPUs = parallelization of matrix operations = faster computation"
   ],
   "id": "a95f8cb83a4d4f0"
  },
  {
   "metadata": {
    "id": "4986d1cb3d86e72"
   },
   "cell_type": "markdown",
   "source": [
    "### 1. Getting a GPU\n",
    "1. Free GPUs on Google Colab, suited for small experiments and projects\n",
    "2. Get your own GPU rack, see https://timdettmers.com/2023/01/30/which-gpu-for-deep-learning/\n",
    "3. Cloud computing on GCP, AWS, Azure, etc."
   ],
   "id": "4986d1cb3d86e72"
  },
  {
   "metadata": {
    "ExecuteTime": {
     "end_time": "2024-07-10T11:09:27.599296Z",
     "start_time": "2024-07-10T11:09:27.508554Z"
    },
    "id": "d1ab93daf6ac31c3",
    "outputId": "ccb1e5cd-4b01-495f-8c6c-d4de00baa691",
    "colab": {
     "base_uri": "https://localhost:8080/"
    }
   },
   "cell_type": "code",
   "source": [
    "!nvidia-smi"
   ],
   "id": "d1ab93daf6ac31c3",
   "execution_count": 278,
   "outputs": []
  },
  {
   "cell_type": "markdown",
   "source": [
    "### 2. Check for GPU access with PyTorch"
   ],
   "metadata": {
    "id": "nye7Ua_3Y0oN"
   },
   "id": "nye7Ua_3Y0oN"
  },
  {
   "metadata": {
    "id": "816e33f9670dfb97",
    "outputId": "3e0a8c15-fa2f-44a4-affe-c5ffd4642406",
    "colab": {
     "base_uri": "https://localhost:8080/"
    }
   },
   "cell_type": "code",
   "execution_count": 279,
   "source": [
    "torch.cuda.is_available()"
   ],
   "id": "816e33f9670dfb97",
   "outputs": []
  },
  {
   "cell_type": "markdown",
   "source": [
    "### 3. Write device agnostic code\n",
    "We want to be able to run the code on all machines but use GPUs when they are available.\n",
    "See: https://pytorch.org/docs/stable/notes/cuda.html#best-practices"
   ],
   "metadata": {
    "id": "CF_JAknSZS21"
   },
   "id": "CF_JAknSZS21"
  },
  {
   "cell_type": "code",
   "source": [
    "# Setup device\n",
    "device = \"cuda\" if torch.cuda.is_available() else \"mps\" if torch.device.mps_available() else \"cpu\"\n",
    "torch.device(device)\n",
    "device"
   ],
   "metadata": {
    "id": "KzoIuiTtZKd2",
    "outputId": "134ab5dd-281e-4250-f1e8-48baccf35d90",
    "colab": {
     "base_uri": "https://localhost:8080/",
     "height": 36
    }
   },
   "id": "KzoIuiTtZKd2",
   "execution_count": 280,
   "outputs": []
  },
  {
   "cell_type": "code",
   "source": [
    "torch.cuda.device_count()"
   ],
   "metadata": {
    "id": "qeCnS9hQapGR",
    "outputId": "163de907-430f-4943-fc59-94ed40971513",
    "colab": {
     "base_uri": "https://localhost:8080/"
    }
   },
   "id": "qeCnS9hQapGR",
   "execution_count": 281,
   "outputs": []
  },
  {
   "cell_type": "markdown",
   "source": [
    "### 4. Putting tensors and models on the GPU"
   ],
   "metadata": {
    "id": "KsBoV4-Ubevo"
   },
   "id": "KsBoV4-Ubevo"
  },
  {
   "cell_type": "code",
   "source": [
    "# Per default tensors are initialized to use CPU\n",
    "tensor = torch.tensor([1, 2, 3])\n",
    "tensor.device"
   ],
   "metadata": {
    "id": "rS1EOqqIav3r",
    "outputId": "468d493b-4e9c-4091-e60f-2a14af2a5434",
    "colab": {
     "base_uri": "https://localhost:8080/"
    }
   },
   "id": "rS1EOqqIav3r",
   "execution_count": 282,
   "outputs": []
  },
  {
   "cell_type": "code",
   "source": [
    "# Move tensor to GPU\n",
    "tensor_on_gpu = tensor.to(device)\n",
    "tensor_on_gpu   # On gpu or mps if available"
   ],
   "metadata": {
    "id": "BzODg_kHbn4F",
    "outputId": "43f2bef7-1693-430c-ca47-abca6efa2d26",
    "colab": {
     "base_uri": "https://localhost:8080/"
    }
   },
   "id": "BzODg_kHbn4F",
   "execution_count": 283,
   "outputs": []
  },
  {
   "cell_type": "markdown",
   "source": [
    "### 5. Moving tensors back to CPU"
   ],
   "metadata": {
    "id": "5yljwjl8cFu1"
   },
   "id": "5yljwjl8cFu1"
  },
  {
   "cell_type": "code",
   "source": [
    "# Throws an error because NumPy only works on CPU\n",
    "# tensor_on_gpu.numpy()"
   ],
   "metadata": {
    "id": "3dGiTiL6cLVs"
   },
   "id": "3dGiTiL6cLVs",
   "execution_count": 284,
   "outputs": []
  },
  {
   "cell_type": "code",
   "source": [
    "tensor_on_cpu = tensor_on_gpu.cpu() # Returns copy of tensor object in CPU memory\n",
    "tensor_on_cpu.numpy()"
   ],
   "metadata": {
    "id": "sRTCzft3cWZt",
    "outputId": "cfadcb81-0dad-4f37-aa87-5c9408b747fc",
    "colab": {
     "base_uri": "https://localhost:8080/"
    }
   },
   "id": "sRTCzft3cWZt",
   "execution_count": 285,
   "outputs": []
  },
  {
   "cell_type": "markdown",
   "source": [
    "## Exercises"
   ],
   "metadata": {
    "id": "oabvYgNEdWWa"
   },
   "id": "oabvYgNEdWWa"
  },
  {
   "cell_type": "markdown",
   "source": [
    "1. Documentation reading - A big part of deep learning (and learning to code in general) is getting familiar with the documentation of a certain framework you're using. We'll be using the PyTorch documentation a lot throughout the rest of this course. So I'd recommend spending 10-minutes reading the following (it's okay if you don't get some things for now, the focus is not yet full understanding, it's awareness). See the documentation on `torch.Tensor` and for `torch.cuda`."
   ],
   "metadata": {
    "id": "u8Z7UFzQo48t"
   },
   "id": "u8Z7UFzQo48t"
  },
  {
   "cell_type": "markdown",
   "source": [
    "2. Create a random tensor with `shape (7, 7)`."
   ],
   "metadata": {
    "id": "okr6hWO1o8dM"
   },
   "id": "okr6hWO1o8dM"
  },
  {
   "cell_type": "code",
   "source": [
    "torch.manual_seed(RANDOM_SEED)\n",
    "tensor_A = torch.rand(7, 7)\n",
    "tensor_A"
   ],
   "metadata": {
    "id": "v3gVO8LDcgvb",
    "outputId": "166b7f28-8744-4ed8-92c9-51f6c3395b37",
    "colab": {
     "base_uri": "https://localhost:8080/"
    }
   },
   "id": "v3gVO8LDcgvb",
   "execution_count": 286,
   "outputs": []
  },
  {
   "cell_type": "markdown",
   "source": [
    "3. Perform a matrix multiplication on the tensor from 2 with another random tensor with `shape (1, 7)` (hint: you may have to transpose the second tensor)."
   ],
   "metadata": {
    "id": "fYGoMfqxp_Xr"
   },
   "id": "fYGoMfqxp_Xr"
  },
  {
   "cell_type": "code",
   "source": [
    "torch.manual_seed(RANDOM_SEED)\n",
    "tensor_B = torch.rand(1, 7)\n",
    "torch.matmul(tensor_A, tensor_B.mT)"
   ],
   "metadata": {
    "id": "jpEj19ZTpd7y",
    "outputId": "ec83a80c-fc51-491d-948e-d4e6514de02c",
    "colab": {
     "base_uri": "https://localhost:8080/"
    }
   },
   "id": "jpEj19ZTpd7y",
   "execution_count": 287,
   "outputs": []
  },
  {
   "cell_type": "markdown",
   "source": [
    "4. Set the random seed to 0 and do exercises 2 & 3 over again."
   ],
   "metadata": {
    "id": "1UdhKKj_qXsh"
   },
   "id": "1UdhKKj_qXsh"
  },
  {
   "cell_type": "code",
   "source": [
    "torch.manual_seed(0)\n",
    "tensor_C = torch.rand(7, 7)\n",
    "tensor_D = torch.rand(1, 7)\n",
    "torch.matmul(tensor_C, tensor_D.mT)"
   ],
   "metadata": {
    "id": "mzZY-2bvqMJh"
   },
   "id": "mzZY-2bvqMJh",
   "execution_count": 296,
   "outputs": []
  },
  {
   "cell_type": "markdown",
   "source": [
    "5. Speaking of random seeds, we saw how to set it with `torch.manual_seed()` but is there a GPU equivalent? (hint: you'll need to look into the documentation for `torch.cuda` for this one). If there is, set the GPU random seed to 1234."
   ],
   "metadata": {
    "id": "5dkV_e0ysgVQ"
   },
   "id": "5dkV_e0ysgVQ"
  },
  {
   "cell_type": "code",
   "source": [
    "torch.cuda.manual_seed(RANDOM_SEED)\n",
    "tensor_on_gpu = torch.rand(size=(7, 7), device=\"cuda\")\n",
    "tensor_on_gpu"
   ],
   "metadata": {
    "id": "_qsKcfLcqyMn",
    "outputId": "402bf78a-b370-4604-ff37-bda2c830250a",
    "colab": {
     "base_uri": "https://localhost:8080/"
    }
   },
   "id": "_qsKcfLcqyMn",
   "execution_count": 289,
   "outputs": []
  },
  {
   "cell_type": "markdown",
   "source": [
    "6. Create two random tensors of `shape (2, 3)` and send them both to the GPU (you'll need access to a GPU for this). Set `torch.manual_seed(1234)` when creating the tensors (this doesn't have to be the GPU random seed)."
   ],
   "metadata": {
    "id": "A1c-fHqutqXH"
   },
   "id": "A1c-fHqutqXH"
  },
  {
   "cell_type": "code",
   "source": [
    "device = \"cuda\" if torch.cuda.is_available() else \"mps\" if torch.device.mps_available() else \"cpu\"\n",
    "\n",
    "torch.manual_seed(1234)\n",
    "tensor_E = torch.rand(2, 3)\n",
    "tensor_F = torch.rand_like(tensor_E)\n",
    "tensor_E_on_gpu = tensor_E.to(device)\n",
    "tensor_F_on_gpu = tensor_F.to(device)\n",
    "tensor_E_on_gpu, tensor_F_on_gpu"
   ],
   "metadata": {
    "id": "mLkc6lK6tIgr",
    "outputId": "3b6e80e2-9c37-46a2-81c2-2e8b0328fc6a",
    "colab": {
     "base_uri": "https://localhost:8080/"
    }
   },
   "id": "mLkc6lK6tIgr",
   "execution_count": 294,
   "outputs": []
  },
  {
   "cell_type": "markdown",
   "source": [
    "7. Perform a matrix multiplication on the tensors you created in 6 (again, you may have to adjust the shapes of one of the tensors)."
   ],
   "metadata": {
    "id": "2FctQXbwwoZX"
   },
   "id": "2FctQXbwwoZX"
  },
  {
   "cell_type": "code",
   "source": [
    "%%time\n",
    "torch.matmul(tensor_E, tensor_F.mT)"
   ],
   "metadata": {
    "id": "wlwqivgWwVEO",
    "outputId": "d90e3654-894a-4b9c-8984-5e1d52a5b413",
    "colab": {
     "base_uri": "https://localhost:8080/"
    }
   },
   "id": "wlwqivgWwVEO",
   "execution_count": 300,
   "outputs": []
  },
  {
   "cell_type": "code",
   "source": [
    "%%time\n",
    "res = torch.matmul(tensor_E_on_gpu, tensor_F_on_gpu.mT)\n",
    "res"
   ],
   "metadata": {
    "id": "sJpjoBGfuBd2",
    "outputId": "5295655a-2da0-4643-aefc-b715f4724fc9",
    "colab": {
     "base_uri": "https://localhost:8080/"
    }
   },
   "id": "sJpjoBGfuBd2",
   "execution_count": 302,
   "outputs": []
  },
  {
   "cell_type": "markdown",
   "source": [
    "8. Find the maximum and minimum values of the output of 7."
   ],
   "metadata": {
    "id": "hz_sY8YkwkYr"
   },
   "id": "hz_sY8YkwkYr"
  },
  {
   "cell_type": "code",
   "source": [
    "res.min(), res.max()"
   ],
   "metadata": {
    "id": "LSG9x2QuwdTl",
    "outputId": "81531d0c-fadb-498f-87dd-e5aaa78a2050",
    "colab": {
     "base_uri": "https://localhost:8080/"
    }
   },
   "id": "LSG9x2QuwdTl",
   "execution_count": 303,
   "outputs": []
  },
  {
   "cell_type": "markdown",
   "source": [
    "9. Find the maximum and minimum index values of the output of 7."
   ],
   "metadata": {
    "id": "Fl9DtTRiw4zb"
   },
   "id": "Fl9DtTRiw4zb"
  },
  {
   "cell_type": "code",
   "source": [
    "res.argmin(), res.argmax()"
   ],
   "metadata": {
    "id": "KXnwYSGQw0dl",
    "outputId": "943614cb-2fa7-46d8-cc5e-845e693f0ccd",
    "colab": {
     "base_uri": "https://localhost:8080/"
    }
   },
   "id": "KXnwYSGQw0dl",
   "execution_count": 304,
   "outputs": []
  },
  {
   "cell_type": "markdown",
   "source": [
    "10. Make a random tensor with `shape (1, 1, 1, 10)` and then create a new tensor with all the 1 dimensions removed to be left with a tensor of `shape (10)`. Set the seed to 7 when you create it and print out the first tensor and it's shape as well as the second tensor and it's shape."
   ],
   "metadata": {
    "id": "TQrw6E2txDSc"
   },
   "id": "TQrw6E2txDSc"
  },
  {
   "cell_type": "code",
   "source": [
    "torch.manual_seed(7)\n",
    "tensor_G = torch.rand(1, 1, 1, 10)\n",
    "tensor_G_squeezed = tensor_G.squeeze()\n",
    "print(f\"\"\"\n",
    "  First tensor:\n",
    "  {tensor_G}\n",
    "  shape: {tensor_G.shape}\n",
    "\n",
    "  Second tensor:\n",
    "  {tensor_G_squeezed}\n",
    "  shape: {tensor_G_squeezed.shape}\n",
    "\"\"\")"
   ],
   "metadata": {
    "id": "jViajyvCw9ZW",
    "outputId": "03aae85f-4631-4ca7-aa83-686fb9e8b47b",
    "colab": {
     "base_uri": "https://localhost:8080/"
    }
   },
   "id": "jViajyvCw9ZW",
   "execution_count": 309,
   "outputs": []
  }
 ],
 "metadata": {
  "kernelspec": {
   "display_name": "Python 3",
   "name": "python3"
  },
  "language_info": {
   "codemirror_mode": {
    "name": "ipython",
    "version": 2
   },
   "file_extension": ".py",
   "mimetype": "text/x-python",
   "name": "python",
   "nbconvert_exporter": "python",
   "pygments_lexer": "ipython2",
   "version": "2.7.6"
  },
  "colab": {
   "provenance": [],
   "gpuType": "T4",
   "include_colab_link": true
  },
  "accelerator": "GPU"
 },
 "nbformat": 4,
 "nbformat_minor": 5
}
