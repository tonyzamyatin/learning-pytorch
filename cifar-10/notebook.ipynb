{
 "cells": [
  {
   "cell_type": "code",
   "execution_count": 1,
   "id": "initial_id",
   "metadata": {
    "ExecuteTime": {
     "end_time": "2024-07-07T11:29:21.765990Z",
     "start_time": "2024-07-07T11:29:16.451906Z"
    },
    "collapsed": true,
    "jupyter": {
     "outputs_hidden": true
    }
   },
   "source": [
    "import torch\n",
    "import torchvision\n",
    "import torchvision.transforms as transforms\n",
    "from torch import nn"
   ],
   "outputs": []
  },
  {
   "cell_type": "markdown",
   "id": "4aa66d9d51e7ec82",
   "metadata": {},
   "source": [
    "Define transform to convert the PIL images to tensors and normalize them to the range [-1, 1]."
   ]
  },
  {
   "cell_type": "code",
   "id": "a55076e8538b8373",
   "metadata": {
    "ExecuteTime": {
     "end_time": "2024-07-07T16:02:24.081145Z",
     "start_time": "2024-07-07T16:02:24.066072Z"
    }
   },
   "source": [
    "transform = transforms.Compose(\n",
    "    [transforms.ToTensor(),\n",
    "     transforms.Normalize((0.5, 0.5, 0.5), (0.5, 0.5, 0.5))])"
   ],
   "execution_count": 33,
   "outputs": []
  },
  {
   "cell_type": "markdown",
   "id": "5ec54d9c44817fa8",
   "metadata": {},
   "source": [
    "Define the batch size."
   ]
  },
  {
   "cell_type": "code",
   "id": "62b7284add1370e3",
   "metadata": {
    "ExecuteTime": {
     "end_time": "2024-07-07T15:59:49.339064Z",
     "start_time": "2024-07-07T15:59:49.334265Z"
    }
   },
   "source": [
    "batch_size = 4"
   ],
   "execution_count": 24,
   "outputs": []
  },
  {
   "cell_type": "markdown",
   "id": "1117eda915b74396",
   "metadata": {},
   "source": [
    "Load the training and test datasets."
   ]
  },
  {
   "metadata": {},
   "cell_type": "markdown",
   "source": "",
   "id": "fbc358fbd57e64d0"
  },
  {
   "cell_type": "code",
   "id": "1a913f09ea3b1a71",
   "metadata": {
    "ExecuteTime": {
     "end_time": "2024-07-07T16:02:57.806066Z",
     "start_time": "2024-07-07T16:02:56.114450Z"
    }
   },
   "source": [
    "trainset = torchvision.datasets.CIFAR10(root='./data', train=True, download=True, transform=transform)\n",
    "trainloader = torch.utils.data.DataLoader(trainset, batch_size=batch_size, shuffle=True, num_workers=2)\n",
    "\n",
    "testset = torchvision.datasets.CIFAR10(root='./data', train=False, download=True, transform=transform)\n",
    "testloader = torch.utils.data.DataLoader(testset, batch_size=batch_size, shuffle=False, num_workers=2)\n",
    "\n",
    "classes = ('plane', 'car', 'bird', 'cat', 'deer', 'dog', 'frog', 'horse', 'ship', 'truck')"
   ],
   "execution_count": 36,
   "outputs": []
  },
  {
   "cell_type": "markdown",
   "id": "1cbb367fda6b7c99",
   "metadata": {},
   "source": [
    "Visualize some of the training images."
   ]
  },
  {
   "cell_type": "code",
   "id": "f8cab32ca368e164",
   "metadata": {
    "ExecuteTime": {
     "end_time": "2024-07-07T16:03:17.806183Z",
     "start_time": "2024-07-07T16:03:08.444199Z"
    }
   },
   "source": [
    "import matplotlib.pyplot as plt\n",
    "import numpy as np\n",
    "\n",
    "# functions to show an image\n",
    "\n",
    "\n",
    "def imshow(img):\n",
    "    img = img / 2 + 0.5     # unnormalize\n",
    "    print(img.size())\n",
    "    npimg = img.numpy()\n",
    "    print(npimg.shape)\n",
    "    npimg = np.transpose(npimg, (1, 2, 0))\n",
    "    print(npimg.shape)\n",
    "    plt.imshow(npimg)\n",
    "    plt.show()\n",
    "\n",
    "\n",
    "# get some random training images\n",
    "dataiter = iter(trainloader)\n",
    "images, labels = next(dataiter)\n",
    "print(images.size())\n",
    "\n",
    "# show images\n",
    "imshow(torchvision.utils.make_grid(images))\n",
    "# print labels\n",
    "print(' '.join(f'{classes[labels[j]]:5s}' for j in range(batch_size)))\n"
   ],
   "execution_count": 37,
   "outputs": []
  },
  {
   "cell_type": "markdown",
   "id": "c46511059a82f490",
   "metadata": {},
   "source": [
    "Build model"
   ]
  },
  {
   "cell_type": "code",
   "execution_count": null,
   "id": "d1e562b08396dfc5",
   "metadata": {},
   "source": [
    "device = (\n",
    "    \"cuda\"\n",
    "    if torch.cuda.is_available()\n",
    "    else \"mps\"\n",
    "    if torch.backends.mps.is_available()\n",
    "    else \"cpu\"\n",
    ")\n",
    "\n",
    "class NN(nn.Module):\n",
    "    def __init__(self):\n",
    "        super().__init__()\n",
    "        self.flatten = nn.Flatten()\n",
    "        self.linear_relu_stack = [\n",
    "            nn.Linear(32*32, 512),\n",
    "            nn.ReLU(),\n",
    "            nn.Linear(512, 512).\n",
    "            nn.ReLU(),\n",
    "            nn.Linear(512, len(classes))\n",
    "        ]\n",
    "        \n",
    "    def forward(self, x):\n",
    "        x = self.flatten(x)\n",
    "        logits = self.linear_relu_stack(x)\n",
    "        return logits\n",
    "    \n",
    "    \n",
    "class CNN(nn.Module):\n",
    "    def __init__(self):\n",
    "        super().__init__()\n",
    "        "
   ],
   "outputs": []
  },
  {
   "cell_type": "markdown",
   "id": "da75de083486c24d",
   "metadata": {},
   "source": [
    "Define optimization loop"
   ]
  },
  {
   "cell_type": "code",
   "execution_count": null,
   "id": "1c5d5826936ba6f5",
   "metadata": {},
   "source": [],
   "outputs": []
  },
  {
   "cell_type": "markdown",
   "id": "4a61d7578fb6095f",
   "metadata": {},
   "source": [
    "Evaluate model"
   ]
  },
  {
   "cell_type": "code",
   "execution_count": null,
   "id": "79155bd6c13bc3a8",
   "metadata": {},
   "source": [],
   "outputs": []
  }
 ],
 "metadata": {
  "kernelspec": {
   "display_name": "Python 3 (ipykernel)",
   "language": "python",
   "name": "python3"
  },
  "language_info": {
   "codemirror_mode": {
    "name": "ipython",
    "version": 3
   },
   "file_extension": ".py",
   "mimetype": "text/x-python",
   "name": "python",
   "nbconvert_exporter": "python",
   "pygments_lexer": "ipython3",
   "version": "3.9.19"
  }
 },
 "nbformat": 4,
 "nbformat_minor": 5
}
